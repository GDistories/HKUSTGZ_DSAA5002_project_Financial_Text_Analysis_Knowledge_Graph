{
 "cells": [
  {
   "cell_type": "markdown",
   "source": [
    "# Task 2: Application of Knowledge Graph"
   ],
   "metadata": {
    "collapsed": false
   },
   "id": "ffc4947e8bbb936b"
  },
  {
   "cell_type": "markdown",
   "source": [
    "## Question 3: Constructing a Knowledge Graph\n",
    "\n",
    "在这一部分，我们将使用Neo4j图数据库来根据[KnowledgeGraph文件夹](../KnowledgeGraph)下的数据构建一个知识图谱。\n",
    "我们可以看到，这个知识图谱包含了公司节点和公司之间的关系，其中公司节点的属性包括公司名称、公司代码和公司标签，公司之间的关系包括竞争、合作、纠纷、投资、同行业和供应关系。\n",
    "\n",
    "以下是我们将要使用的数据文件：\n",
    "- [hidy.nodes.company.csv](../KnowledgeGraph/hidy.nodes.company.csv): 公司节点\n",
    "- [hidy.relationships.compete.csv](../KnowledgeGraph/hidy.relationships.compete.csv): 竞争关系\n",
    "- [hidy.relationships.cooperate.csv](../KnowledgeGraph/hidy.relationships.cooperate.csv): 合作关系\n",
    "- [hidy.relationships.dispute.csv](../KnowledgeGraph/hidy.relationships.dispute.csv): 纠纷关系\n",
    "- [hidy.relationships.invest.csv](../KnowledgeGraph/hidy.relationships.invest.csv): 投资关系\n",
    "- [hidy.relationships.same_industry.csv](../KnowledgeGraph/hidy.relationships.same_industry.csv): 同行业关系\n",
    "- [hidy.relationships.supply.csv](../KnowledgeGraph/hidy.relationships.supply.csv): 供应关系\n",
    "\n",
    "In this part, we will use Neo4j graph database to construct a knowledge graph based on the data under the [KnowledgeGraph folder](../KnowledgeGraph).\n",
    "We can see that this knowledge graph contains company nodes and relationships between companies, where the attributes of company nodes include company name, company code and company label, and the relationships between companies include competition, cooperation, dispute, investment, same industry and supply relationships.\n",
    "\n",
    "The following are the data files we will use:\n",
    "- [hidy.nodes.company.csv](../KnowledgeGraph/hidy.nodes.company.csv): Company nodes\n",
    "- [hidy.relationships.compete.csv](../KnowledgeGraph/hidy.relationships.compete.csv): Compete relationships\n",
    "- [hidy.relationships.cooperate.csv](../KnowledgeGraph/hidy.relationships.cooperate.csv): Cooperate relationships\n",
    "- [hidy.relationships.dispute.csv](../KnowledgeGraph/hidy.relationships.dispute.csv): Dispute relationships\n",
    "- [hidy.relationships.invest.csv](../KnowledgeGraph/hidy.relationships.invest.csv): Invest relationships\n",
    "- [hidy.relationships.same_industry.csv](../KnowledgeGraph/hidy.relationships.same_industry.csv): Same industry relationships\n",
    "- [hidy.relationships.supply.csv](../KnowledgeGraph/hidy.relationships.supply.csv): Supply relationships"
   ],
   "metadata": {
    "collapsed": false
   },
   "id": "be8cf38a2a4e99c"
  },
  {
   "cell_type": "markdown",
   "source": [
    "首先，我们连接到Neo4j数据库，然后读取数据文件。"
   ],
   "metadata": {
    "collapsed": false
   },
   "id": "6da6d00cbc1689b8"
  },
  {
   "cell_type": "code",
   "execution_count": 8,
   "id": "initial_id",
   "metadata": {
    "collapsed": true,
    "ExecuteTime": {
     "end_time": "2023-11-27T01:33:02.553764Z",
     "start_time": "2023-11-27T01:33:02.532951Z"
    }
   },
   "outputs": [],
   "source": [
    "import pandas as pd\n",
    "from neo4j import GraphDatabase\n",
    "from tqdm import tqdm\n",
    "\n",
    "# 这一部分，请根据自己的neo4j数据库的用户名和密码来修改\n",
    "# Please modify the username and password of your neo4j database\n",
    "uri = \"neo4j://localhost:7687\"  \n",
    "username = \"neo4j\"\n",
    "password = \"912699176\"\n",
    "\n",
    "driver = GraphDatabase.driver(uri, auth=(username, password))\n",
    "\n",
    "companies_path = '../KnowledgeGraph/hidy.nodes.company.csv'\n",
    "relationship_compete_path = '../KnowledgeGraph/hidy.relationships.compete.csv'\n",
    "relationship_cooperate_path = '../KnowledgeGraph/hidy.relationships.cooperate.csv'\n",
    "relationship_dispute_path = '../KnowledgeGraph/hidy.relationships.dispute.csv'\n",
    "relationship_invest_path = '../KnowledgeGraph/hidy.relationships.invest.csv'\n",
    "relationship_same_industry_path = '../KnowledgeGraph/hidy.relationships.same_industry.csv'\n",
    "relationship_supply_path = '../KnowledgeGraph/hidy.relationships.supply.csv'\n",
    "\n",
    "companies_df = pd.read_csv(companies_path)\n",
    "relationship_compete_df = pd.read_csv(relationship_compete_path)\n",
    "relationship_cooperate_df = pd.read_csv(relationship_cooperate_path)\n",
    "relationship_dispute_df = pd.read_csv(relationship_dispute_path)\n",
    "relationship_invest_df = pd.read_csv(relationship_invest_path)\n",
    "relationship_same_industry_df = pd.read_csv(relationship_same_industry_path)\n",
    "relationship_supply_df = pd.read_csv(relationship_supply_path)"
   ]
  },
  {
   "cell_type": "markdown",
   "source": [
    "然后，我们可以查看一下数据的基本信息。"
   ],
   "metadata": {
    "collapsed": false
   },
   "id": "263ec7a806857666"
  },
  {
   "cell_type": "code",
   "execution_count": 9,
   "outputs": [
    {
     "data": {
      "text/plain": "{'Companies Columns': [':ID', 'company_name', 'code', ':LABEL'],\n 'Compete Relationship Columns': [':START_ID', ':END_ID', ':TYPE', 'time'],\n 'Cooperate Relationship Columns': [':START_ID', ':END_ID', ':TYPE', 'time'],\n 'Dispute Relationship Columns': [':START_ID', ':END_ID', ':TYPE', 'time'],\n 'Invest Relationship Columns': [':START_ID', ':END_ID', ':TYPE'],\n 'Same Industry Relationship Columns': [':START_ID',\n  ':END_ID',\n  ':TYPE',\n  'time'],\n 'Supply Relationship Columns': [':START_ID', ':END_ID', ':TYPE']}"
     },
     "execution_count": 9,
     "metadata": {},
     "output_type": "execute_result"
    }
   ],
   "source": [
    "columns_info = {\n",
    "    \"Companies Columns\": companies_df.columns.tolist(),\n",
    "    \"Compete Relationship Columns\": relationship_compete_df.columns.tolist(),\n",
    "    \"Cooperate Relationship Columns\": relationship_cooperate_df.columns.tolist(),\n",
    "    \"Dispute Relationship Columns\": relationship_dispute_df.columns.tolist(),\n",
    "    \"Invest Relationship Columns\": relationship_invest_df.columns.tolist(),\n",
    "    \"Same Industry Relationship Columns\": relationship_same_industry_df.columns.tolist(),\n",
    "    \"Supply Relationship Columns\": relationship_supply_df.columns.tolist()\n",
    "}\n",
    "\n",
    "columns_info"
   ],
   "metadata": {
    "collapsed": false,
    "ExecuteTime": {
     "end_time": "2023-11-27T01:33:05.838818Z",
     "start_time": "2023-11-27T01:33:05.837018Z"
    }
   },
   "id": "460ae3b4e0580323"
  },
  {
   "cell_type": "markdown",
   "source": [],
   "metadata": {
    "collapsed": false
   },
   "id": "95caeb04ae922c26"
  },
  {
   "cell_type": "markdown",
   "source": [
    "我们可以看到，公司节点包含了公司名称、公司代码和公司标签，而公司之间的关系可以分为有时间和无时间两种，其中有时间的关系包括竞争、合作、纠纷和同行业关系，而无时间的关系包括投资和供应关系\n",
    "\n",
    "接下来，我们将使用Neo4j图数据库来构建知识图谱\n",
    "我们先创建公司节点\n",
    "\n",
    "We can see that the company node contains the company name, company code and company label, and the relationships between companies can be divided into two types: with time and without time. The relationships with time include competition, cooperation, dispute and same industry relationships, while the relationships without time include investment and supply relationships.\n",
    "\n",
    "Next, we will use Neo4j graph database to construct a knowledge graph\n",
    "We first create company nodes"
   ],
   "metadata": {
    "collapsed": false
   },
   "id": "39c27d640247caf8"
  },
  {
   "cell_type": "code",
   "execution_count": 3,
   "outputs": [
    {
     "name": "stderr",
     "output_type": "stream",
     "text": [
      "Company Nodes: 100%|██████████| 3974/3974 [00:27<00:00, 143.85it/s]\n"
     ]
    }
   ],
   "source": [
    "def create_company_node(tx, id, name, code, label):\n",
    "    query = (\n",
    "        \"MERGE (:Company {id: $id, name: $name, code: $code, label: $label})\"\n",
    "    )\n",
    "    tx.run(query, id=id, name=name, code=code, label=label)\n",
    "\n",
    "# create company node\n",
    "with driver.session() as session:\n",
    "    for index, row in tqdm(companies_df.iterrows(), total=companies_df.shape[0], desc=\"Company Nodes\"):\n",
    "        session.execute_write(create_company_node, row[':ID'], row['company_name'], row['code'], row[':LABEL'])"
   ],
   "metadata": {
    "collapsed": false,
    "ExecuteTime": {
     "end_time": "2023-11-25T08:51:54.391018Z",
     "start_time": "2023-11-25T08:51:26.743291Z"
    }
   },
   "id": "f1ac815b93b386d7"
  },
  {
   "cell_type": "markdown",
   "source": [
    "然后，我们创建公司之间的关系\n",
    "\n",
    "Then, we create the relationships between companies"
   ],
   "metadata": {
    "collapsed": false
   },
   "id": "8a803058ca82aed2"
  },
  {
   "cell_type": "code",
   "execution_count": 5,
   "outputs": [],
   "source": [
    "def create_dynamic_relation(tx, start_id, end_id, relation_type, time):\n",
    "    query = (\n",
    "        f\"MATCH (a:Company {{id: $start_id}}), (b:Company {{id: $end_id}}) \"\n",
    "        f\"MERGE (a)-[:{relation_type} {{time: $time}}]->(b)\"\n",
    "    )\n",
    "    tx.run(query, start_id=start_id, end_id=end_id, time=time)\n",
    "\n",
    "def create_dynamic_relation_without_time(tx, start_id, end_id, relation_type):\n",
    "    query = (\n",
    "        f\"MATCH (a:Company {{id: $start_id}}), (b:Company {{id: $end_id}}) \"\n",
    "        f\"MERGE (a)-[:{relation_type}]->(b)\"\n",
    "    )\n",
    "    tx.run(query, start_id=start_id, end_id=end_id)"
   ],
   "metadata": {
    "collapsed": false,
    "ExecuteTime": {
     "end_time": "2023-11-25T08:52:02.419031Z",
     "start_time": "2023-11-25T08:52:02.409939Z"
    }
   },
   "id": "e53331497004c161"
  },
  {
   "cell_type": "markdown",
   "source": [
    "对于竞争、合作、纠纷和同行业关系，它们都有时间列，所以我们可以使用create_dynamic_relation函数来创建关系。\n",
    "\n",
    "但是对于投资和供应关系，它们没有时间列，所以我们需要使用create_dynamic_relation_without_time函数来创建关系。\n",
    "\n",
    "For compete, cooperate, dispute and same_industry relationship, they have the time column, so we can use the create_dynamic_relation function to create the relationship. \n",
    "\n",
    "But for the invest and supply relationship, they don't have the time column, so we need to use the create_dynamic_relation_without_time function to create the relationship."
   ],
   "metadata": {
    "collapsed": false
   },
   "id": "616781062486dd1a"
  },
  {
   "cell_type": "code",
   "execution_count": 6,
   "outputs": [
    {
     "name": "stderr",
     "output_type": "stream",
     "text": [
      "Compete Relationships: 100%|██████████| 25/25 [00:00<00:00, 80.27it/s]\n",
      "Cooperate Relationships: 100%|██████████| 3603/3603 [00:27<00:00, 129.02it/s]\n",
      "Dispute Relationships: 100%|██████████| 439/439 [00:03<00:00, 110.92it/s]\n",
      "Same Industry Relationships: 100%|██████████| 5596/5596 [00:52<00:00, 107.16it/s]\n"
     ]
    }
   ],
   "source": [
    "with driver.session() as session:\n",
    "    # Create compete relationship\n",
    "    for index, row in tqdm(relationship_compete_df.iterrows(), total=relationship_compete_df.shape[0], desc=\"Compete Relationships\"):\n",
    "        session.execute_write(create_dynamic_relation, row[':START_ID'], row[':END_ID'], row[':TYPE'], row['time'])\n",
    "    \n",
    "    # Create cooperate relationship\n",
    "    for index, row in tqdm(relationship_cooperate_df.iterrows(), total=relationship_cooperate_df.shape[0], desc=\"Cooperate Relationships\"):\n",
    "        session.execute_write(create_dynamic_relation, row[':START_ID'], row[':END_ID'], row[':TYPE'], row['time'])\n",
    "    \n",
    "    # Create dispute relationship\n",
    "    for index, row in tqdm(relationship_dispute_df.iterrows(), total=relationship_dispute_df.shape[0], desc=\"Dispute Relationships\"):\n",
    "        session.execute_write(create_dynamic_relation, row[':START_ID'], row[':END_ID'], row[':TYPE'], row['time'])\n",
    "        \n",
    "    # Create same_industry relationship\n",
    "    for index, row in tqdm(relationship_same_industry_df.iterrows(), total=relationship_same_industry_df.shape[0], desc=\"Same Industry Relationships\"):\n",
    "        session.execute_write(create_dynamic_relation, row[':START_ID'], row[':END_ID'], row[':TYPE'], row['time'])\n"
   ],
   "metadata": {
    "collapsed": false,
    "ExecuteTime": {
     "end_time": "2023-11-25T08:53:27.863980Z",
     "start_time": "2023-11-25T08:52:03.439257Z"
    }
   },
   "id": "31a2189c67cb750a"
  },
  {
   "cell_type": "code",
   "execution_count": 7,
   "outputs": [
    {
     "name": "stderr",
     "output_type": "stream",
     "text": [
      "Invest Relationships: 100%|██████████| 559/559 [00:05<00:00, 109.06it/s]\n",
      "Supply Relationships: 100%|██████████| 1444/1444 [00:13<00:00, 104.67it/s]\n"
     ]
    }
   ],
   "source": [
    "with driver.session() as session:\n",
    "    # Create invest relationship\n",
    "    for index, row in tqdm(relationship_invest_df.iterrows(), total=relationship_invest_df.shape[0], desc=\"Invest Relationships\"):\n",
    "        session.execute_write(create_dynamic_relation_without_time, row[':START_ID'], row[':END_ID'], row[':TYPE'])\n",
    "        \n",
    "    # Create supply relationship\n",
    "    for index, row in tqdm(relationship_supply_df.iterrows(), total=relationship_supply_df.shape[0], desc=\"Supply Relationships\"):\n",
    "        session.execute_write(create_dynamic_relation_without_time, row[':START_ID'], row[':END_ID'], row[':TYPE'])"
   ],
   "metadata": {
    "collapsed": false,
    "ExecuteTime": {
     "end_time": "2023-11-25T08:53:46.793577Z",
     "start_time": "2023-11-25T08:53:27.865985Z"
    }
   },
   "id": "6e246fb0eaaeeadb"
  },
  {
   "cell_type": "markdown",
   "source": [
    "我们已经完成了知识图谱的构建，我们可以在Browser中查看一下知识图谱的效果\n",
    "这张图展示了全部的知识图谱\n",
    "<img src=\"../Image/Knowledge Graph_Show All.jpg\" width=\"1600\" height=\"1000\" align=\"bottom\"/>\n",
    "\n",
    "这张图展示了300条关系的知识图谱\n",
    "<img src=\"../Image/Knowledge Graph_LIMIT 300.jpg\" width=\"1600\" height=\"1000\" align=\"bottom\"/>\n",
    "\n",
    "\n",
    "We have completed the construction of the knowledge graph, we can take a look at the effect of the knowledge graph in the Browser\n",
    "This picture shows all the knowledge graphs\n",
    "<img src=\"../Image/Knowledge Graph_Show All.jpg\" width=\"1600\" height=\"1000\" align=\"bottom\"/>\n",
    "\n",
    "This picture shows the knowledge graph of 300 relationships\n",
    "<img src=\"../Image/Knowledge Graph_LIMIT 300.jpg\" width=\"1600\" height=\"1000\" align=\"bottom\"/>"
   ],
   "metadata": {
    "collapsed": false
   },
   "id": "1ba18897968b5441"
  },
  {
   "cell_type": "markdown",
   "source": [
    "至此，Question 3完成\n",
    "\n",
    "So far, Question 3 is completed"
   ],
   "metadata": {
    "collapsed": false
   },
   "id": "a1427676689d389e"
  },
  {
   "cell_type": "markdown",
   "source": [
    "## Question 4: Knowledge-Driven Financial Analysis"
   ],
   "metadata": {
    "collapsed": false
   },
   "id": "fca60bc79e402f72"
  },
  {
   "cell_type": "markdown",
   "source": [
    "在这一部分，我们使用了之前[Task 1](./Task1.ipynb)中的数据，我们将识别出每个Explicit_Company对应的所有Implicit_Company，将它们分为Implicit_Positive_Company和Implicit_Negative_Company。\n",
    "\n",
    "In this part, we used the data in [Task 1](./Task1.ipynb) before, we will identify ALL implicit companies corresponding to each company\n",
    "of Explicit_Company in your own Task1.xlsx file. Categorize them into Implicit Positive Companies and Implicit Negative\n",
    "Companies.\n",
    "\n",
    "以下是我们将要使用或生成的数据文件：\n",
    "- [Task1.xlsx](../Submission_Excel/Task1.xlsx): Task 1的输出文件\n",
    "- [Task2.xlsx](../Submission_Excel/Task2.xlsx): Task 2的输出文件\n",
    "\n",
    "The following are the data files we will use or generate:\n",
    "- [Task1.xlsx](../Submission_Excel/Task1.xlsx): Output file of Task 1\n",
    "- [Task2.xlsx](../Submission_Excel/Task2.xlsx): Output file of Task 2"
   ],
   "metadata": {
    "collapsed": false
   },
   "id": "ec8bf1310c939374"
  },
  {
   "cell_type": "code",
   "execution_count": 2,
   "outputs": [],
   "source": [
    "import pandas as pd\n",
    "df = pd.read_excel(\"../Submission_Excel/Task1.xlsx\")"
   ],
   "metadata": {
    "collapsed": false,
    "ExecuteTime": {
     "end_time": "2023-11-26T12:15:29.904605Z",
     "start_time": "2023-11-26T12:15:05.386612Z"
    }
   },
   "id": "7834ed6707812ec9"
  },
  {
   "cell_type": "code",
   "execution_count": 3,
   "outputs": [
    {
     "name": "stderr",
     "output_type": "stream",
     "text": [
      "100%|██████████| 583003/583003 [29:36<00:00, 328.23it/s] \n"
     ]
    }
   ],
   "source": [
    "negative_relations = ['compete', 'dispute']\n",
    "positive_relations = ['cooperate', 'invest', 'same_industry', 'supply']  # 根据实际情况调整\n",
    "\n",
    "df['Implicit_Positive_Company'] = None\n",
    "df['Implicit_Negative_Company'] = None\n",
    "\n",
    "def fetch_relationships(tx, company_name):\n",
    "    query = (\n",
    "        \"MATCH (a:Company {name: $company_name})-[r]->(b) \"\n",
    "        \"RETURN type(r) as relation_type, b.name as company_name\"\n",
    "    )\n",
    "    result = tx.run(query, company_name=company_name)\n",
    "    return [(record[\"relation_type\"], record[\"company_name\"]) for record in result]\n",
    "\n",
    "with driver.session() as session:\n",
    "    for index, row in tqdm(df.iterrows(), total=df.shape[0]): \n",
    "        companies = row['Explicit_Company'].split(' ')\n",
    "        implicit_negative = []\n",
    "        implicit_positive = []\n",
    "\n",
    "        for company in companies:\n",
    "            relationships = session.execute_read(fetch_relationships, company)\n",
    "\n",
    "            for relation_type, related_company in relationships:\n",
    "                if row['label'] == 1:\n",
    "                    if relation_type in negative_relations:\n",
    "                        implicit_negative.append(related_company)\n",
    "                    elif relation_type in positive_relations:\n",
    "                        implicit_positive.append(related_company)\n",
    "                else:\n",
    "                    if relation_type in positive_relations:\n",
    "                        implicit_negative.append(related_company)\n",
    "                    elif relation_type in negative_relations:\n",
    "                        implicit_positive.append(related_company)\n",
    "                        \n",
    "        df.at[index, 'Implicit_Positive_Company'] = ' '.join(implicit_positive) if implicit_positive else 'None'\n",
    "        df.at[index, 'Implicit_Negative_Company'] = ' '.join(implicit_negative) if implicit_negative else 'None'\n",
    "        \n"
   ],
   "metadata": {
    "collapsed": false,
    "ExecuteTime": {
     "end_time": "2023-11-26T12:45:06.183700Z",
     "start_time": "2023-11-26T12:15:29.956538Z"
    }
   },
   "id": "200f0b02c6277155"
  },
  {
   "cell_type": "code",
   "execution_count": 4,
   "outputs": [],
   "source": [
    "df.to_excel('../Submission_Excel/Task2.xlsx', index=False)"
   ],
   "metadata": {
    "collapsed": false,
    "ExecuteTime": {
     "end_time": "2023-11-26T12:46:54.479223Z",
     "start_time": "2023-11-26T12:45:06.184163Z"
    }
   },
   "id": "1be41db3d93db2ed"
  },
  {
   "cell_type": "markdown",
   "source": [
    "我们成功地将每个Explicit_Company对应的所有Implicit_Company识别出并保存。我们可以用下面的代码来查看一下数据的基本信息\n",
    "\n",
    "We successfully identified all Implicit_Company corresponding to each Explicit_Company and saved them. We can use the following code to view the basic information of the data"
   ],
   "metadata": {
    "collapsed": false
   },
   "id": "8f42e269e878f308"
  },
  {
   "cell_type": "code",
   "execution_count": 5,
   "outputs": [
    {
     "data": {
      "text/plain": "         NewsID                                        NewsContent  \\\n0             1  　　本报记者 田雨 李京华    　　中国建设银行股份有限公司原董事长张恩照受贿案３日一审宣...   \n1             2  　　中国农业银行信用卡中心由北京搬到上海了！  　　农行行长杨明生日前在信用卡中心揭牌仪式上...   \n2             3  　　在新基金快速发行以及申购资金回流的情况下，市场总体上呈现资金流动性过剩格局，考虑到现阶段...   \n3             4  　　胜利股份（000407）公司子公司填海造地2800亩，以青岛的地价估算，静态价值在10亿...   \n4             5  　　全景网11月30日讯 外围股市造好，带动港股今早造好，恒指高开后反覆上升，最高升252点...   \n...         ...                                                ...   \n582998  1036918  红星资本局10月13日消息，刚刚，京东发言人发文称，关注到有谣言称“刘姓商人涉嫌违法被抓”，...   \n582999  1036959  京东集团（09618，HK）13日盘中大幅跳水，截至发稿，该股跌逾10%，股价至105港元左...   \n583000  1036980  上证报中国证券网讯京东13日在官微表示，公司关注到有谣言称“刘姓商人涉嫌违法被抓”，该谣言被...   \n583001  1036986  京东发言人10月13日通过官方微博发文称：我们关注到有谣言称“刘姓商人涉嫌违法被抓”，该谣言...   \n583002  1036992  10月13日，京东发言人发文称，我们关注到有谣言称“刘姓商人涉嫌违法被抓”，该谣言被别有用心...   \n\n       Explicit_Company  label  \\\n0                  建设银行      1   \n1                  农业银行      1   \n2             外运发展 中国国航      1   \n3            *ST生物 胜利股份      1   \n4                 *ST高升      1   \n...                 ...    ...   \n582998              京东方      0   \n582999              京东方      0   \n583000              京东方      0   \n583001              京东方      0   \n583002              京东方      0   \n\n                                Implicit_Positive_Company  \\\n0       比亚迪 中国银行 中国铁建 上海银行 新华联 中国船舶 招商证券 来伊份 我爱我家 兴业银行...   \n1       京东方 中国银行 金风科技 邮储银行 中国船舶 交通银行 建设银行 金地集团 招商蛇口 中信...   \n2       中国外运 中国外运 南方航空 吉祥航空 南方航空 农业银行 中国电建 南方航空 中国石化 山...   \n3                                                     特锐德   \n4                                                    None   \n...                                                   ...   \n582998                                               东方园林   \n582999                                               东方园林   \n583000                                               东方园林   \n583001                                               东方园林   \n583002                                               东方园林   \n\n                                Implicit_Negative_Company  \n0                                                    None  \n1                                                    None  \n2                                                    None  \n3                                                    None  \n4                                                    None  \n...                                                   ...  \n582998  中国联通 中国平安 东方国信 农业银行 奥来德 东方园林 东方通 彩虹股份 长安汽车 航天信...  \n582999  中国联通 中国平安 东方国信 农业银行 奥来德 东方园林 东方通 彩虹股份 长安汽车 航天信...  \n583000  中国联通 中国平安 东方国信 农业银行 奥来德 东方园林 东方通 彩虹股份 长安汽车 航天信...  \n583001  中国联通 中国平安 东方国信 农业银行 奥来德 东方园林 东方通 彩虹股份 长安汽车 航天信...  \n583002  中国联通 中国平安 东方国信 农业银行 奥来德 东方园林 东方通 彩虹股份 长安汽车 航天信...  \n\n[583003 rows x 6 columns]",
      "text/html": "<div>\n<style scoped>\n    .dataframe tbody tr th:only-of-type {\n        vertical-align: middle;\n    }\n\n    .dataframe tbody tr th {\n        vertical-align: top;\n    }\n\n    .dataframe thead th {\n        text-align: right;\n    }\n</style>\n<table border=\"1\" class=\"dataframe\">\n  <thead>\n    <tr style=\"text-align: right;\">\n      <th></th>\n      <th>NewsID</th>\n      <th>NewsContent</th>\n      <th>Explicit_Company</th>\n      <th>label</th>\n      <th>Implicit_Positive_Company</th>\n      <th>Implicit_Negative_Company</th>\n    </tr>\n  </thead>\n  <tbody>\n    <tr>\n      <th>0</th>\n      <td>1</td>\n      <td>本报记者 田雨 李京华    　　中国建设银行股份有限公司原董事长张恩照受贿案３日一审宣...</td>\n      <td>建设银行</td>\n      <td>1</td>\n      <td>比亚迪 中国银行 中国铁建 上海银行 新华联 中国船舶 招商证券 来伊份 我爱我家 兴业银行...</td>\n      <td>None</td>\n    </tr>\n    <tr>\n      <th>1</th>\n      <td>2</td>\n      <td>中国农业银行信用卡中心由北京搬到上海了！  　　农行行长杨明生日前在信用卡中心揭牌仪式上...</td>\n      <td>农业银行</td>\n      <td>1</td>\n      <td>京东方 中国银行 金风科技 邮储银行 中国船舶 交通银行 建设银行 金地集团 招商蛇口 中信...</td>\n      <td>None</td>\n    </tr>\n    <tr>\n      <th>2</th>\n      <td>3</td>\n      <td>在新基金快速发行以及申购资金回流的情况下，市场总体上呈现资金流动性过剩格局，考虑到现阶段...</td>\n      <td>外运发展 中国国航</td>\n      <td>1</td>\n      <td>中国外运 中国外运 南方航空 吉祥航空 南方航空 农业银行 中国电建 南方航空 中国石化 山...</td>\n      <td>None</td>\n    </tr>\n    <tr>\n      <th>3</th>\n      <td>4</td>\n      <td>胜利股份（000407）公司子公司填海造地2800亩，以青岛的地价估算，静态价值在10亿...</td>\n      <td>*ST生物 胜利股份</td>\n      <td>1</td>\n      <td>特锐德</td>\n      <td>None</td>\n    </tr>\n    <tr>\n      <th>4</th>\n      <td>5</td>\n      <td>全景网11月30日讯 外围股市造好，带动港股今早造好，恒指高开后反覆上升，最高升252点...</td>\n      <td>*ST高升</td>\n      <td>1</td>\n      <td>None</td>\n      <td>None</td>\n    </tr>\n    <tr>\n      <th>...</th>\n      <td>...</td>\n      <td>...</td>\n      <td>...</td>\n      <td>...</td>\n      <td>...</td>\n      <td>...</td>\n    </tr>\n    <tr>\n      <th>582998</th>\n      <td>1036918</td>\n      <td>红星资本局10月13日消息，刚刚，京东发言人发文称，关注到有谣言称“刘姓商人涉嫌违法被抓”，...</td>\n      <td>京东方</td>\n      <td>0</td>\n      <td>东方园林</td>\n      <td>中国联通 中国平安 东方国信 农业银行 奥来德 东方园林 东方通 彩虹股份 长安汽车 航天信...</td>\n    </tr>\n    <tr>\n      <th>582999</th>\n      <td>1036959</td>\n      <td>京东集团（09618，HK）13日盘中大幅跳水，截至发稿，该股跌逾10%，股价至105港元左...</td>\n      <td>京东方</td>\n      <td>0</td>\n      <td>东方园林</td>\n      <td>中国联通 中国平安 东方国信 农业银行 奥来德 东方园林 东方通 彩虹股份 长安汽车 航天信...</td>\n    </tr>\n    <tr>\n      <th>583000</th>\n      <td>1036980</td>\n      <td>上证报中国证券网讯京东13日在官微表示，公司关注到有谣言称“刘姓商人涉嫌违法被抓”，该谣言被...</td>\n      <td>京东方</td>\n      <td>0</td>\n      <td>东方园林</td>\n      <td>中国联通 中国平安 东方国信 农业银行 奥来德 东方园林 东方通 彩虹股份 长安汽车 航天信...</td>\n    </tr>\n    <tr>\n      <th>583001</th>\n      <td>1036986</td>\n      <td>京东发言人10月13日通过官方微博发文称：我们关注到有谣言称“刘姓商人涉嫌违法被抓”，该谣言...</td>\n      <td>京东方</td>\n      <td>0</td>\n      <td>东方园林</td>\n      <td>中国联通 中国平安 东方国信 农业银行 奥来德 东方园林 东方通 彩虹股份 长安汽车 航天信...</td>\n    </tr>\n    <tr>\n      <th>583002</th>\n      <td>1036992</td>\n      <td>10月13日，京东发言人发文称，我们关注到有谣言称“刘姓商人涉嫌违法被抓”，该谣言被别有用心...</td>\n      <td>京东方</td>\n      <td>0</td>\n      <td>东方园林</td>\n      <td>中国联通 中国平安 东方国信 农业银行 奥来德 东方园林 东方通 彩虹股份 长安汽车 航天信...</td>\n    </tr>\n  </tbody>\n</table>\n<p>583003 rows × 6 columns</p>\n</div>"
     },
     "execution_count": 5,
     "metadata": {},
     "output_type": "execute_result"
    }
   ],
   "source": [
    "df"
   ],
   "metadata": {
    "collapsed": false,
    "ExecuteTime": {
     "end_time": "2023-11-26T12:46:54.488052Z",
     "start_time": "2023-11-26T12:46:54.482254Z"
    }
   },
   "id": "2baa2c06f0f2a3ec"
  },
  {
   "cell_type": "code",
   "execution_count": 6,
   "outputs": [
    {
     "data": {
      "text/plain": "              NewsID                                        NewsContent  \\\ncount   5.830030e+05                                             583003   \nunique           NaN                                             583003   \ntop              NaN  　　本报记者 田雨 李京华    　　中国建设银行股份有限公司原董事长张恩照受贿案３日一审宣...   \nfreq             NaN                                                  1   \nmean    5.493142e+05                                                NaN   \nstd     2.912981e+05                                                NaN   \nmin     1.000000e+00                                                NaN   \n25%     3.075735e+05                                                NaN   \n50%     5.638950e+05                                                NaN   \n75%     7.982495e+05                                                NaN   \nmax     1.037035e+06                                                NaN   \n\n       Explicit_Company          label Implicit_Positive_Company  \\\ncount            583003  583003.000000                    583003   \nunique           132537            NaN                     84648   \ntop                ST生态            NaN                      None   \nfreq              10228            NaN                    156806   \nmean                NaN       0.936613                       NaN   \nstd                 NaN       0.243659                       NaN   \nmin                 NaN       0.000000                       NaN   \n25%                 NaN       1.000000                       NaN   \n50%                 NaN       1.000000                       NaN   \n75%                 NaN       1.000000                       NaN   \nmax                 NaN       1.000000                       NaN   \n\n       Implicit_Negative_Company  \ncount                     583003  \nunique                     27133  \ntop                         None  \nfreq                      386475  \nmean                         NaN  \nstd                          NaN  \nmin                          NaN  \n25%                          NaN  \n50%                          NaN  \n75%                          NaN  \nmax                          NaN  ",
      "text/html": "<div>\n<style scoped>\n    .dataframe tbody tr th:only-of-type {\n        vertical-align: middle;\n    }\n\n    .dataframe tbody tr th {\n        vertical-align: top;\n    }\n\n    .dataframe thead th {\n        text-align: right;\n    }\n</style>\n<table border=\"1\" class=\"dataframe\">\n  <thead>\n    <tr style=\"text-align: right;\">\n      <th></th>\n      <th>NewsID</th>\n      <th>NewsContent</th>\n      <th>Explicit_Company</th>\n      <th>label</th>\n      <th>Implicit_Positive_Company</th>\n      <th>Implicit_Negative_Company</th>\n    </tr>\n  </thead>\n  <tbody>\n    <tr>\n      <th>count</th>\n      <td>5.830030e+05</td>\n      <td>583003</td>\n      <td>583003</td>\n      <td>583003.000000</td>\n      <td>583003</td>\n      <td>583003</td>\n    </tr>\n    <tr>\n      <th>unique</th>\n      <td>NaN</td>\n      <td>583003</td>\n      <td>132537</td>\n      <td>NaN</td>\n      <td>84648</td>\n      <td>27133</td>\n    </tr>\n    <tr>\n      <th>top</th>\n      <td>NaN</td>\n      <td>本报记者 田雨 李京华    　　中国建设银行股份有限公司原董事长张恩照受贿案３日一审宣...</td>\n      <td>ST生态</td>\n      <td>NaN</td>\n      <td>None</td>\n      <td>None</td>\n    </tr>\n    <tr>\n      <th>freq</th>\n      <td>NaN</td>\n      <td>1</td>\n      <td>10228</td>\n      <td>NaN</td>\n      <td>156806</td>\n      <td>386475</td>\n    </tr>\n    <tr>\n      <th>mean</th>\n      <td>5.493142e+05</td>\n      <td>NaN</td>\n      <td>NaN</td>\n      <td>0.936613</td>\n      <td>NaN</td>\n      <td>NaN</td>\n    </tr>\n    <tr>\n      <th>std</th>\n      <td>2.912981e+05</td>\n      <td>NaN</td>\n      <td>NaN</td>\n      <td>0.243659</td>\n      <td>NaN</td>\n      <td>NaN</td>\n    </tr>\n    <tr>\n      <th>min</th>\n      <td>1.000000e+00</td>\n      <td>NaN</td>\n      <td>NaN</td>\n      <td>0.000000</td>\n      <td>NaN</td>\n      <td>NaN</td>\n    </tr>\n    <tr>\n      <th>25%</th>\n      <td>3.075735e+05</td>\n      <td>NaN</td>\n      <td>NaN</td>\n      <td>1.000000</td>\n      <td>NaN</td>\n      <td>NaN</td>\n    </tr>\n    <tr>\n      <th>50%</th>\n      <td>5.638950e+05</td>\n      <td>NaN</td>\n      <td>NaN</td>\n      <td>1.000000</td>\n      <td>NaN</td>\n      <td>NaN</td>\n    </tr>\n    <tr>\n      <th>75%</th>\n      <td>7.982495e+05</td>\n      <td>NaN</td>\n      <td>NaN</td>\n      <td>1.000000</td>\n      <td>NaN</td>\n      <td>NaN</td>\n    </tr>\n    <tr>\n      <th>max</th>\n      <td>1.037035e+06</td>\n      <td>NaN</td>\n      <td>NaN</td>\n      <td>1.000000</td>\n      <td>NaN</td>\n      <td>NaN</td>\n    </tr>\n  </tbody>\n</table>\n</div>"
     },
     "execution_count": 6,
     "metadata": {},
     "output_type": "execute_result"
    }
   ],
   "source": [
    "df.describe(include='all')"
   ],
   "metadata": {
    "collapsed": false,
    "ExecuteTime": {
     "end_time": "2023-11-26T12:46:54.983882Z",
     "start_time": "2023-11-26T12:46:54.486538Z"
    }
   },
   "id": "9e3ce5bd1998e361"
  },
  {
   "cell_type": "markdown",
   "source": [
    "至此，Question 4完成\n",
    "\n",
    "So far, Question 4 is completed"
   ],
   "metadata": {
    "collapsed": false
   },
   "id": "481599898b45e3c8"
  },
  {
   "cell_type": "code",
   "execution_count": null,
   "outputs": [],
   "source": [],
   "metadata": {
    "collapsed": false
   },
   "id": "bc833cb6b2b614f2"
  }
 ],
 "metadata": {
  "kernelspec": {
   "display_name": "Python 3",
   "language": "python",
   "name": "python3"
  },
  "language_info": {
   "codemirror_mode": {
    "name": "ipython",
    "version": 2
   },
   "file_extension": ".py",
   "mimetype": "text/x-python",
   "name": "python",
   "nbconvert_exporter": "python",
   "pygments_lexer": "ipython2",
   "version": "2.7.6"
  }
 },
 "nbformat": 4,
 "nbformat_minor": 5
}
