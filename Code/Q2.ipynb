{
 "cells": [
  {
   "cell_type": "code",
   "execution_count": 1,
   "id": "initial_id",
   "metadata": {
    "collapsed": true,
    "ExecuteTime": {
     "end_time": "2023-11-26T11:40:30.219364Z",
     "start_time": "2023-11-26T11:40:29.842095Z"
    }
   },
   "outputs": [],
   "source": [
    "import pandas as pd\n",
    "from neo4j import GraphDatabase\n",
    "from tqdm import tqdm\n",
    "\n",
    "uri = \"neo4j://localhost:7687\"  \n",
    "username = \"neo4j\"\n",
    "password = \"912699176\"\n",
    "\n",
    "driver = GraphDatabase.driver(uri, auth=(username, password))\n",
    "\n",
    "\n",
    "companies_path = '../KnowledgeGraph/hidy.nodes.company.csv'\n",
    "relationship_compete_path = '../KnowledgeGraph/hidy.relationships.compete.csv'\n",
    "relationship_cooperate_path = '../KnowledgeGraph/hidy.relationships.cooperate.csv'\n",
    "relationship_dispute_path = '../KnowledgeGraph/hidy.relationships.dispute.csv'\n",
    "relationship_invest_path = '../KnowledgeGraph/hidy.relationships.invest.csv'\n",
    "relationship_same_industry_path = '../KnowledgeGraph/hidy.relationships.same_industry.csv'\n",
    "relationship_supply_path = '../KnowledgeGraph/hidy.relationships.supply.csv'\n",
    "\n",
    "companies_df = pd.read_csv(companies_path)\n",
    "relationship_compete_df = pd.read_csv(relationship_compete_path)\n",
    "relationship_cooperate_df = pd.read_csv(relationship_cooperate_path)\n",
    "relationship_dispute_df = pd.read_csv(relationship_dispute_path)\n",
    "relationship_invest_df = pd.read_csv(relationship_invest_path)\n",
    "relationship_same_industry_df = pd.read_csv(relationship_same_industry_path)\n",
    "relationship_supply_df = pd.read_csv(relationship_supply_path)"
   ]
  },
  {
   "cell_type": "code",
   "execution_count": 2,
   "outputs": [
    {
     "data": {
      "text/plain": "{'Companies Columns': [':ID', 'company_name', 'code', ':LABEL'],\n 'Compete Relationship Columns': [':START_ID', ':END_ID', ':TYPE', 'time'],\n 'Cooperate Relationship Columns': [':START_ID', ':END_ID', ':TYPE', 'time'],\n 'Dispute Relationship Columns': [':START_ID', ':END_ID', ':TYPE', 'time'],\n 'Invest Relationship Columns': [':START_ID', ':END_ID', ':TYPE'],\n 'Same Industry Relationship Columns': [':START_ID',\n  ':END_ID',\n  ':TYPE',\n  'time'],\n 'Supply Relationship Columns': [':START_ID', ':END_ID', ':TYPE']}"
     },
     "execution_count": 2,
     "metadata": {},
     "output_type": "execute_result"
    }
   ],
   "source": [
    "columns_info = {\n",
    "    \"Companies Columns\": companies_df.columns.tolist(),\n",
    "    \"Compete Relationship Columns\": relationship_compete_df.columns.tolist(),\n",
    "    \"Cooperate Relationship Columns\": relationship_cooperate_df.columns.tolist(),\n",
    "    \"Dispute Relationship Columns\": relationship_dispute_df.columns.tolist(),\n",
    "    \"Invest Relationship Columns\": relationship_invest_df.columns.tolist(),\n",
    "    \"Same Industry Relationship Columns\": relationship_same_industry_df.columns.tolist(),\n",
    "    \"Supply Relationship Columns\": relationship_supply_df.columns.tolist()\n",
    "}\n",
    "\n",
    "columns_info"
   ],
   "metadata": {
    "collapsed": false,
    "ExecuteTime": {
     "end_time": "2023-11-25T08:51:25.906278Z",
     "start_time": "2023-11-25T08:51:25.900686Z"
    }
   },
   "id": "460ae3b4e0580323"
  },
  {
   "cell_type": "code",
   "execution_count": 3,
   "outputs": [
    {
     "name": "stderr",
     "output_type": "stream",
     "text": [
      "Company Nodes: 100%|██████████| 3974/3974 [00:27<00:00, 143.85it/s]\n"
     ]
    }
   ],
   "source": [
    "def create_company_node(tx, id, name, code, label):\n",
    "    query = (\n",
    "        \"MERGE (:Company {id: $id, name: $name, code: $code, label: $label})\"\n",
    "    )\n",
    "    tx.run(query, id=id, name=name, code=code, label=label)\n",
    "\n",
    "# create company node\n",
    "with driver.session() as session:\n",
    "    for index, row in tqdm(companies_df.iterrows(), total=companies_df.shape[0], desc=\"Company Nodes\"):\n",
    "        session.execute_write(create_company_node, row[':ID'], row['company_name'], row['code'], row[':LABEL'])"
   ],
   "metadata": {
    "collapsed": false,
    "ExecuteTime": {
     "end_time": "2023-11-25T08:51:54.391018Z",
     "start_time": "2023-11-25T08:51:26.743291Z"
    }
   },
   "id": "f1ac815b93b386d7"
  },
  {
   "cell_type": "code",
   "execution_count": 5,
   "outputs": [],
   "source": [
    "def create_dynamic_relation(tx, start_id, end_id, relation_type, time):\n",
    "    query = (\n",
    "        f\"MATCH (a:Company {{id: $start_id}}), (b:Company {{id: $end_id}}) \"\n",
    "        f\"MERGE (a)-[:{relation_type} {{time: $time}}]->(b)\"\n",
    "    )\n",
    "    tx.run(query, start_id=start_id, end_id=end_id, time=time)\n",
    "\n",
    "def create_dynamic_relation_without_time(tx, start_id, end_id, relation_type):\n",
    "    query = (\n",
    "        f\"MATCH (a:Company {{id: $start_id}}), (b:Company {{id: $end_id}}) \"\n",
    "        f\"MERGE (a)-[:{relation_type}]->(b)\"\n",
    "    )\n",
    "    tx.run(query, start_id=start_id, end_id=end_id)"
   ],
   "metadata": {
    "collapsed": false,
    "ExecuteTime": {
     "end_time": "2023-11-25T08:52:02.419031Z",
     "start_time": "2023-11-25T08:52:02.409939Z"
    }
   },
   "id": "e53331497004c161"
  },
  {
   "cell_type": "markdown",
   "source": [
    "For compete, cooperate, dispute and same_industry relationship, they have the time column, so we can use the create_dynamic_relation function to create the relationship. \n",
    "\n",
    "But for the invest and supply relationship, they don't have the time column, so we need to use the create_dynamic_relation_without_time function to create the relationship."
   ],
   "metadata": {
    "collapsed": false
   },
   "id": "616781062486dd1a"
  },
  {
   "cell_type": "code",
   "execution_count": 6,
   "outputs": [
    {
     "name": "stderr",
     "output_type": "stream",
     "text": [
      "Compete Relationships: 100%|██████████| 25/25 [00:00<00:00, 80.27it/s]\n",
      "Cooperate Relationships: 100%|██████████| 3603/3603 [00:27<00:00, 129.02it/s]\n",
      "Dispute Relationships: 100%|██████████| 439/439 [00:03<00:00, 110.92it/s]\n",
      "Same Industry Relationships: 100%|██████████| 5596/5596 [00:52<00:00, 107.16it/s]\n"
     ]
    }
   ],
   "source": [
    "with driver.session() as session:\n",
    "    # Create compete relationship\n",
    "    for index, row in tqdm(relationship_compete_df.iterrows(), total=relationship_compete_df.shape[0], desc=\"Compete Relationships\"):\n",
    "        session.execute_write(create_dynamic_relation, row[':START_ID'], row[':END_ID'], row[':TYPE'], row['time'])\n",
    "    \n",
    "    # Create cooperate relationship\n",
    "    for index, row in tqdm(relationship_cooperate_df.iterrows(), total=relationship_cooperate_df.shape[0], desc=\"Cooperate Relationships\"):\n",
    "        session.execute_write(create_dynamic_relation, row[':START_ID'], row[':END_ID'], row[':TYPE'], row['time'])\n",
    "    \n",
    "    # Create dispute relationship\n",
    "    for index, row in tqdm(relationship_dispute_df.iterrows(), total=relationship_dispute_df.shape[0], desc=\"Dispute Relationships\"):\n",
    "        session.execute_write(create_dynamic_relation, row[':START_ID'], row[':END_ID'], row[':TYPE'], row['time'])\n",
    "        \n",
    "    # Create same_industry relationship\n",
    "    for index, row in tqdm(relationship_same_industry_df.iterrows(), total=relationship_same_industry_df.shape[0], desc=\"Same Industry Relationships\"):\n",
    "        session.execute_write(create_dynamic_relation, row[':START_ID'], row[':END_ID'], row[':TYPE'], row['time'])\n"
   ],
   "metadata": {
    "collapsed": false,
    "ExecuteTime": {
     "end_time": "2023-11-25T08:53:27.863980Z",
     "start_time": "2023-11-25T08:52:03.439257Z"
    }
   },
   "id": "31a2189c67cb750a"
  },
  {
   "cell_type": "code",
   "execution_count": 7,
   "outputs": [
    {
     "name": "stderr",
     "output_type": "stream",
     "text": [
      "Invest Relationships: 100%|██████████| 559/559 [00:05<00:00, 109.06it/s]\n",
      "Supply Relationships: 100%|██████████| 1444/1444 [00:13<00:00, 104.67it/s]\n"
     ]
    }
   ],
   "source": [
    "with driver.session() as session:\n",
    "    # Create invest relationship\n",
    "    for index, row in tqdm(relationship_invest_df.iterrows(), total=relationship_invest_df.shape[0], desc=\"Invest Relationships\"):\n",
    "        session.execute_write(create_dynamic_relation_without_time, row[':START_ID'], row[':END_ID'], row[':TYPE'])\n",
    "        \n",
    "    # Create supply relationship\n",
    "    for index, row in tqdm(relationship_supply_df.iterrows(), total=relationship_supply_df.shape[0], desc=\"Supply Relationships\"):\n",
    "        session.execute_write(create_dynamic_relation_without_time, row[':START_ID'], row[':END_ID'], row[':TYPE'])"
   ],
   "metadata": {
    "collapsed": false,
    "ExecuteTime": {
     "end_time": "2023-11-25T08:53:46.793577Z",
     "start_time": "2023-11-25T08:53:27.865985Z"
    }
   },
   "id": "6e246fb0eaaeeadb"
  },
  {
   "cell_type": "code",
   "execution_count": null,
   "outputs": [],
   "source": [],
   "metadata": {
    "collapsed": false
   },
   "id": "dbe62b2cc04256f"
  },
  {
   "cell_type": "code",
   "execution_count": null,
   "outputs": [],
   "source": [],
   "metadata": {
    "collapsed": false
   },
   "id": "ca1b644331d46c2c"
  },
  {
   "cell_type": "code",
   "execution_count": null,
   "outputs": [],
   "source": [],
   "metadata": {
    "collapsed": false
   },
   "id": "7834ed6707812ec9"
  },
  {
   "cell_type": "code",
   "execution_count": 10,
   "outputs": [
    {
     "name": "stderr",
     "output_type": "stream",
     "text": [
      "100%|██████████| 51/51 [00:00<00:00, 166.71it/s]\n"
     ]
    }
   ],
   "source": [
    "import pandas as pd\n",
    "df = pd.read_excel(\"../.xlsx\")\n",
    "\n",
    "negative_relations = ['compete', 'dispute']\n",
    "positive_relations = ['cooperate', 'invest', 'same_industry', 'supply']  # 根据实际情况调整\n",
    "\n",
    "df['Implicit_Positive_Company'] = None\n",
    "df['Implicit_Negative_Company'] = None\n",
    "\n",
    "def fetch_relationships(tx, company_name):\n",
    "    query = (\n",
    "        \"MATCH (a:Company {name: $company_name})-[r]->(b) \"\n",
    "        \"RETURN type(r) as relation_type, b.name as company_name\"\n",
    "    )\n",
    "    result = tx.run(query, company_name=company_name)\n",
    "    return [(record[\"relation_type\"], record[\"company_name\"]) for record in result]\n",
    "\n",
    "with driver.session() as session:\n",
    "    for index, row in tqdm(df.iterrows(), total=df.shape[0]): \n",
    "        companies = row['Explicit_Company'].split(' ')\n",
    "        implicit_negative = []\n",
    "        implicit_positive = []\n",
    "\n",
    "        for company in companies:\n",
    "            relationships = session.execute_read(fetch_relationships, company)\n",
    "\n",
    "            for relation_type, related_company in relationships:\n",
    "                if row['label'] == 1:\n",
    "                    if relation_type in negative_relations:\n",
    "                        implicit_negative.append(related_company)\n",
    "                    elif relation_type in positive_relations:\n",
    "                        implicit_positive.append(related_company)\n",
    "                else:\n",
    "                    if relation_type in positive_relations:\n",
    "                        implicit_negative.append(related_company)\n",
    "                    elif relation_type in negative_relations:\n",
    "                        implicit_positive.append(related_company)\n",
    "                        \n",
    "        df.at[index, 'Implicit_Positive_Company'] = ' '.join(implicit_positive) if implicit_positive else 'None'\n",
    "        df.at[index, 'Implicit_Negative_Company'] = ' '.join(implicit_negative) if implicit_negative else 'None'\n",
    "        \n"
   ],
   "metadata": {
    "collapsed": false,
    "ExecuteTime": {
     "end_time": "2023-11-26T11:47:32.852455Z",
     "start_time": "2023-11-26T11:47:32.507402Z"
    }
   },
   "id": "200f0b02c6277155"
  },
  {
   "cell_type": "code",
   "execution_count": null,
   "outputs": [],
   "source": [],
   "metadata": {
    "collapsed": false
   },
   "id": "3bed04d390a9d4bc"
  }
 ],
 "metadata": {
  "kernelspec": {
   "display_name": "Python 3",
   "language": "python",
   "name": "python3"
  },
  "language_info": {
   "codemirror_mode": {
    "name": "ipython",
    "version": 2
   },
   "file_extension": ".py",
   "mimetype": "text/x-python",
   "name": "python",
   "nbconvert_exporter": "python",
   "pygments_lexer": "ipython2",
   "version": "2.7.6"
  }
 },
 "nbformat": 4,
 "nbformat_minor": 5
}
