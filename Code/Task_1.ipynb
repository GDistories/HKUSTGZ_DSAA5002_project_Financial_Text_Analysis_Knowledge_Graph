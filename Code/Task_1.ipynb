{
 "cells": [
  {
   "cell_type": "markdown",
   "id": "983f1e7214de7b74",
   "metadata": {
    "collapsed": false
   },
   "source": [
    "# Task 1: Data Preprocessing and Analysis"
   ]
  },
  {
   "cell_type": "markdown",
   "id": "8d05482842bc836d",
   "metadata": {
    "collapsed": false
   },
   "source": [
    "## Question 1: Data Preprocessing - Noise Removal\n",
    "Overall:\n",
    "<img src=\"../Image/Data Filtering Flowchart.png\" width=\"1000\" height=\"2500\" align=\"bottom\"/>"
   ]
  },
  {
   "cell_type": "markdown",
   "id": "626a22d4b6564f",
   "metadata": {
    "collapsed": false
   },
   "source": [
    "### Part 1: Data Preprocessing\n",
    "在这一部分，我们将对新闻数据进行清洗。\n",
    "以下是在这一部分使用或生成的文件：\n",
    "- [News.xlsx](../Raw_data/News.xlsx): 原始新闻数据\n",
    "- [A_share_list.json](../Raw_data/A_share_list.json): 股票公司信息\n",
    "- [News_Cleaned.xlsx](../Backup/News_Cleaned.xlsx): 清洗后的新闻数据\n",
    "\n",
    "In this part, we will clean the news data.\n",
    "The following are the files used or generated in this part:\n",
    "- [News.xlsx](../Raw_data/News.xlsx): Original news data\n",
    "- [A_share_list.json](../Raw_data/A_share_list.json): Stock company information\n",
    "- [News_Cleaned.xlsx](../Backup/News_Cleaned.xlsx): Cleaned news data"
   ]
  },
  {
   "cell_type": "markdown",
   "id": "a8df1c6c38daa4d0",
   "metadata": {
    "collapsed": false
   },
   "source": [
    "首先，我们读取所有新闻\n",
    "First, we read all the news"
   ]
  },
  {
   "cell_type": "code",
   "execution_count": 1,
   "id": "initial_id",
   "metadata": {
    "ExecuteTime": {
     "end_time": "2023-11-22T07:55:54.321469Z",
     "start_time": "2023-11-22T07:55:18.037153Z"
    },
    "collapsed": true
   },
   "outputs": [],
   "source": [
    "import pandas as pd\n",
    "\n",
    "# 读取原始Excel文件，并将NewsID列作为索引\n",
    "# Read the original Excel file and set the NewsID column as the index\n",
    "df = pd.read_excel('News.xlsx', index_col='NewsID')"
   ]
  },
  {
   "cell_type": "markdown",
   "id": "c1a1876393867e57",
   "metadata": {
    "collapsed": false
   },
   "source": [
    "我们使用describe()函数来查看数据集的一些统计信息\n",
    "\n",
    "We use the describe() function to view some statistical information about the dataset"
   ]
  },
  {
   "cell_type": "code",
   "execution_count": 2,
   "id": "7a2ce68388536835",
   "metadata": {
    "ExecuteTime": {
     "end_time": "2023-11-22T07:55:55.532283Z",
     "start_time": "2023-11-22T07:55:54.613195Z"
    },
    "collapsed": false
   },
   "outputs": [
    {
     "data": {
      "text/html": [
       "<div>\n",
       "<style scoped>\n",
       "    .dataframe tbody tr th:only-of-type {\n",
       "        vertical-align: middle;\n",
       "    }\n",
       "\n",
       "    .dataframe tbody tr th {\n",
       "        vertical-align: top;\n",
       "    }\n",
       "\n",
       "    .dataframe thead th {\n",
       "        text-align: right;\n",
       "    }\n",
       "</style>\n",
       "<table border=\"1\" class=\"dataframe\">\n",
       "  <thead>\n",
       "    <tr style=\"text-align: right;\">\n",
       "      <th></th>\n",
       "      <th>Title</th>\n",
       "      <th>NewsContent</th>\n",
       "      <th>NewsSource</th>\n",
       "    </tr>\n",
       "  </thead>\n",
       "  <tbody>\n",
       "    <tr>\n",
       "      <th>count</th>\n",
       "      <td>1037035</td>\n",
       "      <td>1036614</td>\n",
       "      <td>1022262</td>\n",
       "    </tr>\n",
       "    <tr>\n",
       "      <th>unique</th>\n",
       "      <td>1009734</td>\n",
       "      <td>1017942</td>\n",
       "      <td>1347</td>\n",
       "    </tr>\n",
       "    <tr>\n",
       "      <th>top</th>\n",
       "      <td>【财华快讯】香港股票二十大成交量排名</td>\n",
       "      <td>内容请查询巨潮网</td>\n",
       "      <td>每日经济新闻</td>\n",
       "    </tr>\n",
       "    <tr>\n",
       "      <th>freq</th>\n",
       "      <td>1390</td>\n",
       "      <td>2001</td>\n",
       "      <td>141054</td>\n",
       "    </tr>\n",
       "  </tbody>\n",
       "</table>\n",
       "</div>"
      ],
      "text/plain": [
       "                     Title NewsContent NewsSource\n",
       "count              1037035     1036614    1022262\n",
       "unique             1009734     1017942       1347\n",
       "top     【财华快讯】香港股票二十大成交量排名  　　内容请查询巨潮网     每日经济新闻\n",
       "freq                  1390        2001     141054"
      ]
     },
     "execution_count": 2,
     "metadata": {},
     "output_type": "execute_result"
    }
   ],
   "source": [
    "df.describe()"
   ]
  },
  {
   "cell_type": "markdown",
   "id": "2faf3ddb50d2a7cd",
   "metadata": {
    "collapsed": false
   },
   "source": [
    "新闻来源列是不必要的，因为我们只关心新闻的内容。因此，我们将其删除\n",
    "\n",
    "The NewsSource column is unnecessary because we only care about the content of the news. So we drop it."
   ]
  },
  {
   "cell_type": "code",
   "execution_count": 3,
   "id": "4d6a2c54361c1bc2",
   "metadata": {
    "ExecuteTime": {
     "end_time": "2023-11-22T07:55:55.532429Z",
     "start_time": "2023-11-22T07:55:55.203237Z"
    },
    "collapsed": false
   },
   "outputs": [],
   "source": [
    "# Drop the NewsSource column\n",
    "df = df.drop(columns=['NewsSource'])"
   ]
  },
  {
   "cell_type": "markdown",
   "id": "612ecb17be4bbcea",
   "metadata": {
    "collapsed": false
   },
   "source": [
    "接下来，我们查看一下数据集中是否有空值\n",
    "\n",
    "Next, we check if there are any null values in the dataset"
   ]
  },
  {
   "cell_type": "code",
   "execution_count": 4,
   "id": "f6982ef34d8c48ec",
   "metadata": {
    "ExecuteTime": {
     "end_time": "2023-11-22T07:55:55.532522Z",
     "start_time": "2023-11-22T07:55:55.233971Z"
    },
    "collapsed": false
   },
   "outputs": [
    {
     "data": {
      "text/plain": [
       "Title            0\n",
       "NewsContent    421\n",
       "dtype: int64"
      ]
     },
     "execution_count": 4,
     "metadata": {},
     "output_type": "execute_result"
    }
   ],
   "source": [
    "# Check for null values\n",
    "null_values = df.isnull().sum()\n",
    "null_values"
   ]
  },
  {
   "cell_type": "markdown",
   "id": "6e0ba4859762fb1",
   "metadata": {
    "collapsed": false
   },
   "source": [
    "我们可以看到，有一些新闻没有内容。因为我们只关心有标题和内容的新闻，所以我们将删除这些新闻\n",
    "\n",
    "We can see that some news do not have content. Because we only care about news with titles and content, we will delete these news"
   ]
  },
  {
   "cell_type": "code",
   "execution_count": 5,
   "id": "43ba405e0e017492",
   "metadata": {
    "ExecuteTime": {
     "end_time": "2023-11-22T07:55:55.727438Z",
     "start_time": "2023-11-22T07:55:55.375225Z"
    },
    "collapsed": false
   },
   "outputs": [
    {
     "data": {
      "text/plain": [
       "Title          0\n",
       "NewsContent    0\n",
       "dtype: int64"
      ]
     },
     "execution_count": 5,
     "metadata": {},
     "output_type": "execute_result"
    }
   ],
   "source": [
    "df_drop_null = df.dropna(subset=['Title', 'NewsContent'])\n",
    "null_values = df_drop_null.isnull().sum()\n",
    "null_values"
   ]
  },
  {
   "cell_type": "code",
   "execution_count": 6,
   "id": "13b4793aba7e74c2",
   "metadata": {
    "ExecuteTime": {
     "end_time": "2023-11-22T07:55:56.524062Z",
     "start_time": "2023-11-22T07:55:55.997649Z"
    },
    "collapsed": false
   },
   "outputs": [
    {
     "data": {
      "text/html": [
       "<div>\n",
       "<style scoped>\n",
       "    .dataframe tbody tr th:only-of-type {\n",
       "        vertical-align: middle;\n",
       "    }\n",
       "\n",
       "    .dataframe tbody tr th {\n",
       "        vertical-align: top;\n",
       "    }\n",
       "\n",
       "    .dataframe thead th {\n",
       "        text-align: right;\n",
       "    }\n",
       "</style>\n",
       "<table border=\"1\" class=\"dataframe\">\n",
       "  <thead>\n",
       "    <tr style=\"text-align: right;\">\n",
       "      <th></th>\n",
       "      <th>Title</th>\n",
       "      <th>NewsContent</th>\n",
       "    </tr>\n",
       "  </thead>\n",
       "  <tbody>\n",
       "    <tr>\n",
       "      <th>count</th>\n",
       "      <td>1036614</td>\n",
       "      <td>1036614</td>\n",
       "    </tr>\n",
       "    <tr>\n",
       "      <th>unique</th>\n",
       "      <td>1009562</td>\n",
       "      <td>1017942</td>\n",
       "    </tr>\n",
       "    <tr>\n",
       "      <th>top</th>\n",
       "      <td>【财华快讯】香港股票二十大成交量排名</td>\n",
       "      <td>内容请查询巨潮网</td>\n",
       "    </tr>\n",
       "    <tr>\n",
       "      <th>freq</th>\n",
       "      <td>1390</td>\n",
       "      <td>2001</td>\n",
       "    </tr>\n",
       "  </tbody>\n",
       "</table>\n",
       "</div>"
      ],
      "text/plain": [
       "                     Title NewsContent\n",
       "count              1036614     1036614\n",
       "unique             1009562     1017942\n",
       "top     【财华快讯】香港股票二十大成交量排名  　　内容请查询巨潮网\n",
       "freq                  1390        2001"
      ]
     },
     "execution_count": 6,
     "metadata": {},
     "output_type": "execute_result"
    }
   ],
   "source": [
    "df_drop_null.describe()"
   ]
  },
  {
   "cell_type": "markdown",
   "id": "7d04513801678267",
   "metadata": {
    "collapsed": false
   },
   "source": [
    "可以看到，我们删除了421条有空值的新闻\n",
    "接下来，我们删除新闻为全英文的新闻，因为我们只关心中文新闻\n",
    "\n",
    "We can see that we deleted 421 news with null values\n",
    "Next, we delete the news that are all English, because we only care about Chinese news"
   ]
  },
  {
   "cell_type": "code",
   "execution_count": 7,
   "id": "461c8cc43d806344",
   "metadata": {
    "ExecuteTime": {
     "end_time": "2023-11-22T07:55:57.841899Z",
     "start_time": "2023-11-22T07:55:56.585242Z"
    },
    "collapsed": false
   },
   "outputs": [
    {
     "data": {
      "text/html": [
       "<div>\n",
       "<style scoped>\n",
       "    .dataframe tbody tr th:only-of-type {\n",
       "        vertical-align: middle;\n",
       "    }\n",
       "\n",
       "    .dataframe tbody tr th {\n",
       "        vertical-align: top;\n",
       "    }\n",
       "\n",
       "    .dataframe thead th {\n",
       "        text-align: right;\n",
       "    }\n",
       "</style>\n",
       "<table border=\"1\" class=\"dataframe\">\n",
       "  <thead>\n",
       "    <tr style=\"text-align: right;\">\n",
       "      <th></th>\n",
       "      <th>Title</th>\n",
       "      <th>NewsContent</th>\n",
       "    </tr>\n",
       "  </thead>\n",
       "  <tbody>\n",
       "    <tr>\n",
       "      <th>count</th>\n",
       "      <td>1027482</td>\n",
       "      <td>1027482</td>\n",
       "    </tr>\n",
       "    <tr>\n",
       "      <th>unique</th>\n",
       "      <td>1001015</td>\n",
       "      <td>1009342</td>\n",
       "    </tr>\n",
       "    <tr>\n",
       "      <th>top</th>\n",
       "      <td>【财华快讯】香港股票二十大成交量排名</td>\n",
       "      <td>内容请查询巨潮网</td>\n",
       "    </tr>\n",
       "    <tr>\n",
       "      <th>freq</th>\n",
       "      <td>1390</td>\n",
       "      <td>2001</td>\n",
       "    </tr>\n",
       "  </tbody>\n",
       "</table>\n",
       "</div>"
      ],
      "text/plain": [
       "                     Title NewsContent\n",
       "count              1027482     1027482\n",
       "unique             1001015     1009342\n",
       "top     【财华快讯】香港股票二十大成交量排名  　　内容请查询巨潮网\n",
       "freq                  1390        2001"
      ]
     },
     "execution_count": 7,
     "metadata": {},
     "output_type": "execute_result"
    }
   ],
   "source": [
    "# Drop news that are all English\n",
    "df_drop_english = df_drop_null[df_drop_null['NewsContent'].str.contains('[\\u4e00-\\u9fa5]')]\n",
    "df_drop_english = df_drop_english[df_drop_english['Title'].str.contains('[\\u4e00-\\u9fa5]')]\n",
    "df_drop_english.describe()"
   ]
  },
  {
   "cell_type": "markdown",
   "id": "9cbc545a720a6ace",
   "metadata": {
    "collapsed": false
   },
   "source": [
    "可以看到，我们删除了1036614-1027482=9132条全英文的新闻\n",
    "接下来，我们对新闻的内容进行一些清洗, 删除特殊字符和数字\n",
    "\n",
    "We can see that we deleted 1036614-1027482=9132 news that are all English\n",
    "Next, we clean the content of the news, delete special characters and numbers"
   ]
  },
  {
   "cell_type": "code",
   "execution_count": 8,
   "id": "6e74ebbffbab94a4",
   "metadata": {
    "ExecuteTime": {
     "end_time": "2023-11-22T07:56:17.771613Z",
     "start_time": "2023-11-22T07:55:57.839772Z"
    },
    "collapsed": false
   },
   "outputs": [
    {
     "data": {
      "text/html": [
       "<div>\n",
       "<style scoped>\n",
       "    .dataframe tbody tr th:only-of-type {\n",
       "        vertical-align: middle;\n",
       "    }\n",
       "\n",
       "    .dataframe tbody tr th {\n",
       "        vertical-align: top;\n",
       "    }\n",
       "\n",
       "    .dataframe thead th {\n",
       "        text-align: right;\n",
       "    }\n",
       "</style>\n",
       "<table border=\"1\" class=\"dataframe\">\n",
       "  <thead>\n",
       "    <tr style=\"text-align: right;\">\n",
       "      <th></th>\n",
       "      <th>Title</th>\n",
       "      <th>NewsContent</th>\n",
       "      <th>ProcessedNewsTitle</th>\n",
       "      <th>ProcessedNewsContent</th>\n",
       "    </tr>\n",
       "  </thead>\n",
       "  <tbody>\n",
       "    <tr>\n",
       "      <th>count</th>\n",
       "      <td>1027482</td>\n",
       "      <td>1027482</td>\n",
       "      <td>1027482</td>\n",
       "      <td>1027482</td>\n",
       "    </tr>\n",
       "    <tr>\n",
       "      <th>unique</th>\n",
       "      <td>1001015</td>\n",
       "      <td>1009342</td>\n",
       "      <td>953413</td>\n",
       "      <td>993503</td>\n",
       "    </tr>\n",
       "    <tr>\n",
       "      <th>top</th>\n",
       "      <td>【财华快讯】香港股票二十大成交量排名</td>\n",
       "      <td>内容请查询巨潮网</td>\n",
       "      <td>窝轮数据 港股认股证总成交金额   亿元 占大市</td>\n",
       "      <td>内容请查询巨潮网</td>\n",
       "    </tr>\n",
       "    <tr>\n",
       "      <th>freq</th>\n",
       "      <td>1390</td>\n",
       "      <td>2001</td>\n",
       "      <td>1416</td>\n",
       "      <td>2001</td>\n",
       "    </tr>\n",
       "  </tbody>\n",
       "</table>\n",
       "</div>"
      ],
      "text/plain": [
       "                     Title NewsContent             ProcessedNewsTitle  \\\n",
       "count              1027482     1027482                        1027482   \n",
       "unique             1001015     1009342                         953413   \n",
       "top     【财华快讯】香港股票二十大成交量排名  　　内容请查询巨潮网   窝轮数据 港股认股证总成交金额   亿元 占大市       \n",
       "freq                  1390        2001                           1416   \n",
       "\n",
       "       ProcessedNewsContent  \n",
       "count               1027482  \n",
       "unique               993503  \n",
       "top                内容请查询巨潮网  \n",
       "freq                   2001  "
      ]
     },
     "execution_count": 8,
     "metadata": {},
     "output_type": "execute_result"
    }
   ],
   "source": [
    "import re\n",
    "def preprocess_text(text):\n",
    "    # 清洗文本，移除特殊字符和数字\n",
    "    # Clean the text, remove special characters and numbers\n",
    "    text = re.sub(r'\\W+|\\d+', ' ', text)\n",
    "    return text\n",
    "\n",
    "df_drop_english['ProcessedNewsTitle'] = df_drop_english['Title'].apply(preprocess_text)\n",
    "df_drop_english['ProcessedNewsContent'] = df_drop_english['NewsContent'].apply(preprocess_text)\n",
    "df_processed_text = df_drop_english\n",
    "df_processed_text.describe()"
   ]
  },
  {
   "cell_type": "markdown",
   "id": "887447edea030c3",
   "metadata": {
    "collapsed": false
   },
   "source": [
    "在进行新闻文本的预处理后，我们对预处理后的结果的内容进行去重\n",
    "\n",
    "After preprocessing the news text, we remove the duplicates in the processed text"
   ]
  },
  {
   "cell_type": "code",
   "execution_count": 9,
   "id": "9eb79ed21aeadb55",
   "metadata": {
    "ExecuteTime": {
     "end_time": "2023-11-22T07:56:19.522644Z",
     "start_time": "2023-11-22T07:56:17.843750Z"
    },
    "collapsed": false
   },
   "outputs": [
    {
     "data": {
      "text/html": [
       "<div>\n",
       "<style scoped>\n",
       "    .dataframe tbody tr th:only-of-type {\n",
       "        vertical-align: middle;\n",
       "    }\n",
       "\n",
       "    .dataframe tbody tr th {\n",
       "        vertical-align: top;\n",
       "    }\n",
       "\n",
       "    .dataframe thead th {\n",
       "        text-align: right;\n",
       "    }\n",
       "</style>\n",
       "<table border=\"1\" class=\"dataframe\">\n",
       "  <thead>\n",
       "    <tr style=\"text-align: right;\">\n",
       "      <th></th>\n",
       "      <th>Title</th>\n",
       "      <th>NewsContent</th>\n",
       "      <th>ProcessedNewsTitle</th>\n",
       "      <th>ProcessedNewsContent</th>\n",
       "    </tr>\n",
       "  </thead>\n",
       "  <tbody>\n",
       "    <tr>\n",
       "      <th>count</th>\n",
       "      <td>993503</td>\n",
       "      <td>993503</td>\n",
       "      <td>993503</td>\n",
       "      <td>993503</td>\n",
       "    </tr>\n",
       "    <tr>\n",
       "      <th>unique</th>\n",
       "      <td>978369</td>\n",
       "      <td>993503</td>\n",
       "      <td>943354</td>\n",
       "      <td>993503</td>\n",
       "    </tr>\n",
       "    <tr>\n",
       "      <th>top</th>\n",
       "      <td>【财华快讯】香港股票二十大成交量排名</td>\n",
       "      <td>本报记者 田雨 李京华    　　中国建设银行股份有限公司原董事长张恩照受贿案３日一审宣...</td>\n",
       "      <td>财华快讯 香港股票二十大成交量排名</td>\n",
       "      <td>本报记者 田雨 李京华 中国建设银行股份有限公司原董事长张恩照受贿案 日一审宣判 北京市第...</td>\n",
       "    </tr>\n",
       "    <tr>\n",
       "      <th>freq</th>\n",
       "      <td>1032</td>\n",
       "      <td>1</td>\n",
       "      <td>1032</td>\n",
       "      <td>1</td>\n",
       "    </tr>\n",
       "  </tbody>\n",
       "</table>\n",
       "</div>"
      ],
      "text/plain": [
       "                     Title                                        NewsContent  \\\n",
       "count               993503                                             993503   \n",
       "unique              978369                                             993503   \n",
       "top     【财华快讯】香港股票二十大成交量排名  　　本报记者 田雨 李京华    　　中国建设银行股份有限公司原董事长张恩照受贿案３日一审宣...   \n",
       "freq                  1032                                                  1   \n",
       "\n",
       "        ProcessedNewsTitle                               ProcessedNewsContent  \n",
       "count               993503                                             993503  \n",
       "unique              943354                                             993503  \n",
       "top      财华快讯 香港股票二十大成交量排名   本报记者 田雨 李京华 中国建设银行股份有限公司原董事长张恩照受贿案 日一审宣判 北京市第...  \n",
       "freq                  1032                                                  1  "
      ]
     },
     "execution_count": 9,
     "metadata": {},
     "output_type": "execute_result"
    }
   ],
   "source": [
    "df_drop_duplicate = df_processed_text.drop_duplicates(subset='ProcessedNewsContent')\n",
    "df_drop_duplicate.describe()"
   ]
  },
  {
   "cell_type": "markdown",
   "id": "aa4ace62c632e38",
   "metadata": {
    "collapsed": false
   },
   "source": [
    "可以看到，去重后，我们删除了1027482-993503=33979条重复的新闻\n",
    "接下来，我们将新闻标题和新闻内容合并到一列中，得到MergedContent列\n",
    "\n",
    "We can see that after removing the duplicates, we deleted 1027482-993503=33979 duplicate news\n",
    "Next, we merge the news title and news content into one column to get the MergedContent column"
   ]
  },
  {
   "cell_type": "code",
   "execution_count": 10,
   "id": "c3c7f0dce9b974c3",
   "metadata": {
    "ExecuteTime": {
     "end_time": "2023-11-22T07:56:31.012314Z",
     "start_time": "2023-11-22T07:56:19.548861Z"
    },
    "collapsed": false
   },
   "outputs": [
    {
     "name": "stderr",
     "output_type": "stream",
     "text": [
      "/var/folders/n7/7084b4k93jb_r5psql_6_sjh0000gn/T/ipykernel_86964/2123552858.py:1: SettingWithCopyWarning: \n",
      "A value is trying to be set on a copy of a slice from a DataFrame.\n",
      "Try using .loc[row_indexer,col_indexer] = value instead\n",
      "\n",
      "See the caveats in the documentation: https://pandas.pydata.org/pandas-docs/stable/user_guide/indexing.html#returning-a-view-versus-a-copy\n",
      "  df_drop_duplicate['MergedContent'] = (\n"
     ]
    },
    {
     "data": {
      "text/html": [
       "<div>\n",
       "<style scoped>\n",
       "    .dataframe tbody tr th:only-of-type {\n",
       "        vertical-align: middle;\n",
       "    }\n",
       "\n",
       "    .dataframe tbody tr th {\n",
       "        vertical-align: top;\n",
       "    }\n",
       "\n",
       "    .dataframe thead th {\n",
       "        text-align: right;\n",
       "    }\n",
       "</style>\n",
       "<table border=\"1\" class=\"dataframe\">\n",
       "  <thead>\n",
       "    <tr style=\"text-align: right;\">\n",
       "      <th></th>\n",
       "      <th>Title</th>\n",
       "      <th>NewsContent</th>\n",
       "      <th>ProcessedNewsTitle</th>\n",
       "      <th>ProcessedNewsContent</th>\n",
       "      <th>MergedContent</th>\n",
       "    </tr>\n",
       "  </thead>\n",
       "  <tbody>\n",
       "    <tr>\n",
       "      <th>count</th>\n",
       "      <td>993503</td>\n",
       "      <td>993503</td>\n",
       "      <td>993503</td>\n",
       "      <td>993503</td>\n",
       "      <td>993503</td>\n",
       "    </tr>\n",
       "    <tr>\n",
       "      <th>unique</th>\n",
       "      <td>978369</td>\n",
       "      <td>993503</td>\n",
       "      <td>943354</td>\n",
       "      <td>993503</td>\n",
       "      <td>991897</td>\n",
       "    </tr>\n",
       "    <tr>\n",
       "      <th>top</th>\n",
       "      <td>【财华快讯】香港股票二十大成交量排名</td>\n",
       "      <td>本报记者 田雨 李京华    　　中国建设银行股份有限公司原董事长张恩照受贿案３日一审宣...</td>\n",
       "      <td>财华快讯 香港股票二十大成交量排名</td>\n",
       "      <td>本报记者 田雨 李京华 中国建设银行股份有限公司原董事长张恩照受贿案 日一审宣判 北京市第...</td>\n",
       "      <td>财华快讯 香港股份在美国最后成交价 香港股份在美国的最后成交价 公司名称最新价 美元 相对...</td>\n",
       "    </tr>\n",
       "    <tr>\n",
       "      <th>freq</th>\n",
       "      <td>1032</td>\n",
       "      <td>1</td>\n",
       "      <td>1032</td>\n",
       "      <td>1</td>\n",
       "      <td>151</td>\n",
       "    </tr>\n",
       "  </tbody>\n",
       "</table>\n",
       "</div>"
      ],
      "text/plain": [
       "                     Title                                        NewsContent  \\\n",
       "count               993503                                             993503   \n",
       "unique              978369                                             993503   \n",
       "top     【财华快讯】香港股票二十大成交量排名  　　本报记者 田雨 李京华    　　中国建设银行股份有限公司原董事长张恩照受贿案３日一审宣...   \n",
       "freq                  1032                                                  1   \n",
       "\n",
       "        ProcessedNewsTitle                               ProcessedNewsContent  \\\n",
       "count               993503                                             993503   \n",
       "unique              943354                                             993503   \n",
       "top      财华快讯 香港股票二十大成交量排名   本报记者 田雨 李京华 中国建设银行股份有限公司原董事长张恩照受贿案 日一审宣判 北京市第...   \n",
       "freq                  1032                                                  1   \n",
       "\n",
       "                                            MergedContent  \n",
       "count                                              993503  \n",
       "unique                                             991897  \n",
       "top      财华快讯 香港股份在美国最后成交价 香港股份在美国的最后成交价 公司名称最新价 美元 相对...  \n",
       "freq                                                  151  "
      ]
     },
     "execution_count": 10,
     "metadata": {},
     "output_type": "execute_result"
    }
   ],
   "source": [
    "df_drop_duplicate['MergedContent'] = (\n",
    "    df_drop_duplicate['ProcessedNewsTitle'].str.replace(r'\\s+', ' ', regex=True) + \" \" +\n",
    "    df_drop_duplicate['ProcessedNewsContent'].str.replace(r'\\s+', ' ', regex=True)\n",
    ")\n",
    "df_drop_duplicate.describe()"
   ]
  },
  {
   "cell_type": "markdown",
   "id": "2f72b50eee6d7964",
   "metadata": {
    "collapsed": false
   },
   "source": [
    "处理完数据后，我们首先将处理后的新闻数据保存到Excel文件中，以便后续使用\n",
    "\n",
    "After processing the data, we first save the processed news data to an Excel file for later use"
   ]
  },
  {
   "cell_type": "code",
   "execution_count": 11,
   "id": "b41c44a775219090",
   "metadata": {
    "ExecuteTime": {
     "end_time": "2023-11-22T08:01:49.648562Z",
     "start_time": "2023-11-22T07:56:31.009050Z"
    },
    "collapsed": false
   },
   "outputs": [],
   "source": [
    "df_drop_duplicate.to_excel('News_Cleaned.xlsx')"
   ]
  },
  {
   "cell_type": "markdown",
   "id": "4c1bad3a51d57408",
   "metadata": {
    "collapsed": false
   },
   "source": [
    "至此，我们完成了新闻数据的清洗\n",
    "At this point, we have completed the cleaning of the news data"
   ]
  },
  {
   "cell_type": "markdown",
   "id": "bf9a668b50a0c589",
   "metadata": {
    "collapsed": false
   },
   "source": [
    "### Part 2: News Data Categorization: Full Match\n",
    "\n",
    "在这一部分，我们通过完全匹配的方式，将新闻数据分为完整相关和其他的新闻。\n",
    "以下是在这一部分使用或生成的文件：\n",
    "- [A_share_list.json](../Raw_data/A_share_list.json): 股票公司信息\n",
    "- [News_Cleaned.xlsx](../Backup/News_Cleaned.xlsx): 清洗后的新闻数据\n",
    "- [Full_Relevant_News.xlsx](../Backup/Full_Relevant_News.xlsx): 完全匹配A_share_list.json中的name、fullname、code的新闻\n",
    "- [Other_News.xlsx](../Backup/Other_News.xlsx): 其他新闻（不完全匹配A_share_list.json中的name、fullname、code的新闻）\n",
    "\n",
    "In this part, we categorize the news data into full relevant and other news by full matching.\n",
    "The following are the files used or generated in this part:\n",
    "- [A_share_list.json](../Raw_data/A_share_list.json): Stock company information\n",
    "- [News_Cleaned.xlsx](../Backup/News_Cleaned.xlsx): Cleaned news data\n",
    "- [Full_Relevant_News.xlsx](../Backup/Full_Relevant_News.xlsx): News that fully match the name, fullname, or code in A_share_list.json\n",
    "- [Other_News.xlsx](../Backup/Other_News.xlsx): Other news (news that do not fully match the name, fullname, or code in A_share_list.json)\n"
   ]
  },
  {
   "cell_type": "markdown",
   "id": "5ea4df67bc7a086d",
   "metadata": {
    "collapsed": false
   },
   "source": [
    "首先，我们读取A_share_list.json和News_Cleaned.xlsx中的数据\n",
    "\n",
    "First, we read the data in A_share_list.json and News_Cleaned.xlsx"
   ]
  },
  {
   "cell_type": "code",
   "execution_count": 1,
   "id": "a8367daba3939b0c",
   "metadata": {
    "ExecuteTime": {
     "end_time": "2023-11-23T09:30:58.278165Z",
     "start_time": "2023-11-23T09:29:31.725024Z"
    },
    "collapsed": false
   },
   "outputs": [],
   "source": [
    "import json\n",
    "import pandas as pd\n",
    "import re\n",
    "from tqdm import tqdm\n",
    "\n",
    "# 从JSON文件中读取股票信息\n",
    "with open('A_share_list.json', 'r', encoding='utf-8') as file:\n",
    "    share_list = json.load(file)\n",
    "\n",
    "# 创建字典以存储不同类型的关键字\n",
    "keywords = {'name': {}, 'fullname': set(), 'code': set()}\n",
    "\n",
    "# 定义正则表达式，删除股票名称中的特定字符\n",
    "patterns_to_remove = [r'\\*?ST', r'^PT', r'^S', r'B股$', r'B$', r'A$']\n",
    "\n",
    "for item in share_list:\n",
    "    cleaned_name = item['name']\n",
    "    for pattern in patterns_to_remove:\n",
    "        cleaned_name = re.sub(pattern, '', cleaned_name)\n",
    "\n",
    "    # 存储清理后的名称与原始名称的映射\n",
    "    keywords['name'][cleaned_name] = item['name']\n",
    "    keywords['fullname'].add(item['fullname'])\n",
    "    keywords['code'].add(item['code'])\n",
    "\n",
    "# 读取新闻数据\n",
    "news_df = pd.read_excel('News_Cleaned.xlsx', index_col='NewsID')"
   ]
  },
  {
   "cell_type": "markdown",
   "id": "c3b0f742f69b6098",
   "metadata": {
    "collapsed": false
   },
   "source": [
    "我们首先使用完全匹配的方式，将新闻数据根据是否完全匹配json文件中的name、fullname、code，分为完整相关和其他的新闻\n",
    "\n",
    "First, we use full matching to categorize the news data into full relevant and other news according to whether they fully match the name, fullname, or code in the json file"
   ]
  },
  {
   "cell_type": "code",
   "execution_count": 2,
   "id": "f5ce6079153f110c",
   "metadata": {
    "ExecuteTime": {
     "end_time": "2023-11-23T15:33:29.687646Z",
     "start_time": "2023-11-23T09:30:58.279681Z"
    },
    "collapsed": false
   },
   "outputs": [
    {
     "name": "stderr",
     "output_type": "stream",
     "text": [
      "Processing news data: 100%|██████████| 993503/993503 [2:06:39<00:00, 130.73it/s]  \n",
      "Processing news data: 100%|██████████| 993503/993503 [1:56:49<00:00, 141.74it/s]  \n",
      "Processing news data: 100%|██████████| 993503/993503 [1:59:02<00:00, 139.11it/s]  \n"
     ]
    }
   ],
   "source": [
    "# 定义函数来检查新闻标题或内容中是否包含特定类型的关键字\n",
    "def contains_keyword(row, keyword_type):\n",
    "    matches = []\n",
    "    if keyword_type == 'name':\n",
    "        for cleaned_name, original_name in keywords[keyword_type].items():\n",
    "            if cleaned_name in row['Title'] or cleaned_name in row['NewsContent']:\n",
    "                matches.append(original_name)\n",
    "    else:\n",
    "        for keyword in keywords[keyword_type]:\n",
    "            if keyword in row['Title'] or keyword in row['NewsContent']:\n",
    "                matches.append(keyword)\n",
    "    return matches if matches else ''\n",
    "\n",
    "# 应用进度条\n",
    "tqdm.pandas(desc=\"Processing news data\")\n",
    "\n",
    "# 对每种类型进行检查\n",
    "for key_type in ['name', 'fullname', 'code']:\n",
    "    news_df[key_type] = news_df.progress_apply(contains_keyword, axis=1, args=(key_type,))"
   ]
  },
  {
   "cell_type": "markdown",
   "id": "d5d17de6d52a4c68",
   "metadata": {
    "collapsed": false
   },
   "source": [
    "接下来，我们确定哪些新闻是相关的（即至少匹配一个关键字类型），并将其保存到Excel文件中\n",
    "\n",
    "Next, we determine which news are relevant (i.e. match at least one keyword type) and save them to an Excel file"
   ]
  },
  {
   "cell_type": "code",
   "execution_count": 3,
   "id": "adc8f3b00ef83994",
   "metadata": {
    "ExecuteTime": {
     "end_time": "2023-11-23T15:33:30.316066Z",
     "start_time": "2023-11-23T15:33:29.594799Z"
    },
    "collapsed": false
   },
   "outputs": [],
   "source": [
    "# 确定哪些新闻是相关的（即至少匹配一个关键字类型）\n",
    "# Determine which news are relevant (i.e. match at least one keyword type)\n",
    "news_df['relevant'] = news_df[['name', 'fullname', 'code']].any(axis=1)\n",
    "complete_matching_news = news_df[news_df['relevant']]\n",
    "incomplete_matching_news = news_df[~news_df['relevant']]"
   ]
  },
  {
   "cell_type": "code",
   "execution_count": 4,
   "id": "4eaf9bbe8331b4f9",
   "metadata": {
    "ExecuteTime": {
     "end_time": "2023-11-23T15:48:30.798129Z",
     "start_time": "2023-11-23T15:33:30.300594Z"
    },
    "collapsed": false
   },
   "outputs": [
    {
     "data": {
      "text/html": [
       "<div>\n",
       "<style scoped>\n",
       "    .dataframe tbody tr th:only-of-type {\n",
       "        vertical-align: middle;\n",
       "    }\n",
       "\n",
       "    .dataframe tbody tr th {\n",
       "        vertical-align: top;\n",
       "    }\n",
       "\n",
       "    .dataframe thead th {\n",
       "        text-align: right;\n",
       "    }\n",
       "</style>\n",
       "<table border=\"1\" class=\"dataframe\">\n",
       "  <thead>\n",
       "    <tr style=\"text-align: right;\">\n",
       "      <th></th>\n",
       "      <th>Title</th>\n",
       "      <th>NewsContent</th>\n",
       "      <th>ProcessedNewsTitle</th>\n",
       "      <th>ProcessedNewsContent</th>\n",
       "      <th>MergedContent</th>\n",
       "      <th>name</th>\n",
       "      <th>fullname</th>\n",
       "      <th>code</th>\n",
       "      <th>relevant</th>\n",
       "    </tr>\n",
       "  </thead>\n",
       "  <tbody>\n",
       "    <tr>\n",
       "      <th>count</th>\n",
       "      <td>571035</td>\n",
       "      <td>571035</td>\n",
       "      <td>571035</td>\n",
       "      <td>571035</td>\n",
       "      <td>571035</td>\n",
       "      <td>571035</td>\n",
       "      <td>571035</td>\n",
       "      <td>571035</td>\n",
       "      <td>571035</td>\n",
       "    </tr>\n",
       "    <tr>\n",
       "      <th>unique</th>\n",
       "      <td>561592</td>\n",
       "      <td>571035</td>\n",
       "      <td>542081</td>\n",
       "      <td>571035</td>\n",
       "      <td>570283</td>\n",
       "      <td>130097</td>\n",
       "      <td>7714</td>\n",
       "      <td>7055</td>\n",
       "      <td>1</td>\n",
       "    </tr>\n",
       "    <tr>\n",
       "      <th>top</th>\n",
       "      <td>【财华快讯】香港股票二十大成交量排名</td>\n",
       "      <td>本报记者 田雨 李京华    　　中国建设银行股份有限公司原董事长张恩照受贿案３日一审宣...</td>\n",
       "      <td>财华快讯 香港股票二十大成交量排名</td>\n",
       "      <td>本报记者 田雨 李京华 中国建设银行股份有限公司原董事长张恩照受贿案 日一审宣判 北京市第...</td>\n",
       "      <td>财华快讯 香港股份在美国最后成交价 香港股份在美国的最后成交价 公司名称最新价 美元 相对...</td>\n",
       "      <td>[ST生态]</td>\n",
       "      <td></td>\n",
       "      <td></td>\n",
       "      <td>True</td>\n",
       "    </tr>\n",
       "    <tr>\n",
       "      <th>freq</th>\n",
       "      <td>1032</td>\n",
       "      <td>1</td>\n",
       "      <td>1032</td>\n",
       "      <td>1</td>\n",
       "      <td>151</td>\n",
       "      <td>10312</td>\n",
       "      <td>527897</td>\n",
       "      <td>491461</td>\n",
       "      <td>571035</td>\n",
       "    </tr>\n",
       "  </tbody>\n",
       "</table>\n",
       "</div>"
      ],
      "text/plain": [
       "                     Title                                        NewsContent  \\\n",
       "count               571035                                             571035   \n",
       "unique              561592                                             571035   \n",
       "top     【财华快讯】香港股票二十大成交量排名  　　本报记者 田雨 李京华    　　中国建设银行股份有限公司原董事长张恩照受贿案３日一审宣...   \n",
       "freq                  1032                                                  1   \n",
       "\n",
       "        ProcessedNewsTitle                               ProcessedNewsContent  \\\n",
       "count               571035                                             571035   \n",
       "unique              542081                                             571035   \n",
       "top      财华快讯 香港股票二十大成交量排名   本报记者 田雨 李京华 中国建设银行股份有限公司原董事长张恩照受贿案 日一审宣判 北京市第...   \n",
       "freq                  1032                                                  1   \n",
       "\n",
       "                                            MergedContent    name fullname  \\\n",
       "count                                              571035  571035   571035   \n",
       "unique                                             570283  130097     7714   \n",
       "top      财华快讯 香港股份在美国最后成交价 香港股份在美国的最后成交价 公司名称最新价 美元 相对...  [ST生态]            \n",
       "freq                                                  151   10312   527897   \n",
       "\n",
       "          code relevant  \n",
       "count   571035   571035  \n",
       "unique    7055        1  \n",
       "top                True  \n",
       "freq    491461   571035  "
      ]
     },
     "execution_count": 4,
     "metadata": {},
     "output_type": "execute_result"
    }
   ],
   "source": [
    "# 保存完全匹配的新闻到Excel文件中\n",
    "# Save the fully matching news to an Excel file\n",
    "complete_matching_news.to_excel('Full_Relevant_News.xlsx')\n",
    "complete_matching_news.describe()"
   ]
  },
  {
   "cell_type": "code",
   "execution_count": 5,
   "id": "96e83b8835f23478",
   "metadata": {
    "ExecuteTime": {
     "end_time": "2023-11-23T15:50:53.836414Z",
     "start_time": "2023-11-23T15:48:30.799668Z"
    },
    "collapsed": false
   },
   "outputs": [
    {
     "data": {
      "text/html": [
       "<div>\n",
       "<style scoped>\n",
       "    .dataframe tbody tr th:only-of-type {\n",
       "        vertical-align: middle;\n",
       "    }\n",
       "\n",
       "    .dataframe tbody tr th {\n",
       "        vertical-align: top;\n",
       "    }\n",
       "\n",
       "    .dataframe thead th {\n",
       "        text-align: right;\n",
       "    }\n",
       "</style>\n",
       "<table border=\"1\" class=\"dataframe\">\n",
       "  <thead>\n",
       "    <tr style=\"text-align: right;\">\n",
       "      <th></th>\n",
       "      <th>Title</th>\n",
       "      <th>NewsContent</th>\n",
       "      <th>ProcessedNewsTitle</th>\n",
       "      <th>ProcessedNewsContent</th>\n",
       "      <th>MergedContent</th>\n",
       "      <th>name</th>\n",
       "      <th>fullname</th>\n",
       "      <th>code</th>\n",
       "      <th>relevant</th>\n",
       "    </tr>\n",
       "  </thead>\n",
       "  <tbody>\n",
       "    <tr>\n",
       "      <th>count</th>\n",
       "      <td>422468</td>\n",
       "      <td>422468</td>\n",
       "      <td>422468</td>\n",
       "      <td>422468</td>\n",
       "      <td>422468</td>\n",
       "      <td>422468</td>\n",
       "      <td>422468</td>\n",
       "      <td>422468</td>\n",
       "      <td>422468</td>\n",
       "    </tr>\n",
       "    <tr>\n",
       "      <th>unique</th>\n",
       "      <td>417191</td>\n",
       "      <td>422468</td>\n",
       "      <td>402762</td>\n",
       "      <td>422468</td>\n",
       "      <td>421634</td>\n",
       "      <td>1</td>\n",
       "      <td>1</td>\n",
       "      <td>1</td>\n",
       "      <td>1</td>\n",
       "    </tr>\n",
       "    <tr>\n",
       "      <th>top</th>\n",
       "      <td>【财华快讯】香港认股证二十大成交金额排名</td>\n",
       "      <td>全景网11月30日讯  近日，深交所创业企业培训中心在深圳举办了第五期“资本市场产品与制...</td>\n",
       "      <td>财华快讯 香港认股证二十大成交金额排名</td>\n",
       "      <td>全景网 月 日讯 近日 深交所创业企业培训中心在深圳举办了第五期 资本市场产品与制度创新研...</td>\n",
       "      <td>月 日晚间国际期货市场行情 品种单位最新价涨跌 CBOT黄豆 美分 蒲 CBOT豆粕 美元...</td>\n",
       "      <td></td>\n",
       "      <td></td>\n",
       "      <td></td>\n",
       "      <td>False</td>\n",
       "    </tr>\n",
       "    <tr>\n",
       "      <th>freq</th>\n",
       "      <td>1028</td>\n",
       "      <td>1</td>\n",
       "      <td>1028</td>\n",
       "      <td>1</td>\n",
       "      <td>30</td>\n",
       "      <td>422468</td>\n",
       "      <td>422468</td>\n",
       "      <td>422468</td>\n",
       "      <td>422468</td>\n",
       "    </tr>\n",
       "  </tbody>\n",
       "</table>\n",
       "</div>"
      ],
      "text/plain": [
       "                       Title  \\\n",
       "count                 422468   \n",
       "unique                417191   \n",
       "top     【财华快讯】香港认股证二十大成交金额排名   \n",
       "freq                    1028   \n",
       "\n",
       "                                              NewsContent  \\\n",
       "count                                              422468   \n",
       "unique                                             422468   \n",
       "top     　　全景网11月30日讯  近日，深交所创业企业培训中心在深圳举办了第五期“资本市场产品与制...   \n",
       "freq                                                    1   \n",
       "\n",
       "          ProcessedNewsTitle  \\\n",
       "count                 422468   \n",
       "unique                402762   \n",
       "top      财华快讯 香港认股证二十大成交金额排名   \n",
       "freq                    1028   \n",
       "\n",
       "                                     ProcessedNewsContent  \\\n",
       "count                                              422468   \n",
       "unique                                             422468   \n",
       "top      全景网 月 日讯 近日 深交所创业企业培训中心在深圳举办了第五期 资本市场产品与制度创新研...   \n",
       "freq                                                    1   \n",
       "\n",
       "                                            MergedContent    name fullname  \\\n",
       "count                                              422468  422468   422468   \n",
       "unique                                             421634       1        1   \n",
       "top      月 日晚间国际期货市场行情 品种单位最新价涨跌 CBOT黄豆 美分 蒲 CBOT豆粕 美元...                    \n",
       "freq                                                   30  422468   422468   \n",
       "\n",
       "          code relevant  \n",
       "count   422468   422468  \n",
       "unique       1        1  \n",
       "top               False  \n",
       "freq    422468   422468  "
      ]
     },
     "execution_count": 5,
     "metadata": {},
     "output_type": "execute_result"
    }
   ],
   "source": [
    "# 保存其他新闻到Excel文件中\n",
    "# Save the other news to an Excel file\n",
    "incomplete_matching_news.to_excel('Other_News.xlsx')\n",
    "incomplete_matching_news.describe()"
   ]
  },
  {
   "cell_type": "markdown",
   "id": "c8f5c13932e4a14d",
   "metadata": {
    "collapsed": false
   },
   "source": [
    "至此，我们通过完全匹配的方式，将新闻数据分为完整相关和其他的新闻。\n",
    "At this point, we divide the news data into fully relevant and other news through a perfect match."
   ]
  },
  {
   "cell_type": "markdown",
   "id": "785fcd6bff819e3f",
   "metadata": {
    "collapsed": false
   },
   "source": [
    "### Part 3: News Data Categorization: Similarity Matching"
   ]
  },
  {
   "cell_type": "markdown",
   "id": "501c523950da5b51",
   "metadata": {
    "collapsed": false
   },
   "source": [
    "在这一部分，由于新闻中的股票名称可能会出现不同的写法，例如“中国平安”和“平安”，因此我们需要对这一部分的新闻进行进一步地处理，提取其中的公司名称\n",
    "\n",
    "经过抽样100条运行并人工复核，使用Bert以及计算余弦相似度得到的提取结果比较差。\n",
    "如果您对该部分的代码感兴趣，可以在这里找到：\n",
    "[Deprecated Bert Code](../Deprecated/bert.ipynb) \n",
    "\n",
    "经过探索，我发现了百度公司的LAC工具，可以对中文文本进行词性标注，我们可以通过词性标注来提取新闻中的组织名。\n",
    "因此，我们决定使用LAC工具来提取关键字，并使用thefuzz来计算相似度。LAC工具可以对中文文本进行词性标注，我们可以通过词性标注来提取新闻中的组织名。\n",
    "\n",
    "以下是在这一部分使用或生成的文件：\n",
    "- [A_share_list.json](../Raw_data/A_share_list.json): 股票公司信息\n",
    "- [Other_News.xlsx](../Backup/Other_News.xlsx): 其他新闻（不完全匹配A_share_list.json中的name、fullname、code的新闻）\n",
    "- [Other_news_with_ORGs.xlsx](../Backup/Other_news_with_ORGs.xlsx): 使用LAC工具提取了组织名的其他新闻\n",
    "- [Cleaned_Other_news_with_ORGs.xlsx](../Backup/Cleaned_Other_news_with_ORGs.xlsx): 清洗后的使用LAC工具提取了组织名的其他新闻\n",
    "- [Cleaned_Other_news_with_ORGs_and_Similarities.xlsx](../Backup/Cleaned_Other_news_with_ORGs_and_Similarities.xlsx): 使用thefuzz计算相似度后，分数大于80的其他新闻\n",
    "\n",
    "In this part, since the stock names in the news may appear in different ways, such as \"中国平安\" and \"平安\", we need to further process this part of the news and extract the company names in them.\n",
    "\n",
    "After sampling 100 news and manually reviewing them, the results obtained using Bert and calculating the cosine similarity are not very good. \n",
    "If you are interested in the code of this part, you can find it here:\n",
    "[Deprecated Bert Code](../Deprecated/bert.ipynb)\n",
    "\n",
    "After exploration, I found Baidu's LAC tool, which can perform part-of-speech tagging on Chinese text, and we can use part-of-speech tagging to extract organization names in the news.\n",
    "Therefore, we decided to use the LAC tool to extract keywords and use thefuzz to calculate the similarity. The LAC tool can perform part-of-speech tagging on Chinese text, and we can use part-of-speech tagging to extract organization names in the news.\n",
    "\n",
    "The following are the files used or generated in this part:\n",
    "- [A_share_list.json](../Raw_data/A_share_list.json): Stock company information\n",
    "- [Other_News.xlsx](../Backup/Other_News.xlsx): Other news (news that do not fully match the name, fullname, or code in A_share_list.json)\n",
    "- [Other_news_with_ORGs.xlsx](../Backup/Other_news_with_ORGs.xlsx): Other news with extracted organization names using the LAC tool\n",
    "- [Cleaned_Other_news_with_ORGs.xlsx](../Backup/Cleaned_Other_news_with_ORGs.xlsx): Cleaned other news with extracted organization names using the LAC tool\n",
    "- [Cleaned_Other_news_with_ORGs_and_Similarities.xlsx](../Backup/Cleaned_Other_news_with_ORGs_and_Similarities.xlsx): Other news with a score greater than 80 after calculating the similarity using thefuzz"
   ]
  },
  {
   "cell_type": "markdown",
   "id": "b806fd56d2e85c3b",
   "metadata": {
    "collapsed": false
   },
   "source": [
    "\n",
    "我们首先使用百度公司的LAC对新闻内容进行词性标注，然后提取词性为ORG的词，作为关键字\n",
    "LAC工具的代码库可以在这里找到：\n",
    "[Baidu/lac](https://github.com/baidu/lac)\n",
    "\n",
    "LAC工具的论文可以在这里找到：\n",
    "Jiao, Z., Sun, S., & Sun, K. (2018). Chinese Lexical Analysis with Deep Bi-GRU-CRF Network. *arXiv preprint arXiv:1807.01882*. Retrieved from [https://arxiv.org/abs/1807.01882](https://arxiv.org/abs/1807.01882)\n",
    "\n",
    "We first use Baidu's LAC to perform part-of-speech tagging on the news content, and then extract the words with the part of speech ORG as keywords.\n",
    "The code library of the LAC tool can be found here:\n",
    "[Baidu/lac](https://github.com/baidu/lac)\n",
    "\n",
    "The paper of the LAC tool can be found here:\n",
    "Jiao, Z., Sun, S., & Sun, K. (2018). Chinese Lexical Analysis with Deep Bi-GRU-CRF Network. *arXiv preprint arXiv:1807.01882*. Retrieved from [https://arxiv.org/abs/1807.01882](https://arxiv.org/abs/1807.01882)"
   ]
  },
  {
   "cell_type": "code",
   "execution_count": 6,
   "id": "3f09229f53d765f2",
   "metadata": {
    "ExecuteTime": {
     "end_time": "2023-11-23T15:51:33.203626Z",
     "start_time": "2023-11-23T15:50:53.838272Z"
    },
    "collapsed": false
   },
   "outputs": [],
   "source": [
    "# 读取其他新闻\n",
    "# Read the other news\n",
    "other_news = pd.read_excel('Other_News.xlsx', index_col='NewsID')"
   ]
  },
  {
   "cell_type": "code",
   "execution_count": 7,
   "id": "2938a8fc192de252",
   "metadata": {
    "ExecuteTime": {
     "end_time": "2023-11-23T17:36:40.313114Z",
     "start_time": "2023-11-23T15:51:33.204985Z"
    },
    "collapsed": false
   },
   "outputs": [
    {
     "name": "stderr",
     "output_type": "stream",
     "text": [
      "W1123 23:51:34.352082 3850821312 analysis_predictor.cc:2664] Deprecated. Please use CreatePredictor instead.\n",
      "Processing progress: 100%|██████████| 422468/422468 [1:45:05<00:00, 67.00it/s]  \n"
     ]
    }
   ],
   "source": [
    "# 使用LAC进行处理\n",
    "# Use LAC for processing\n",
    "from LAC import LAC\n",
    "from tqdm import tqdm\n",
    "import re\n",
    "\n",
    "lac = LAC(mode='lac')\n",
    "# 函数：仅输出词性标签为'ORG'的词，并清理非中英文字符\n",
    "# Function: only output words with part of speech tag 'ORG', and clean non-Chinese and non-English characters\n",
    "def extract_orgs_and_clean(text):\n",
    "    lac_result = lac.run([text])\n",
    "    orgs = set()  # 使用集合来存储组织名，以避免重复 # Use a set to store the organization name to avoid duplication\n",
    "    for sentence in lac_result:\n",
    "        words, tags = sentence\n",
    "        orgs.update([re.sub(r'[^\\u4e00-\\u9fffA-Za-z]', '', word) for word, tag in zip(words, tags) if tag == 'ORG'])\n",
    "    return ' '.join(orgs)  # 将结果以空格分隔的字符串形式返回，不会包含重复的组织名 # Return the result as a string separated by spaces, which will not contain duplicate organization names\n",
    "\n",
    "\n",
    "tqdm.pandas(desc=\"Processing progress\")\n",
    "other_news['ORGs'] = other_news['MergedContent'].progress_apply(extract_orgs_and_clean)"
   ]
  },
  {
   "cell_type": "code",
   "execution_count": 8,
   "id": "a0bf67c10a4bc5d4",
   "metadata": {
    "ExecuteTime": {
     "end_time": "2023-11-23T17:39:05.106806Z",
     "start_time": "2023-11-23T17:36:40.275095Z"
    },
    "collapsed": false
   },
   "outputs": [
    {
     "data": {
      "text/html": [
       "<div>\n",
       "<style scoped>\n",
       "    .dataframe tbody tr th:only-of-type {\n",
       "        vertical-align: middle;\n",
       "    }\n",
       "\n",
       "    .dataframe tbody tr th {\n",
       "        vertical-align: top;\n",
       "    }\n",
       "\n",
       "    .dataframe thead th {\n",
       "        text-align: right;\n",
       "    }\n",
       "</style>\n",
       "<table border=\"1\" class=\"dataframe\">\n",
       "  <thead>\n",
       "    <tr style=\"text-align: right;\">\n",
       "      <th></th>\n",
       "      <th>Title</th>\n",
       "      <th>NewsContent</th>\n",
       "      <th>ProcessedNewsTitle</th>\n",
       "      <th>ProcessedNewsContent</th>\n",
       "      <th>MergedContent</th>\n",
       "      <th>name</th>\n",
       "      <th>fullname</th>\n",
       "      <th>code</th>\n",
       "      <th>relevant</th>\n",
       "      <th>ORGs</th>\n",
       "    </tr>\n",
       "  </thead>\n",
       "  <tbody>\n",
       "    <tr>\n",
       "      <th>count</th>\n",
       "      <td>422468</td>\n",
       "      <td>422468</td>\n",
       "      <td>422468</td>\n",
       "      <td>422468</td>\n",
       "      <td>422468</td>\n",
       "      <td>0.0</td>\n",
       "      <td>0.0</td>\n",
       "      <td>0.0</td>\n",
       "      <td>422468</td>\n",
       "      <td>422468</td>\n",
       "    </tr>\n",
       "    <tr>\n",
       "      <th>unique</th>\n",
       "      <td>417191</td>\n",
       "      <td>422468</td>\n",
       "      <td>402762</td>\n",
       "      <td>422468</td>\n",
       "      <td>421634</td>\n",
       "      <td>NaN</td>\n",
       "      <td>NaN</td>\n",
       "      <td>NaN</td>\n",
       "      <td>1</td>\n",
       "      <td>230209</td>\n",
       "    </tr>\n",
       "    <tr>\n",
       "      <th>top</th>\n",
       "      <td>【财华快讯】香港认股证二十大成交金额排名</td>\n",
       "      <td>全景网11月30日讯  近日，深交所创业企业培训中心在深圳举办了第五期“资本市场产品与制...</td>\n",
       "      <td>财华快讯 香港认股证二十大成交金额排名</td>\n",
       "      <td>全景网 月 日讯 近日 深交所创业企业培训中心在深圳举办了第五期 资本市场产品与制度创新研...</td>\n",
       "      <td>月 日晚间国际期货市场行情 品种单位最新价涨跌 CBOT黄豆 美分 蒲 CBOT豆粕 美元...</td>\n",
       "      <td>NaN</td>\n",
       "      <td>NaN</td>\n",
       "      <td>NaN</td>\n",
       "      <td>False</td>\n",
       "      <td></td>\n",
       "    </tr>\n",
       "    <tr>\n",
       "      <th>freq</th>\n",
       "      <td>1028</td>\n",
       "      <td>1</td>\n",
       "      <td>1028</td>\n",
       "      <td>1</td>\n",
       "      <td>30</td>\n",
       "      <td>NaN</td>\n",
       "      <td>NaN</td>\n",
       "      <td>NaN</td>\n",
       "      <td>422468</td>\n",
       "      <td>62297</td>\n",
       "    </tr>\n",
       "    <tr>\n",
       "      <th>mean</th>\n",
       "      <td>NaN</td>\n",
       "      <td>NaN</td>\n",
       "      <td>NaN</td>\n",
       "      <td>NaN</td>\n",
       "      <td>NaN</td>\n",
       "      <td>NaN</td>\n",
       "      <td>NaN</td>\n",
       "      <td>NaN</td>\n",
       "      <td>NaN</td>\n",
       "      <td>NaN</td>\n",
       "    </tr>\n",
       "    <tr>\n",
       "      <th>std</th>\n",
       "      <td>NaN</td>\n",
       "      <td>NaN</td>\n",
       "      <td>NaN</td>\n",
       "      <td>NaN</td>\n",
       "      <td>NaN</td>\n",
       "      <td>NaN</td>\n",
       "      <td>NaN</td>\n",
       "      <td>NaN</td>\n",
       "      <td>NaN</td>\n",
       "      <td>NaN</td>\n",
       "    </tr>\n",
       "    <tr>\n",
       "      <th>min</th>\n",
       "      <td>NaN</td>\n",
       "      <td>NaN</td>\n",
       "      <td>NaN</td>\n",
       "      <td>NaN</td>\n",
       "      <td>NaN</td>\n",
       "      <td>NaN</td>\n",
       "      <td>NaN</td>\n",
       "      <td>NaN</td>\n",
       "      <td>NaN</td>\n",
       "      <td>NaN</td>\n",
       "    </tr>\n",
       "    <tr>\n",
       "      <th>25%</th>\n",
       "      <td>NaN</td>\n",
       "      <td>NaN</td>\n",
       "      <td>NaN</td>\n",
       "      <td>NaN</td>\n",
       "      <td>NaN</td>\n",
       "      <td>NaN</td>\n",
       "      <td>NaN</td>\n",
       "      <td>NaN</td>\n",
       "      <td>NaN</td>\n",
       "      <td>NaN</td>\n",
       "    </tr>\n",
       "    <tr>\n",
       "      <th>50%</th>\n",
       "      <td>NaN</td>\n",
       "      <td>NaN</td>\n",
       "      <td>NaN</td>\n",
       "      <td>NaN</td>\n",
       "      <td>NaN</td>\n",
       "      <td>NaN</td>\n",
       "      <td>NaN</td>\n",
       "      <td>NaN</td>\n",
       "      <td>NaN</td>\n",
       "      <td>NaN</td>\n",
       "    </tr>\n",
       "    <tr>\n",
       "      <th>75%</th>\n",
       "      <td>NaN</td>\n",
       "      <td>NaN</td>\n",
       "      <td>NaN</td>\n",
       "      <td>NaN</td>\n",
       "      <td>NaN</td>\n",
       "      <td>NaN</td>\n",
       "      <td>NaN</td>\n",
       "      <td>NaN</td>\n",
       "      <td>NaN</td>\n",
       "      <td>NaN</td>\n",
       "    </tr>\n",
       "    <tr>\n",
       "      <th>max</th>\n",
       "      <td>NaN</td>\n",
       "      <td>NaN</td>\n",
       "      <td>NaN</td>\n",
       "      <td>NaN</td>\n",
       "      <td>NaN</td>\n",
       "      <td>NaN</td>\n",
       "      <td>NaN</td>\n",
       "      <td>NaN</td>\n",
       "      <td>NaN</td>\n",
       "      <td>NaN</td>\n",
       "    </tr>\n",
       "  </tbody>\n",
       "</table>\n",
       "</div>"
      ],
      "text/plain": [
       "                       Title  \\\n",
       "count                 422468   \n",
       "unique                417191   \n",
       "top     【财华快讯】香港认股证二十大成交金额排名   \n",
       "freq                    1028   \n",
       "mean                     NaN   \n",
       "std                      NaN   \n",
       "min                      NaN   \n",
       "25%                      NaN   \n",
       "50%                      NaN   \n",
       "75%                      NaN   \n",
       "max                      NaN   \n",
       "\n",
       "                                              NewsContent  \\\n",
       "count                                              422468   \n",
       "unique                                             422468   \n",
       "top     　　全景网11月30日讯  近日，深交所创业企业培训中心在深圳举办了第五期“资本市场产品与制...   \n",
       "freq                                                    1   \n",
       "mean                                                  NaN   \n",
       "std                                                   NaN   \n",
       "min                                                   NaN   \n",
       "25%                                                   NaN   \n",
       "50%                                                   NaN   \n",
       "75%                                                   NaN   \n",
       "max                                                   NaN   \n",
       "\n",
       "          ProcessedNewsTitle  \\\n",
       "count                 422468   \n",
       "unique                402762   \n",
       "top      财华快讯 香港认股证二十大成交金额排名   \n",
       "freq                    1028   \n",
       "mean                     NaN   \n",
       "std                      NaN   \n",
       "min                      NaN   \n",
       "25%                      NaN   \n",
       "50%                      NaN   \n",
       "75%                      NaN   \n",
       "max                      NaN   \n",
       "\n",
       "                                     ProcessedNewsContent  \\\n",
       "count                                              422468   \n",
       "unique                                             422468   \n",
       "top      全景网 月 日讯 近日 深交所创业企业培训中心在深圳举办了第五期 资本市场产品与制度创新研...   \n",
       "freq                                                    1   \n",
       "mean                                                  NaN   \n",
       "std                                                   NaN   \n",
       "min                                                   NaN   \n",
       "25%                                                   NaN   \n",
       "50%                                                   NaN   \n",
       "75%                                                   NaN   \n",
       "max                                                   NaN   \n",
       "\n",
       "                                            MergedContent  name  fullname  \\\n",
       "count                                              422468   0.0       0.0   \n",
       "unique                                             421634   NaN       NaN   \n",
       "top      月 日晚间国际期货市场行情 品种单位最新价涨跌 CBOT黄豆 美分 蒲 CBOT豆粕 美元...   NaN       NaN   \n",
       "freq                                                   30   NaN       NaN   \n",
       "mean                                                  NaN   NaN       NaN   \n",
       "std                                                   NaN   NaN       NaN   \n",
       "min                                                   NaN   NaN       NaN   \n",
       "25%                                                   NaN   NaN       NaN   \n",
       "50%                                                   NaN   NaN       NaN   \n",
       "75%                                                   NaN   NaN       NaN   \n",
       "max                                                   NaN   NaN       NaN   \n",
       "\n",
       "        code relevant    ORGs  \n",
       "count    0.0   422468  422468  \n",
       "unique   NaN        1  230209  \n",
       "top      NaN    False          \n",
       "freq     NaN   422468   62297  \n",
       "mean     NaN      NaN     NaN  \n",
       "std      NaN      NaN     NaN  \n",
       "min      NaN      NaN     NaN  \n",
       "25%      NaN      NaN     NaN  \n",
       "50%      NaN      NaN     NaN  \n",
       "75%      NaN      NaN     NaN  \n",
       "max      NaN      NaN     NaN  "
      ]
     },
     "execution_count": 8,
     "metadata": {},
     "output_type": "execute_result"
    }
   ],
   "source": [
    "# 保存结果到Excel文件中\n",
    "# Save the result to an Excel file\n",
    "other_news.to_excel('Other_news_with_ORGs.xlsx')\n",
    "other_news.describe(include='all')"
   ]
  },
  {
   "cell_type": "code",
   "execution_count": 9,
   "id": "29d0a7051d6b01ed",
   "metadata": {
    "ExecuteTime": {
     "end_time": "2023-11-23T17:39:05.807554Z",
     "start_time": "2023-11-23T17:39:05.106209Z"
    },
    "collapsed": false
   },
   "outputs": [
    {
     "data": {
      "text/html": [
       "<div>\n",
       "<style scoped>\n",
       "    .dataframe tbody tr th:only-of-type {\n",
       "        vertical-align: middle;\n",
       "    }\n",
       "\n",
       "    .dataframe tbody tr th {\n",
       "        vertical-align: top;\n",
       "    }\n",
       "\n",
       "    .dataframe thead th {\n",
       "        text-align: right;\n",
       "    }\n",
       "</style>\n",
       "<table border=\"1\" class=\"dataframe\">\n",
       "  <thead>\n",
       "    <tr style=\"text-align: right;\">\n",
       "      <th></th>\n",
       "      <th>Title</th>\n",
       "      <th>NewsContent</th>\n",
       "      <th>MergedContent</th>\n",
       "      <th>ORGs</th>\n",
       "    </tr>\n",
       "  </thead>\n",
       "  <tbody>\n",
       "    <tr>\n",
       "      <th>count</th>\n",
       "      <td>360171</td>\n",
       "      <td>360171</td>\n",
       "      <td>360171</td>\n",
       "      <td>360171</td>\n",
       "    </tr>\n",
       "    <tr>\n",
       "      <th>unique</th>\n",
       "      <td>355412</td>\n",
       "      <td>360171</td>\n",
       "      <td>359591</td>\n",
       "      <td>230208</td>\n",
       "    </tr>\n",
       "    <tr>\n",
       "      <th>top</th>\n",
       "      <td>【财华快讯】香港认股证二十大成交金额排名</td>\n",
       "      <td>全景网11月30日讯  近日，深交所创业企业培训中心在深圳举办了第五期“资本市场产品与制...</td>\n",
       "      <td>月 日晚间国际期货市场行情 品种单位最新价涨跌 CBOT黄豆 美分 蒲 CBOT豆粕 美元...</td>\n",
       "      <td>财华社香港新闻中心</td>\n",
       "    </tr>\n",
       "    <tr>\n",
       "      <th>freq</th>\n",
       "      <td>1028</td>\n",
       "      <td>1</td>\n",
       "      <td>30</td>\n",
       "      <td>3181</td>\n",
       "    </tr>\n",
       "  </tbody>\n",
       "</table>\n",
       "</div>"
      ],
      "text/plain": [
       "                       Title  \\\n",
       "count                 360171   \n",
       "unique                355412   \n",
       "top     【财华快讯】香港认股证二十大成交金额排名   \n",
       "freq                    1028   \n",
       "\n",
       "                                              NewsContent  \\\n",
       "count                                              360171   \n",
       "unique                                             360171   \n",
       "top     　　全景网11月30日讯  近日，深交所创业企业培训中心在深圳举办了第五期“资本市场产品与制...   \n",
       "freq                                                    1   \n",
       "\n",
       "                                            MergedContent       ORGs  \n",
       "count                                              360171     360171  \n",
       "unique                                             359591     230208  \n",
       "top      月 日晚间国际期货市场行情 品种单位最新价涨跌 CBOT黄豆 美分 蒲 CBOT豆粕 美元...  财华社香港新闻中心  \n",
       "freq                                                   30       3181  "
      ]
     },
     "execution_count": 9,
     "metadata": {},
     "output_type": "execute_result"
    }
   ],
   "source": [
    "# 删除无用列\n",
    "# Drop the useless columns\n",
    "cleaned_other_news = other_news.drop(columns=['ProcessedNewsTitle', 'ProcessedNewsContent', 'name', 'fullname', 'code', 'relevant'])\n",
    "\n",
    "# 删除空行\n",
    "# Drop the empty rows\n",
    "cleaned_other_news = cleaned_other_news[cleaned_other_news['ORGs'].apply(lambda x: isinstance(x, str) and x.strip() != '')]\n",
    "\n",
    "cleaned_other_news.describe(include='all')"
   ]
  },
  {
   "cell_type": "code",
   "execution_count": 10,
   "id": "802d6a8719b3db7b",
   "metadata": {
    "ExecuteTime": {
     "end_time": "2023-11-23T17:40:38.802481Z",
     "start_time": "2023-11-23T17:39:05.808006Z"
    },
    "collapsed": false
   },
   "outputs": [],
   "source": [
    "# 保存结果到Excel文件中\n",
    "# Save the result to an Excel file\n",
    "cleaned_other_news.to_excel('Cleaned_Other_news_with_ORGs.xlsx')"
   ]
  },
  {
   "cell_type": "markdown",
   "id": "47767e221ef175b3",
   "metadata": {
    "collapsed": false
   },
   "source": [
    "可以看到，我们成功地从其他新闻中提取了组织名，并将其保存到了Excel文件中。\n",
    "接下来，我们使用thefuzz来计算相似度，将相似度大于80的组织名与A_share_list.json中的name进行匹配，得到匹配的组织名。\n",
    "\n",
    "We can see that we successfully extracted the organization names from the other news and saved them to an Excel file.\n",
    "Next, we use thefuzz to calculate the similarity, match the organization names with a similarity greater than 80 with the name in A_share_list.json, and obtain the matching organization names."
   ]
  },
  {
   "cell_type": "code",
   "execution_count": 2,
   "id": "1be1824a70c4b8dd",
   "metadata": {
    "ExecuteTime": {
     "end_time": "2023-11-23T23:25:47.173250Z",
     "start_time": "2023-11-23T23:25:22.366986Z"
    },
    "collapsed": false
   },
   "outputs": [],
   "source": [
    "import pandas as pd\n",
    "from thefuzz import fuzz\n",
    "from tqdm import tqdm\n",
    "import json\n",
    "\n",
    "cleaned_other_news = pd.read_excel('Cleaned_Other_news_with_ORGs.xlsx', index_col='NewsID')\n",
    "with open('A_share_list.json', 'r', encoding='utf-8') as file:\n",
    "    share_list = json.load(file)\n",
    "\n",
    "name_list = [item['name'] for item in share_list]\n",
    "fullname_list = [item['fullname'] for item in share_list]\n",
    "\n",
    "# 计算相似度函数\n",
    "# Similarity calculation function\n",
    "def calculate_similarity(orgs, threshold=80):\n",
    "    scores = []\n",
    "    names = []\n",
    "    for name in name_list:\n",
    "        for org in orgs.split():\n",
    "            score = fuzz.ratio(org, name)\n",
    "            if score >= threshold:\n",
    "                scores.append(score)\n",
    "                names.append(name)E\n",
    "\n",
    "    # Return empty strings if scores and names are empty\n",
    "    return scores if scores else '', names if names else ''"
   ]
  },
  {
   "cell_type": "code",
   "execution_count": 3,
   "id": "23c994da2b7c9b5a",
   "metadata": {
    "ExecuteTime": {
     "end_time": "2023-11-23T23:46:53.125278Z",
     "start_time": "2023-11-23T23:25:47.177686Z"
    },
    "collapsed": false
   },
   "outputs": [
    {
     "name": "stderr",
     "output_type": "stream",
     "text": [
      "Calculating similarities: 100%|██████████| 360171/360171 [21:05<00:00, 284.57it/s]\n"
     ]
    }
   ],
   "source": [
    "# Apply the modified function with a progress bar\n",
    "tqdm.pandas(desc=\"Calculating similarities\")\n",
    "cleaned_other_news['Similarity_Scores'], cleaned_other_news['Matching_Names'] = zip(*cleaned_other_news['ORGs'].progress_apply(calculate_similarity))"
   ]
  },
  {
   "cell_type": "code",
   "execution_count": 5,
   "id": "d4a709e814ae494c",
   "metadata": {
    "ExecuteTime": {
     "end_time": "2023-11-23T23:46:53.895818Z",
     "start_time": "2023-11-23T23:46:53.704913Z"
    },
    "collapsed": false
   },
   "outputs": [],
   "source": [
    "# Remove rows where 'Similarity_Scores' and 'Matching_Names' are empty strings\n",
    "cleaned_other_news = cleaned_other_news[(cleaned_other_news['Similarity_Scores'] != '') & (cleaned_other_news['Matching_Names'] != '')]"
   ]
  },
  {
   "cell_type": "code",
   "execution_count": 7,
   "id": "55f26ccfb43c9ba2",
   "metadata": {
    "ExecuteTime": {
     "end_time": "2023-11-23T23:48:40.768750Z",
     "start_time": "2023-11-23T23:48:40.724658Z"
    },
    "collapsed": false
   },
   "outputs": [
    {
     "data": {
      "text/html": [
       "<div>\n",
       "<style scoped>\n",
       "    .dataframe tbody tr th:only-of-type {\n",
       "        vertical-align: middle;\n",
       "    }\n",
       "\n",
       "    .dataframe tbody tr th {\n",
       "        vertical-align: top;\n",
       "    }\n",
       "\n",
       "    .dataframe thead th {\n",
       "        text-align: right;\n",
       "    }\n",
       "</style>\n",
       "<table border=\"1\" class=\"dataframe\">\n",
       "  <thead>\n",
       "    <tr style=\"text-align: right;\">\n",
       "      <th></th>\n",
       "      <th>Title</th>\n",
       "      <th>NewsContent</th>\n",
       "      <th>MergedContent</th>\n",
       "      <th>ORGs</th>\n",
       "      <th>Similarity_Scores</th>\n",
       "      <th>Matching_Names</th>\n",
       "    </tr>\n",
       "  </thead>\n",
       "  <tbody>\n",
       "    <tr>\n",
       "      <th>count</th>\n",
       "      <td>11968</td>\n",
       "      <td>11968</td>\n",
       "      <td>11968</td>\n",
       "      <td>11968</td>\n",
       "      <td>11968</td>\n",
       "      <td>11968</td>\n",
       "    </tr>\n",
       "    <tr>\n",
       "      <th>unique</th>\n",
       "      <td>11820</td>\n",
       "      <td>11968</td>\n",
       "      <td>11965</td>\n",
       "      <td>8573</td>\n",
       "      <td>36</td>\n",
       "      <td>545</td>\n",
       "    </tr>\n",
       "    <tr>\n",
       "      <th>top</th>\n",
       "      <td>【报章摘要】今日香港报章财经要闻</td>\n",
       "      <td>昨天，在香港出席“银行QDII业务联合工作小组的第一次会议”的中国银监会副主席唐双宁透露...</td>\n",
       "      <td>月 日人民币兑美元中间价下调 个基点  月 日 人民币兑美元中间价下调 个基点 报 中国人...</td>\n",
       "      <td>中国人民银行 央行</td>\n",
       "      <td>[80]</td>\n",
       "      <td>[中国银行]</td>\n",
       "    </tr>\n",
       "    <tr>\n",
       "      <th>freq</th>\n",
       "      <td>18</td>\n",
       "      <td>1</td>\n",
       "      <td>2</td>\n",
       "      <td>586</td>\n",
       "      <td>8970</td>\n",
       "      <td>4774</td>\n",
       "    </tr>\n",
       "  </tbody>\n",
       "</table>\n",
       "</div>"
      ],
      "text/plain": [
       "                   Title                                        NewsContent  \\\n",
       "count              11968                                              11968   \n",
       "unique             11820                                              11968   \n",
       "top     【报章摘要】今日香港报章财经要闻  　　昨天，在香港出席“银行QDII业务联合工作小组的第一次会议”的中国银监会副主席唐双宁透露...   \n",
       "freq                  18                                                  1   \n",
       "\n",
       "                                            MergedContent       ORGs  \\\n",
       "count                                               11968      11968   \n",
       "unique                                              11965       8573   \n",
       "top      月 日人民币兑美元中间价下调 个基点  月 日 人民币兑美元中间价下调 个基点 报 中国人...  中国人民银行 央行   \n",
       "freq                                                    2        586   \n",
       "\n",
       "       Similarity_Scores Matching_Names  \n",
       "count              11968          11968  \n",
       "unique                36            545  \n",
       "top                 [80]         [中国银行]  \n",
       "freq                8970           4774  "
      ]
     },
     "execution_count": 7,
     "metadata": {},
     "output_type": "execute_result"
    }
   ],
   "source": [
    "cleaned_other_news.describe(include='all')"
   ]
  },
  {
   "cell_type": "code",
   "execution_count": 8,
   "id": "80d62d4e89d0c58",
   "metadata": {
    "ExecuteTime": {
     "end_time": "2023-11-23T23:48:45.753221Z",
     "start_time": "2023-11-23T23:48:41.997388Z"
    },
    "collapsed": false
   },
   "outputs": [],
   "source": [
    "# 保存结果到Excel文件中\n",
    "# Save the result to an Excel file\n",
    "cleaned_other_news.to_excel('Cleaned_Other_news_with_ORGs_and_Similarities.xlsx')"
   ]
  },
  {
   "cell_type": "markdown",
   "id": "7bbc228351301ad",
   "metadata": {
    "collapsed": false
   },
   "source": [
    "至此，我们成功地计算了相似度，并将相似度大于80的组织名与A_share_list.json中的name进行匹配，得到匹配的组织名。\n",
    "\n",
    "At this point, we have successfully calculated the similarity, matched the organization names with a similarity greater than 80 with the name in A_share_list.json, and obtained the matching organization names."
   ]
  },
  {
   "cell_type": "markdown",
   "id": "b00540d00b21ae79",
   "metadata": {
    "collapsed": false
   },
   "source": [
    "### Part 4: Data Merging"
   ]
  },
  {
   "cell_type": "markdown",
   "id": "89ca52d8a5c238f5",
   "metadata": {
    "collapsed": false
   },
   "source": [
    "在这一部分，我们将完全匹配的数据[Full_Relevant_News](../Backup/Full_Relevant_News.xlsx)和通过LAC以及thefuzz筛选后的数据[Cleaned_Other_news_with_ORGs_and_Similarities](../Backup/Cleaned_Other_news_with_ORGs_and_Similarities.xlsx)进行合并，得到一个完整的数据集，来进行情感分析。\n",
    "\n",
    "以下是在这一部分使用或生成的文件：\n",
    "- [A_share_list.json](../Raw_data/A_share_list.json): 股票公司信息\n",
    "- [Full_Relevant_News.xlsx](../Backup/Full_Relevant_News.xlsx): 完全匹配A_share_list.json中的name、fullname、code的新闻\n",
    "- [Cleaned_Other_news_with_ORGs_and_Similarities.xlsx](../Backup/Cleaned_Other_news_with_ORGs_and_Similarities.xlsx): 使用thefuzz计算相似度后，分数大于80的其他新闻\n",
    "- [Merged_News.xlsx](../Backup/Merged_News.xlsx): 两个数据集合并后的完整数据集\n",
    "- [Task1.xlsx](../Submission_Excel/Task1.xlsx): Task 1的提交结果\n",
    "\n",
    "In this part, we merge the fully matching data [Full_Relevant_News](../Backup/Full_Relevant_News.xlsx) and the data filtered by LAC and thefuzz [Cleaned_Other_news_with_ORGs_and_Similarities](../Backup/Cleaned_Other_news_with_ORGs_and_Similarities.xlsx) to obtain a complete data set for sentiment analysis.\n",
    "\n",
    "The following are the files used or generated in this part:\n",
    "- [A_share_list.json](../Raw_data/A_share_list.json): Stock company information\n",
    "- [Full_Relevant_News.xlsx](../Backup/Full_Relevant_News.xlsx): News that fully match the name, fullname, or code in A_share_list.json\n",
    "- [Cleaned_Other_news_with_ORGs_and_Similarities.xlsx](../Backup/Cleaned_Other_news_with_ORGs_and_Similarities.xlsx): Other news with a score greater than 80 after calculating the similarity using thefuzz\n",
    "- [Merged_News.xlsx](../Backup/Merged_News.xlsx): The complete data set after merging the two data sets\n",
    "- [Task1.xlsx](../Submission_Excel/Task1.xlsx): The submission result of Task 1"
   ]
  },
  {
   "cell_type": "code",
   "execution_count": 1,
   "id": "9eb73c13fede2c40",
   "metadata": {
    "ExecuteTime": {
     "end_time": "2023-11-26T09:07:34.944653Z",
     "start_time": "2023-11-26T09:06:34.131629Z"
    },
    "collapsed": false
   },
   "outputs": [],
   "source": [
    "import pandas as pd\n",
    "import json\n",
    "import ast\n",
    "\n",
    "full_relevant_news = pd.read_excel('Full_Relevant_News.xlsx')\n",
    "cleaned_other_news = pd.read_excel('Cleaned_Other_news_with_ORGs_and_Similarities.xlsx')\n",
    "\n",
    "# 从JSON文件中读取股票信息\n",
    "# Read the stock information from the JSON file\n",
    "with open('A_share_list.json', 'r', encoding='utf-8') as file:\n",
    "    share_list = json.load(file)"
   ]
  },
  {
   "cell_type": "code",
   "execution_count": 2,
   "id": "b3690404782285d8",
   "metadata": {
    "ExecuteTime": {
     "end_time": "2023-11-26T09:07:36.392180Z",
     "start_time": "2023-11-26T09:07:34.944911Z"
    },
    "collapsed": false
   },
   "outputs": [
    {
     "data": {
      "text/html": [
       "<div>\n",
       "<style scoped>\n",
       "    .dataframe tbody tr th:only-of-type {\n",
       "        vertical-align: middle;\n",
       "    }\n",
       "\n",
       "    .dataframe tbody tr th {\n",
       "        vertical-align: top;\n",
       "    }\n",
       "\n",
       "    .dataframe thead th {\n",
       "        text-align: right;\n",
       "    }\n",
       "</style>\n",
       "<table border=\"1\" class=\"dataframe\">\n",
       "  <thead>\n",
       "    <tr style=\"text-align: right;\">\n",
       "      <th></th>\n",
       "      <th>NewsID</th>\n",
       "      <th>Title</th>\n",
       "      <th>NewsContent</th>\n",
       "      <th>ProcessedNewsTitle</th>\n",
       "      <th>ProcessedNewsContent</th>\n",
       "      <th>MergedContent</th>\n",
       "      <th>name</th>\n",
       "      <th>fullname</th>\n",
       "      <th>code</th>\n",
       "      <th>relevant</th>\n",
       "    </tr>\n",
       "  </thead>\n",
       "  <tbody>\n",
       "    <tr>\n",
       "      <th>count</th>\n",
       "      <td>5.710350e+05</td>\n",
       "      <td>571035</td>\n",
       "      <td>571035</td>\n",
       "      <td>571035</td>\n",
       "      <td>571035</td>\n",
       "      <td>571035</td>\n",
       "      <td>563121</td>\n",
       "      <td>43138</td>\n",
       "      <td>79574</td>\n",
       "      <td>571035</td>\n",
       "    </tr>\n",
       "    <tr>\n",
       "      <th>unique</th>\n",
       "      <td>NaN</td>\n",
       "      <td>561592</td>\n",
       "      <td>571035</td>\n",
       "      <td>542081</td>\n",
       "      <td>571035</td>\n",
       "      <td>570283</td>\n",
       "      <td>130096</td>\n",
       "      <td>7713</td>\n",
       "      <td>7054</td>\n",
       "      <td>1</td>\n",
       "    </tr>\n",
       "    <tr>\n",
       "      <th>top</th>\n",
       "      <td>NaN</td>\n",
       "      <td>【财华快讯】香港股票二十大成交量排名</td>\n",
       "      <td>本报记者 田雨 李京华    　　中国建设银行股份有限公司原董事长张恩照受贿案３日一审宣...</td>\n",
       "      <td>财华快讯 香港股票二十大成交量排名</td>\n",
       "      <td>本报记者 田雨 李京华 中国建设银行股份有限公司原董事长张恩照受贿案 日一审宣判 北京市第...</td>\n",
       "      <td>财华快讯 香港股份在美国最后成交价 香港股份在美国的最后成交价 公司名称最新价 美元 相对...</td>\n",
       "      <td>['ST生态']</td>\n",
       "      <td>['中信证券股份有限公司']</td>\n",
       "      <td>['601857']</td>\n",
       "      <td>True</td>\n",
       "    </tr>\n",
       "    <tr>\n",
       "      <th>freq</th>\n",
       "      <td>NaN</td>\n",
       "      <td>1032</td>\n",
       "      <td>1</td>\n",
       "      <td>1032</td>\n",
       "      <td>1</td>\n",
       "      <td>151</td>\n",
       "      <td>10312</td>\n",
       "      <td>574</td>\n",
       "      <td>459</td>\n",
       "      <td>571035</td>\n",
       "    </tr>\n",
       "    <tr>\n",
       "      <th>mean</th>\n",
       "      <td>5.518002e+05</td>\n",
       "      <td>NaN</td>\n",
       "      <td>NaN</td>\n",
       "      <td>NaN</td>\n",
       "      <td>NaN</td>\n",
       "      <td>NaN</td>\n",
       "      <td>NaN</td>\n",
       "      <td>NaN</td>\n",
       "      <td>NaN</td>\n",
       "      <td>NaN</td>\n",
       "    </tr>\n",
       "    <tr>\n",
       "      <th>std</th>\n",
       "      <td>2.903935e+05</td>\n",
       "      <td>NaN</td>\n",
       "      <td>NaN</td>\n",
       "      <td>NaN</td>\n",
       "      <td>NaN</td>\n",
       "      <td>NaN</td>\n",
       "      <td>NaN</td>\n",
       "      <td>NaN</td>\n",
       "      <td>NaN</td>\n",
       "      <td>NaN</td>\n",
       "    </tr>\n",
       "    <tr>\n",
       "      <th>min</th>\n",
       "      <td>1.000000e+00</td>\n",
       "      <td>NaN</td>\n",
       "      <td>NaN</td>\n",
       "      <td>NaN</td>\n",
       "      <td>NaN</td>\n",
       "      <td>NaN</td>\n",
       "      <td>NaN</td>\n",
       "      <td>NaN</td>\n",
       "      <td>NaN</td>\n",
       "      <td>NaN</td>\n",
       "    </tr>\n",
       "    <tr>\n",
       "      <th>25%</th>\n",
       "      <td>3.119695e+05</td>\n",
       "      <td>NaN</td>\n",
       "      <td>NaN</td>\n",
       "      <td>NaN</td>\n",
       "      <td>NaN</td>\n",
       "      <td>NaN</td>\n",
       "      <td>NaN</td>\n",
       "      <td>NaN</td>\n",
       "      <td>NaN</td>\n",
       "      <td>NaN</td>\n",
       "    </tr>\n",
       "    <tr>\n",
       "      <th>50%</th>\n",
       "      <td>5.672300e+05</td>\n",
       "      <td>NaN</td>\n",
       "      <td>NaN</td>\n",
       "      <td>NaN</td>\n",
       "      <td>NaN</td>\n",
       "      <td>NaN</td>\n",
       "      <td>NaN</td>\n",
       "      <td>NaN</td>\n",
       "      <td>NaN</td>\n",
       "      <td>NaN</td>\n",
       "    </tr>\n",
       "    <tr>\n",
       "      <th>75%</th>\n",
       "      <td>7.994375e+05</td>\n",
       "      <td>NaN</td>\n",
       "      <td>NaN</td>\n",
       "      <td>NaN</td>\n",
       "      <td>NaN</td>\n",
       "      <td>NaN</td>\n",
       "      <td>NaN</td>\n",
       "      <td>NaN</td>\n",
       "      <td>NaN</td>\n",
       "      <td>NaN</td>\n",
       "    </tr>\n",
       "    <tr>\n",
       "      <th>max</th>\n",
       "      <td>1.037035e+06</td>\n",
       "      <td>NaN</td>\n",
       "      <td>NaN</td>\n",
       "      <td>NaN</td>\n",
       "      <td>NaN</td>\n",
       "      <td>NaN</td>\n",
       "      <td>NaN</td>\n",
       "      <td>NaN</td>\n",
       "      <td>NaN</td>\n",
       "      <td>NaN</td>\n",
       "    </tr>\n",
       "  </tbody>\n",
       "</table>\n",
       "</div>"
      ],
      "text/plain": [
       "              NewsID               Title  \\\n",
       "count   5.710350e+05              571035   \n",
       "unique           NaN              561592   \n",
       "top              NaN  【财华快讯】香港股票二十大成交量排名   \n",
       "freq             NaN                1032   \n",
       "mean    5.518002e+05                 NaN   \n",
       "std     2.903935e+05                 NaN   \n",
       "min     1.000000e+00                 NaN   \n",
       "25%     3.119695e+05                 NaN   \n",
       "50%     5.672300e+05                 NaN   \n",
       "75%     7.994375e+05                 NaN   \n",
       "max     1.037035e+06                 NaN   \n",
       "\n",
       "                                              NewsContent  ProcessedNewsTitle  \\\n",
       "count                                              571035              571035   \n",
       "unique                                             571035              542081   \n",
       "top     　　本报记者 田雨 李京华    　　中国建设银行股份有限公司原董事长张恩照受贿案３日一审宣...   财华快讯 香港股票二十大成交量排名   \n",
       "freq                                                    1                1032   \n",
       "mean                                                  NaN                 NaN   \n",
       "std                                                   NaN                 NaN   \n",
       "min                                                   NaN                 NaN   \n",
       "25%                                                   NaN                 NaN   \n",
       "50%                                                   NaN                 NaN   \n",
       "75%                                                   NaN                 NaN   \n",
       "max                                                   NaN                 NaN   \n",
       "\n",
       "                                     ProcessedNewsContent  \\\n",
       "count                                              571035   \n",
       "unique                                             571035   \n",
       "top      本报记者 田雨 李京华 中国建设银行股份有限公司原董事长张恩照受贿案 日一审宣判 北京市第...   \n",
       "freq                                                    1   \n",
       "mean                                                  NaN   \n",
       "std                                                   NaN   \n",
       "min                                                   NaN   \n",
       "25%                                                   NaN   \n",
       "50%                                                   NaN   \n",
       "75%                                                   NaN   \n",
       "max                                                   NaN   \n",
       "\n",
       "                                            MergedContent      name  \\\n",
       "count                                              571035    563121   \n",
       "unique                                             570283    130096   \n",
       "top      财华快讯 香港股份在美国最后成交价 香港股份在美国的最后成交价 公司名称最新价 美元 相对...  ['ST生态']   \n",
       "freq                                                  151     10312   \n",
       "mean                                                  NaN       NaN   \n",
       "std                                                   NaN       NaN   \n",
       "min                                                   NaN       NaN   \n",
       "25%                                                   NaN       NaN   \n",
       "50%                                                   NaN       NaN   \n",
       "75%                                                   NaN       NaN   \n",
       "max                                                   NaN       NaN   \n",
       "\n",
       "              fullname        code relevant  \n",
       "count            43138       79574   571035  \n",
       "unique            7713        7054        1  \n",
       "top     ['中信证券股份有限公司']  ['601857']     True  \n",
       "freq               574         459   571035  \n",
       "mean               NaN         NaN      NaN  \n",
       "std                NaN         NaN      NaN  \n",
       "min                NaN         NaN      NaN  \n",
       "25%                NaN         NaN      NaN  \n",
       "50%                NaN         NaN      NaN  \n",
       "75%                NaN         NaN      NaN  \n",
       "max                NaN         NaN      NaN  "
      ]
     },
     "execution_count": 2,
     "metadata": {},
     "output_type": "execute_result"
    }
   ],
   "source": [
    "full_relevant_news.describe(include='all')"
   ]
  },
  {
   "cell_type": "code",
   "execution_count": 3,
   "id": "693fb33aefe302a8",
   "metadata": {
    "ExecuteTime": {
     "end_time": "2023-11-26T09:07:36.643544Z",
     "start_time": "2023-11-26T09:07:36.393006Z"
    },
    "collapsed": false
   },
   "outputs": [],
   "source": [
    "# 删除无用列\n",
    "# Drop the useless columns\n",
    "full_relevant_news = full_relevant_news.drop(['ProcessedNewsTitle', 'ProcessedNewsContent', 'MergedContent'], axis=1)\n",
    "\n",
    "# 重命名列\n",
    "# Rename the columns\n",
    "full_relevant_news = full_relevant_news.rename(columns={'relevant': 'full_relevant'})"
   ]
  },
  {
   "cell_type": "code",
   "execution_count": 4,
   "id": "86fdbb4600700e4e",
   "metadata": {
    "ExecuteTime": {
     "end_time": "2023-11-26T09:07:50.626080Z",
     "start_time": "2023-11-26T09:07:36.647317Z"
    },
    "collapsed": false
   },
   "outputs": [],
   "source": [
    "# 创建以 'fullname' 为键，'name' 为值的字典\n",
    "# Create a dictionary with 'fullname' as the key and 'name' as the value\n",
    "fullname_map = {item['fullname']: item['name'] for item in share_list if 'fullname' in item}\n",
    "\n",
    "# 创建以 'code' 为键，'name' 为值的字典\n",
    "# Create a dictionary with 'code' as the key and 'name' as the value\n",
    "code_map = {item['code']: item['name'] for item in share_list if 'code' in item}\n",
    "\n",
    "# 更新 DataFrame\n",
    "# Update the DataFrame\n",
    "for index, row in full_relevant_news.iterrows():\n",
    "    # 初始化或获取当前 name 列的列表\n",
    "    # Initialize or get the list of the current name column\n",
    "    current_names = ast.literal_eval(row['name']) if pd.notna(row['name']) else []\n",
    "\n",
    "    if pd.notna(row['fullname']):\n",
    "        try:\n",
    "            fullname_list = ast.literal_eval(row['fullname'])\n",
    "            if fullname_list and isinstance(fullname_list, list):\n",
    "                fullname = fullname_list[0]\n",
    "                if fullname in fullname_map and fullname_map[fullname] not in current_names:\n",
    "                    current_names.append(fullname_map[fullname])\n",
    "        except (ValueError, SyntaxError):\n",
    "            pass\n",
    "\n",
    "    if pd.notna(row['code']):\n",
    "        try:\n",
    "            code_list = ast.literal_eval(row['code'])\n",
    "            if code_list and isinstance(code_list, list):\n",
    "                code = code_list[0]\n",
    "                if code in code_map and code_map[code] not in current_names:\n",
    "                    current_names.append(code_map[code])\n",
    "        except (ValueError, SyntaxError):\n",
    "            pass\n",
    "    \n",
    "    full_relevant_news.at[index, 'name'] = str(current_names)"
   ]
  },
  {
   "cell_type": "code",
   "execution_count": 5,
   "id": "66ef42dde1ed4674",
   "metadata": {
    "ExecuteTime": {
     "end_time": "2023-11-26T09:07:51.163380Z",
     "start_time": "2023-11-26T09:07:50.625350Z"
    },
    "collapsed": false
   },
   "outputs": [],
   "source": [
    "# 删除无用列\n",
    "# Drop the useless columns\n",
    "full_relevant_news = full_relevant_news.drop(['Title', 'fullname', 'code'], axis=1)"
   ]
  },
  {
   "cell_type": "code",
   "execution_count": 6,
   "id": "11e0a94e7de9df91",
   "metadata": {
    "ExecuteTime": {
     "end_time": "2023-11-26T09:07:51.498629Z",
     "start_time": "2023-11-26T09:07:51.164172Z"
    },
    "collapsed": false
   },
   "outputs": [
    {
     "data": {
      "text/html": [
       "<div>\n",
       "<style scoped>\n",
       "    .dataframe tbody tr th:only-of-type {\n",
       "        vertical-align: middle;\n",
       "    }\n",
       "\n",
       "    .dataframe tbody tr th {\n",
       "        vertical-align: top;\n",
       "    }\n",
       "\n",
       "    .dataframe thead th {\n",
       "        text-align: right;\n",
       "    }\n",
       "</style>\n",
       "<table border=\"1\" class=\"dataframe\">\n",
       "  <thead>\n",
       "    <tr style=\"text-align: right;\">\n",
       "      <th></th>\n",
       "      <th>NewsID</th>\n",
       "      <th>NewsContent</th>\n",
       "      <th>name</th>\n",
       "      <th>full_relevant</th>\n",
       "    </tr>\n",
       "  </thead>\n",
       "  <tbody>\n",
       "    <tr>\n",
       "      <th>count</th>\n",
       "      <td>5.710350e+05</td>\n",
       "      <td>571035</td>\n",
       "      <td>571035</td>\n",
       "      <td>571035</td>\n",
       "    </tr>\n",
       "    <tr>\n",
       "      <th>unique</th>\n",
       "      <td>NaN</td>\n",
       "      <td>571035</td>\n",
       "      <td>132355</td>\n",
       "      <td>1</td>\n",
       "    </tr>\n",
       "    <tr>\n",
       "      <th>top</th>\n",
       "      <td>NaN</td>\n",
       "      <td>本报记者 田雨 李京华    　　中国建设银行股份有限公司原董事长张恩照受贿案３日一审宣...</td>\n",
       "      <td>['ST生态']</td>\n",
       "      <td>True</td>\n",
       "    </tr>\n",
       "    <tr>\n",
       "      <th>freq</th>\n",
       "      <td>NaN</td>\n",
       "      <td>1</td>\n",
       "      <td>10228</td>\n",
       "      <td>571035</td>\n",
       "    </tr>\n",
       "    <tr>\n",
       "      <th>mean</th>\n",
       "      <td>5.518002e+05</td>\n",
       "      <td>NaN</td>\n",
       "      <td>NaN</td>\n",
       "      <td>NaN</td>\n",
       "    </tr>\n",
       "    <tr>\n",
       "      <th>std</th>\n",
       "      <td>2.903935e+05</td>\n",
       "      <td>NaN</td>\n",
       "      <td>NaN</td>\n",
       "      <td>NaN</td>\n",
       "    </tr>\n",
       "    <tr>\n",
       "      <th>min</th>\n",
       "      <td>1.000000e+00</td>\n",
       "      <td>NaN</td>\n",
       "      <td>NaN</td>\n",
       "      <td>NaN</td>\n",
       "    </tr>\n",
       "    <tr>\n",
       "      <th>25%</th>\n",
       "      <td>3.119695e+05</td>\n",
       "      <td>NaN</td>\n",
       "      <td>NaN</td>\n",
       "      <td>NaN</td>\n",
       "    </tr>\n",
       "    <tr>\n",
       "      <th>50%</th>\n",
       "      <td>5.672300e+05</td>\n",
       "      <td>NaN</td>\n",
       "      <td>NaN</td>\n",
       "      <td>NaN</td>\n",
       "    </tr>\n",
       "    <tr>\n",
       "      <th>75%</th>\n",
       "      <td>7.994375e+05</td>\n",
       "      <td>NaN</td>\n",
       "      <td>NaN</td>\n",
       "      <td>NaN</td>\n",
       "    </tr>\n",
       "    <tr>\n",
       "      <th>max</th>\n",
       "      <td>1.037035e+06</td>\n",
       "      <td>NaN</td>\n",
       "      <td>NaN</td>\n",
       "      <td>NaN</td>\n",
       "    </tr>\n",
       "  </tbody>\n",
       "</table>\n",
       "</div>"
      ],
      "text/plain": [
       "              NewsID                                        NewsContent  \\\n",
       "count   5.710350e+05                                             571035   \n",
       "unique           NaN                                             571035   \n",
       "top              NaN  　　本报记者 田雨 李京华    　　中国建设银行股份有限公司原董事长张恩照受贿案３日一审宣...   \n",
       "freq             NaN                                                  1   \n",
       "mean    5.518002e+05                                                NaN   \n",
       "std     2.903935e+05                                                NaN   \n",
       "min     1.000000e+00                                                NaN   \n",
       "25%     3.119695e+05                                                NaN   \n",
       "50%     5.672300e+05                                                NaN   \n",
       "75%     7.994375e+05                                                NaN   \n",
       "max     1.037035e+06                                                NaN   \n",
       "\n",
       "            name full_relevant  \n",
       "count     571035        571035  \n",
       "unique    132355             1  \n",
       "top     ['ST生态']          True  \n",
       "freq       10228        571035  \n",
       "mean         NaN           NaN  \n",
       "std          NaN           NaN  \n",
       "min          NaN           NaN  \n",
       "25%          NaN           NaN  \n",
       "50%          NaN           NaN  \n",
       "75%          NaN           NaN  \n",
       "max          NaN           NaN  "
      ]
     },
     "execution_count": 6,
     "metadata": {},
     "output_type": "execute_result"
    }
   ],
   "source": [
    "full_relevant_news.describe(include='all')"
   ]
  },
  {
   "cell_type": "markdown",
   "id": "c35b631a6c114f00",
   "metadata": {
    "collapsed": false
   },
   "source": [
    "至此，我们完成了完全匹配的新闻数据的处理。下面，我们对清洗后的其他新闻数据进行处理。\n",
    "\n",
    "At this point, we have completed the processing of the fully matching news data. Next, we process the cleaned other news data."
   ]
  },
  {
   "cell_type": "code",
   "execution_count": 7,
   "id": "9955b4116e5c8434",
   "metadata": {
    "ExecuteTime": {
     "end_time": "2023-11-26T09:07:51.561477Z",
     "start_time": "2023-11-26T09:07:51.498392Z"
    },
    "collapsed": false
   },
   "outputs": [
    {
     "data": {
      "text/html": [
       "<div>\n",
       "<style scoped>\n",
       "    .dataframe tbody tr th:only-of-type {\n",
       "        vertical-align: middle;\n",
       "    }\n",
       "\n",
       "    .dataframe tbody tr th {\n",
       "        vertical-align: top;\n",
       "    }\n",
       "\n",
       "    .dataframe thead th {\n",
       "        text-align: right;\n",
       "    }\n",
       "</style>\n",
       "<table border=\"1\" class=\"dataframe\">\n",
       "  <thead>\n",
       "    <tr style=\"text-align: right;\">\n",
       "      <th></th>\n",
       "      <th>NewsID</th>\n",
       "      <th>Title</th>\n",
       "      <th>NewsContent</th>\n",
       "      <th>MergedContent</th>\n",
       "      <th>ORGs</th>\n",
       "      <th>Similarity_Scores</th>\n",
       "      <th>Matching_Names</th>\n",
       "    </tr>\n",
       "  </thead>\n",
       "  <tbody>\n",
       "    <tr>\n",
       "      <th>count</th>\n",
       "      <td>1.196800e+04</td>\n",
       "      <td>11968</td>\n",
       "      <td>11968</td>\n",
       "      <td>11968</td>\n",
       "      <td>11968</td>\n",
       "      <td>11968</td>\n",
       "      <td>11968</td>\n",
       "    </tr>\n",
       "    <tr>\n",
       "      <th>unique</th>\n",
       "      <td>NaN</td>\n",
       "      <td>11820</td>\n",
       "      <td>11968</td>\n",
       "      <td>11965</td>\n",
       "      <td>8573</td>\n",
       "      <td>36</td>\n",
       "      <td>545</td>\n",
       "    </tr>\n",
       "    <tr>\n",
       "      <th>top</th>\n",
       "      <td>NaN</td>\n",
       "      <td>【报章摘要】今日香港报章财经要闻</td>\n",
       "      <td>昨天，在香港出席“银行QDII业务联合工作小组的第一次会议”的中国银监会副主席唐双宁透露...</td>\n",
       "      <td>月 日人民币兑美元中间价下调 个基点  月 日 人民币兑美元中间价下调 个基点 报 中国人...</td>\n",
       "      <td>中国人民银行 央行</td>\n",
       "      <td>[80]</td>\n",
       "      <td>['中国银行']</td>\n",
       "    </tr>\n",
       "    <tr>\n",
       "      <th>freq</th>\n",
       "      <td>NaN</td>\n",
       "      <td>18</td>\n",
       "      <td>1</td>\n",
       "      <td>2</td>\n",
       "      <td>586</td>\n",
       "      <td>8970</td>\n",
       "      <td>4774</td>\n",
       "    </tr>\n",
       "    <tr>\n",
       "      <th>mean</th>\n",
       "      <td>4.306965e+05</td>\n",
       "      <td>NaN</td>\n",
       "      <td>NaN</td>\n",
       "      <td>NaN</td>\n",
       "      <td>NaN</td>\n",
       "      <td>NaN</td>\n",
       "      <td>NaN</td>\n",
       "    </tr>\n",
       "    <tr>\n",
       "      <th>std</th>\n",
       "      <td>3.091986e+05</td>\n",
       "      <td>NaN</td>\n",
       "      <td>NaN</td>\n",
       "      <td>NaN</td>\n",
       "      <td>NaN</td>\n",
       "      <td>NaN</td>\n",
       "      <td>NaN</td>\n",
       "    </tr>\n",
       "    <tr>\n",
       "      <th>min</th>\n",
       "      <td>7.500000e+01</td>\n",
       "      <td>NaN</td>\n",
       "      <td>NaN</td>\n",
       "      <td>NaN</td>\n",
       "      <td>NaN</td>\n",
       "      <td>NaN</td>\n",
       "      <td>NaN</td>\n",
       "    </tr>\n",
       "    <tr>\n",
       "      <th>25%</th>\n",
       "      <td>1.727830e+05</td>\n",
       "      <td>NaN</td>\n",
       "      <td>NaN</td>\n",
       "      <td>NaN</td>\n",
       "      <td>NaN</td>\n",
       "      <td>NaN</td>\n",
       "      <td>NaN</td>\n",
       "    </tr>\n",
       "    <tr>\n",
       "      <th>50%</th>\n",
       "      <td>3.609155e+05</td>\n",
       "      <td>NaN</td>\n",
       "      <td>NaN</td>\n",
       "      <td>NaN</td>\n",
       "      <td>NaN</td>\n",
       "      <td>NaN</td>\n",
       "      <td>NaN</td>\n",
       "    </tr>\n",
       "    <tr>\n",
       "      <th>75%</th>\n",
       "      <td>6.985208e+05</td>\n",
       "      <td>NaN</td>\n",
       "      <td>NaN</td>\n",
       "      <td>NaN</td>\n",
       "      <td>NaN</td>\n",
       "      <td>NaN</td>\n",
       "      <td>NaN</td>\n",
       "    </tr>\n",
       "    <tr>\n",
       "      <th>max</th>\n",
       "      <td>1.036992e+06</td>\n",
       "      <td>NaN</td>\n",
       "      <td>NaN</td>\n",
       "      <td>NaN</td>\n",
       "      <td>NaN</td>\n",
       "      <td>NaN</td>\n",
       "      <td>NaN</td>\n",
       "    </tr>\n",
       "  </tbody>\n",
       "</table>\n",
       "</div>"
      ],
      "text/plain": [
       "              NewsID             Title  \\\n",
       "count   1.196800e+04             11968   \n",
       "unique           NaN             11820   \n",
       "top              NaN  【报章摘要】今日香港报章财经要闻   \n",
       "freq             NaN                18   \n",
       "mean    4.306965e+05               NaN   \n",
       "std     3.091986e+05               NaN   \n",
       "min     7.500000e+01               NaN   \n",
       "25%     1.727830e+05               NaN   \n",
       "50%     3.609155e+05               NaN   \n",
       "75%     6.985208e+05               NaN   \n",
       "max     1.036992e+06               NaN   \n",
       "\n",
       "                                              NewsContent  \\\n",
       "count                                               11968   \n",
       "unique                                              11968   \n",
       "top     　　昨天，在香港出席“银行QDII业务联合工作小组的第一次会议”的中国银监会副主席唐双宁透露...   \n",
       "freq                                                    1   \n",
       "mean                                                  NaN   \n",
       "std                                                   NaN   \n",
       "min                                                   NaN   \n",
       "25%                                                   NaN   \n",
       "50%                                                   NaN   \n",
       "75%                                                   NaN   \n",
       "max                                                   NaN   \n",
       "\n",
       "                                            MergedContent       ORGs  \\\n",
       "count                                               11968      11968   \n",
       "unique                                              11965       8573   \n",
       "top      月 日人民币兑美元中间价下调 个基点  月 日 人民币兑美元中间价下调 个基点 报 中国人...  中国人民银行 央行   \n",
       "freq                                                    2        586   \n",
       "mean                                                  NaN        NaN   \n",
       "std                                                   NaN        NaN   \n",
       "min                                                   NaN        NaN   \n",
       "25%                                                   NaN        NaN   \n",
       "50%                                                   NaN        NaN   \n",
       "75%                                                   NaN        NaN   \n",
       "max                                                   NaN        NaN   \n",
       "\n",
       "       Similarity_Scores Matching_Names  \n",
       "count              11968          11968  \n",
       "unique                36            545  \n",
       "top                 [80]       ['中国银行']  \n",
       "freq                8970           4774  \n",
       "mean                 NaN            NaN  \n",
       "std                  NaN            NaN  \n",
       "min                  NaN            NaN  \n",
       "25%                  NaN            NaN  \n",
       "50%                  NaN            NaN  \n",
       "75%                  NaN            NaN  \n",
       "max                  NaN            NaN  "
      ]
     },
     "execution_count": 7,
     "metadata": {},
     "output_type": "execute_result"
    }
   ],
   "source": [
    "cleaned_other_news.describe(include='all')"
   ]
  },
  {
   "cell_type": "code",
   "execution_count": 8,
   "id": "fd1283d6c118b5c5",
   "metadata": {
    "ExecuteTime": {
     "end_time": "2023-11-26T09:07:51.568871Z",
     "start_time": "2023-11-26T09:07:51.528003Z"
    },
    "collapsed": false
   },
   "outputs": [],
   "source": [
    "# 删除无用列\n",
    "# Drop the useless columns\n",
    "cleaned_other_news = cleaned_other_news.drop(['Title', 'MergedContent', 'ORGs', 'Similarity_Scores'], axis=1)\n",
    "\n",
    "# 重命名列\n",
    "# Rename the columns\n",
    "cleaned_other_news = cleaned_other_news.rename(columns={'Matching_Names': 'name'})\n",
    "\n",
    "# 添加 'full_relevant' 列，与完全匹配的新闻数据区分\n",
    "# Add the 'full_relevant' column to distinguish it from the fully matching news data\n",
    "cleaned_other_news['full_relevant'] = False"
   ]
  },
  {
   "cell_type": "code",
   "execution_count": 9,
   "id": "e52d302e164fd8f4",
   "metadata": {
    "ExecuteTime": {
     "end_time": "2023-11-26T09:07:51.573185Z",
     "start_time": "2023-11-26T09:07:51.531204Z"
    },
    "collapsed": false
   },
   "outputs": [
    {
     "data": {
      "text/html": [
       "<div>\n",
       "<style scoped>\n",
       "    .dataframe tbody tr th:only-of-type {\n",
       "        vertical-align: middle;\n",
       "    }\n",
       "\n",
       "    .dataframe tbody tr th {\n",
       "        vertical-align: top;\n",
       "    }\n",
       "\n",
       "    .dataframe thead th {\n",
       "        text-align: right;\n",
       "    }\n",
       "</style>\n",
       "<table border=\"1\" class=\"dataframe\">\n",
       "  <thead>\n",
       "    <tr style=\"text-align: right;\">\n",
       "      <th></th>\n",
       "      <th>NewsID</th>\n",
       "      <th>NewsContent</th>\n",
       "      <th>name</th>\n",
       "      <th>full_relevant</th>\n",
       "    </tr>\n",
       "  </thead>\n",
       "  <tbody>\n",
       "    <tr>\n",
       "      <th>count</th>\n",
       "      <td>1.196800e+04</td>\n",
       "      <td>11968</td>\n",
       "      <td>11968</td>\n",
       "      <td>11968</td>\n",
       "    </tr>\n",
       "    <tr>\n",
       "      <th>unique</th>\n",
       "      <td>NaN</td>\n",
       "      <td>11968</td>\n",
       "      <td>545</td>\n",
       "      <td>1</td>\n",
       "    </tr>\n",
       "    <tr>\n",
       "      <th>top</th>\n",
       "      <td>NaN</td>\n",
       "      <td>昨天，在香港出席“银行QDII业务联合工作小组的第一次会议”的中国银监会副主席唐双宁透露...</td>\n",
       "      <td>['中国银行']</td>\n",
       "      <td>False</td>\n",
       "    </tr>\n",
       "    <tr>\n",
       "      <th>freq</th>\n",
       "      <td>NaN</td>\n",
       "      <td>1</td>\n",
       "      <td>4774</td>\n",
       "      <td>11968</td>\n",
       "    </tr>\n",
       "    <tr>\n",
       "      <th>mean</th>\n",
       "      <td>4.306965e+05</td>\n",
       "      <td>NaN</td>\n",
       "      <td>NaN</td>\n",
       "      <td>NaN</td>\n",
       "    </tr>\n",
       "    <tr>\n",
       "      <th>std</th>\n",
       "      <td>3.091986e+05</td>\n",
       "      <td>NaN</td>\n",
       "      <td>NaN</td>\n",
       "      <td>NaN</td>\n",
       "    </tr>\n",
       "    <tr>\n",
       "      <th>min</th>\n",
       "      <td>7.500000e+01</td>\n",
       "      <td>NaN</td>\n",
       "      <td>NaN</td>\n",
       "      <td>NaN</td>\n",
       "    </tr>\n",
       "    <tr>\n",
       "      <th>25%</th>\n",
       "      <td>1.727830e+05</td>\n",
       "      <td>NaN</td>\n",
       "      <td>NaN</td>\n",
       "      <td>NaN</td>\n",
       "    </tr>\n",
       "    <tr>\n",
       "      <th>50%</th>\n",
       "      <td>3.609155e+05</td>\n",
       "      <td>NaN</td>\n",
       "      <td>NaN</td>\n",
       "      <td>NaN</td>\n",
       "    </tr>\n",
       "    <tr>\n",
       "      <th>75%</th>\n",
       "      <td>6.985208e+05</td>\n",
       "      <td>NaN</td>\n",
       "      <td>NaN</td>\n",
       "      <td>NaN</td>\n",
       "    </tr>\n",
       "    <tr>\n",
       "      <th>max</th>\n",
       "      <td>1.036992e+06</td>\n",
       "      <td>NaN</td>\n",
       "      <td>NaN</td>\n",
       "      <td>NaN</td>\n",
       "    </tr>\n",
       "  </tbody>\n",
       "</table>\n",
       "</div>"
      ],
      "text/plain": [
       "              NewsID                                        NewsContent  \\\n",
       "count   1.196800e+04                                              11968   \n",
       "unique           NaN                                              11968   \n",
       "top              NaN  　　昨天，在香港出席“银行QDII业务联合工作小组的第一次会议”的中国银监会副主席唐双宁透露...   \n",
       "freq             NaN                                                  1   \n",
       "mean    4.306965e+05                                                NaN   \n",
       "std     3.091986e+05                                                NaN   \n",
       "min     7.500000e+01                                                NaN   \n",
       "25%     1.727830e+05                                                NaN   \n",
       "50%     3.609155e+05                                                NaN   \n",
       "75%     6.985208e+05                                                NaN   \n",
       "max     1.036992e+06                                                NaN   \n",
       "\n",
       "            name full_relevant  \n",
       "count      11968         11968  \n",
       "unique       545             1  \n",
       "top     ['中国银行']         False  \n",
       "freq        4774         11968  \n",
       "mean         NaN           NaN  \n",
       "std          NaN           NaN  \n",
       "min          NaN           NaN  \n",
       "25%          NaN           NaN  \n",
       "50%          NaN           NaN  \n",
       "75%          NaN           NaN  \n",
       "max          NaN           NaN  "
      ]
     },
     "execution_count": 9,
     "metadata": {},
     "output_type": "execute_result"
    }
   ],
   "source": [
    "cleaned_other_news.describe(include='all')"
   ]
  },
  {
   "cell_type": "markdown",
   "id": "208ec5fd7e667363",
   "metadata": {
    "collapsed": false
   },
   "source": [
    "至此，我们完成了清洗后的其他新闻数据的处理。下面，我们将完全匹配的新闻数据和清洗后的其他新闻数据进行合并，得到一个完整的数据集。\n",
    "\n",
    "At this point, we have completed the processing of the cleaned other news data. Next, we merge the fully matching news data and the cleaned other news data to obtain a complete data set."
   ]
  },
  {
   "cell_type": "code",
   "execution_count": 21,
   "id": "45c42c93afd79a2d",
   "metadata": {
    "ExecuteTime": {
     "end_time": "2023-11-26T09:16:08.801661Z",
     "start_time": "2023-11-26T09:16:08.097435Z"
    },
    "collapsed": false
   },
   "outputs": [],
   "source": [
    "merged_news = pd.concat([full_relevant_news, cleaned_other_news], ignore_index=True)"
   ]
  },
  {
   "cell_type": "code",
   "execution_count": 22,
   "id": "2ea4f1b2dca38f4b",
   "metadata": {
    "ExecuteTime": {
     "end_time": "2023-11-26T09:16:09.166358Z",
     "start_time": "2023-11-26T09:16:08.790375Z"
    },
    "collapsed": false
   },
   "outputs": [
    {
     "data": {
      "text/html": [
       "<div>\n",
       "<style scoped>\n",
       "    .dataframe tbody tr th:only-of-type {\n",
       "        vertical-align: middle;\n",
       "    }\n",
       "\n",
       "    .dataframe tbody tr th {\n",
       "        vertical-align: top;\n",
       "    }\n",
       "\n",
       "    .dataframe thead th {\n",
       "        text-align: right;\n",
       "    }\n",
       "</style>\n",
       "<table border=\"1\" class=\"dataframe\">\n",
       "  <thead>\n",
       "    <tr style=\"text-align: right;\">\n",
       "      <th></th>\n",
       "      <th>NewsID</th>\n",
       "      <th>NewsContent</th>\n",
       "      <th>name</th>\n",
       "      <th>full_relevant</th>\n",
       "    </tr>\n",
       "  </thead>\n",
       "  <tbody>\n",
       "    <tr>\n",
       "      <th>count</th>\n",
       "      <td>5.830030e+05</td>\n",
       "      <td>583003</td>\n",
       "      <td>583003</td>\n",
       "      <td>583003</td>\n",
       "    </tr>\n",
       "    <tr>\n",
       "      <th>unique</th>\n",
       "      <td>NaN</td>\n",
       "      <td>583003</td>\n",
       "      <td>132537</td>\n",
       "      <td>2</td>\n",
       "    </tr>\n",
       "    <tr>\n",
       "      <th>top</th>\n",
       "      <td>NaN</td>\n",
       "      <td>本报记者 田雨 李京华    　　中国建设银行股份有限公司原董事长张恩照受贿案３日一审宣...</td>\n",
       "      <td>['ST生态']</td>\n",
       "      <td>True</td>\n",
       "    </tr>\n",
       "    <tr>\n",
       "      <th>freq</th>\n",
       "      <td>NaN</td>\n",
       "      <td>1</td>\n",
       "      <td>10228</td>\n",
       "      <td>571035</td>\n",
       "    </tr>\n",
       "    <tr>\n",
       "      <th>mean</th>\n",
       "      <td>5.493142e+05</td>\n",
       "      <td>NaN</td>\n",
       "      <td>NaN</td>\n",
       "      <td>NaN</td>\n",
       "    </tr>\n",
       "    <tr>\n",
       "      <th>std</th>\n",
       "      <td>2.912981e+05</td>\n",
       "      <td>NaN</td>\n",
       "      <td>NaN</td>\n",
       "      <td>NaN</td>\n",
       "    </tr>\n",
       "    <tr>\n",
       "      <th>min</th>\n",
       "      <td>1.000000e+00</td>\n",
       "      <td>NaN</td>\n",
       "      <td>NaN</td>\n",
       "      <td>NaN</td>\n",
       "    </tr>\n",
       "    <tr>\n",
       "      <th>25%</th>\n",
       "      <td>3.075735e+05</td>\n",
       "      <td>NaN</td>\n",
       "      <td>NaN</td>\n",
       "      <td>NaN</td>\n",
       "    </tr>\n",
       "    <tr>\n",
       "      <th>50%</th>\n",
       "      <td>5.638950e+05</td>\n",
       "      <td>NaN</td>\n",
       "      <td>NaN</td>\n",
       "      <td>NaN</td>\n",
       "    </tr>\n",
       "    <tr>\n",
       "      <th>75%</th>\n",
       "      <td>7.982495e+05</td>\n",
       "      <td>NaN</td>\n",
       "      <td>NaN</td>\n",
       "      <td>NaN</td>\n",
       "    </tr>\n",
       "    <tr>\n",
       "      <th>max</th>\n",
       "      <td>1.037035e+06</td>\n",
       "      <td>NaN</td>\n",
       "      <td>NaN</td>\n",
       "      <td>NaN</td>\n",
       "    </tr>\n",
       "  </tbody>\n",
       "</table>\n",
       "</div>"
      ],
      "text/plain": [
       "              NewsID                                        NewsContent  \\\n",
       "count   5.830030e+05                                             583003   \n",
       "unique           NaN                                             583003   \n",
       "top              NaN  　　本报记者 田雨 李京华    　　中国建设银行股份有限公司原董事长张恩照受贿案３日一审宣...   \n",
       "freq             NaN                                                  1   \n",
       "mean    5.493142e+05                                                NaN   \n",
       "std     2.912981e+05                                                NaN   \n",
       "min     1.000000e+00                                                NaN   \n",
       "25%     3.075735e+05                                                NaN   \n",
       "50%     5.638950e+05                                                NaN   \n",
       "75%     7.982495e+05                                                NaN   \n",
       "max     1.037035e+06                                                NaN   \n",
       "\n",
       "            name full_relevant  \n",
       "count     583003        583003  \n",
       "unique    132537             2  \n",
       "top     ['ST生态']          True  \n",
       "freq       10228        571035  \n",
       "mean         NaN           NaN  \n",
       "std          NaN           NaN  \n",
       "min          NaN           NaN  \n",
       "25%          NaN           NaN  \n",
       "50%          NaN           NaN  \n",
       "75%          NaN           NaN  \n",
       "max          NaN           NaN  "
      ]
     },
     "execution_count": 22,
     "metadata": {},
     "output_type": "execute_result"
    }
   ],
   "source": [
    "merged_news.describe(include='all')"
   ]
  },
  {
   "cell_type": "code",
   "execution_count": 23,
   "id": "50d6e4f98fe8fbb7",
   "metadata": {
    "ExecuteTime": {
     "end_time": "2023-11-26T09:17:47.480709Z",
     "start_time": "2023-11-26T09:16:17.609909Z"
    },
    "collapsed": false
   },
   "outputs": [],
   "source": [
    "# 保存结果到Excel文件中\n",
    "# Save the result to an Excel file\n",
    "merged_news.to_excel('Merged_News.xlsx', index=False)"
   ]
  },
  {
   "cell_type": "markdown",
   "id": "bd4be3d9ad35b9be",
   "metadata": {
    "collapsed": false
   },
   "source": [
    "至此，Question 1完成\n",
    "我们删除了原始数据集中的噪音，即任何没有提及任何中国a股上市公司的新闻，得到了583003条新闻。\n",
    "整体过滤率为：583003/1037035=56.2%\n",
    "\n",
    "At this point, Question 1 is completed.\n",
    "We deleted the noise in the original data set, that is, any news that did not mention any Chinese A-share listed company, and obtained 583003 news.\n",
    "The overall filtering rate is: 583003/1037035=56.2%\n"
   ]
  },
  {
   "cell_type": "markdown",
   "id": "40663d93a339de60",
   "metadata": {
    "collapsed": false
   },
   "source": [
    "## Question 2: Data Analysis - Text Knowledge Mining"
   ]
  },
  {
   "cell_type": "markdown",
   "id": "5341024f89b96319",
   "metadata": {
    "collapsed": false
   },
   "source": [
    "### Part 5: Sentiment Analysis\n",
    "\n",
    "由于Colab计算资源的限制，我将文件切为12份，每份48585条新闻（除了最后一个文件），然后使用Colab进行情感分析。\n",
    "\n",
    "其中，情感分析部分使用[IDEA-CCNL/Erlangshen-Roberta-110M-Sentiment](https://huggingface.co/IDEA-CCNL/Erlangshen-Roberta-110M-Sentiment)进行。\n",
    "Colab部分的具体代码可以在这里找到：\n",
    "[Part 1](../Sentiment_Analysis/Code/Part_1.ipynb)\n",
    "这里是Part 1的代码。其余代码与Part 1类似，只是读取的文件不同。\n",
    "以下是在这一部分使用或生成的文件：\n",
    "- [Merged_News.xlsx](../Backup/Merged_News.xlsx): 两个数据集合并后的完整数据集\n",
    "- [Split_data](../Sentiment_Analysis/Split_data): 切分后的数据集(Part 1-12)\n",
    "- [Sentiment_Analysis_Results](../Sentiment_Analysis/Result): 情感分析结果(Part 1-12)\n",
    "- [Merged_Result.xlsx](../Backup/Merged_Result.xlsx): 合并后的情感分析结果\n",
    "\n",
    "Due to the limitation of Colab computing resources, I split the file into 12 parts, each with 48585 news (except for the last file), and then use Colab for sentiment analysis.\n",
    "\n",
    "Among them, the sentiment analysis part uses [IDEA-CCNL/Erlangshen-Roberta-110M-Sentiment](https://huggingface.co/IDEA-CCNL/Erlangshen-Roberta-110M-Sentiment).\n",
    "The specific code of the Colab part can be found here:\n",
    "[Part 1](../Sentiment_Analysis/Code/Part_1.ipynb)\n",
    "Here is the code for Part 1. The rest of the code is similar to Part 1, except that the files read are different.\n",
    "The following are the files used or generated in this part:\n",
    "- [Merged_News.xlsx](../Backup/Merged_News.xlsx): The complete data set after merging the two data sets\n",
    "- [Split_data](../Sentiment_Analysis/Split_data): The split data set (Part 1-12)\n",
    "- [Sentiment_Analysis_Results](../Sentiment_Analysis/Result): Sentiment analysis results (Part 1-12)\n",
    "- [Merged_Result.xlsx](../Backup/Merged_Result.xlsx): Merged sentiment analysis results"
   ]
  },
  {
   "cell_type": "code",
   "execution_count": null,
   "id": "727b603ebdcbf9a3",
   "metadata": {
    "collapsed": false
   },
   "outputs": [],
   "source": [
    "import pandas as pd\n",
    "\n",
    "# 读取原始Excel文件\n",
    "df = pd.read_excel('Merged_News.xlsx', index_col='NewsID')"
   ]
  },
  {
   "cell_type": "code",
   "execution_count": null,
   "id": "dbe266f624706c56",
   "metadata": {
    "collapsed": false
   },
   "outputs": [],
   "source": [
    "# 设定每个分割的大小\n",
    "split_size = 48585\n",
    "\n",
    "# 分割数据框\n",
    "splits = [df[i:i + split_size] for i in range(0, len(df), split_size)]\n",
    "\n",
    "# 保存每个分割为一个单独的Excel文件\n",
    "for index, split in enumerate(splits):\n",
    "    filename = f'Merged_News_Part_{index + 1}.xlsx'\n",
    "    split.to_excel(filename)"
   ]
  },
  {
   "cell_type": "markdown",
   "source": [
    "我们成功地将数据集切分为12份，每份48585条新闻。（除了最后一个文件）\n",
    "接下来，我们使用Colab的资源进行情感分析。\n",
    "你可以在这里找到在Colab运行的所有代码及代码的运行过程：\n",
    "[Sentiment Analysis_Code](../Sentiment_Analysis/Code)\n",
    "\n",
    "在运行完所有代码后，我们得到了12个文件，每个文件包含48585条新闻的情感分析结果。（除了最后一个文件）\n",
    "得到的文件可以在这里找到：\n",
    "[Sentiment_Analysis_Results](../Sentiment_Analysis/Result)\n",
    "接下来，我对得到的12个文件进行合并，得到一个完整的数据集。\n",
    "\n",
    "We successfully split the dataset into 12 parts, each with 48585 news. (Except for the last file)\n",
    "Next, we use Colab's resources for sentiment analysis.\n",
    "You can find all the code and the running process of the code running in Colab here:\n",
    "[Sentiment Analysis_Code](../Sentiment_Analysis/Code)\n",
    "\n",
    "After running all the code, we got 12 files, each containing the sentiment analysis results of 48585 news. (Except for the last file)\n",
    "The resulting files can be found here:\n",
    "[Sentiment_Analysis_Results](../Sentiment_Analysis/Result)\n",
    "Next, I merge the 12 files to get a complete data set."
   ],
   "metadata": {
    "collapsed": false
   },
   "id": "ca8b1ca7f6580f98"
  },
  {
   "cell_type": "code",
   "execution_count": 1,
   "id": "12a8355905e95447",
   "metadata": {
    "ExecuteTime": {
     "end_time": "2023-11-26T09:38:38.242191Z",
     "start_time": "2023-11-26T09:38:08.916415Z"
    },
    "collapsed": false
   },
   "outputs": [
    {
     "name": "stdout",
     "output_type": "stream",
     "text": [
      "Reading Sentiment_Analysis_Results/Result/Result_1.xlsx...\n",
      "Reading Sentiment_Analysis_Results/Result/Result_2.xlsx...\n",
      "Reading Sentiment_Analysis_Results/Result/Result_3.xlsx...\n",
      "Reading Sentiment_Analysis_Results/Result/Result_4.xlsx...\n",
      "Reading Sentiment_Analysis_Results/Result/Result_5.xlsx...\n",
      "Reading Sentiment_Analysis_Results/Result/Result_6.xlsx...\n",
      "Reading Sentiment_Analysis_Results/Result/Result_7.xlsx...\n",
      "Reading Sentiment_Analysis_Results/Result/Result_8.xlsx...\n",
      "Reading Sentiment_Analysis_Results/Result/Result_9.xlsx...\n",
      "Reading Sentiment_Analysis_Results/Result/Result_10.xlsx...\n",
      "Reading Sentiment_Analysis_Results/Result/Result_11.xlsx...\n",
      "Reading Sentiment_Analysis_Results/Result/Result_12.xlsx...\n"
     ]
    }
   ],
   "source": [
    "import pandas as pd\n",
    "\n",
    "# 创建一个空的DataFrame来存储合并的数据\n",
    "# Create an empty DataFrame to store the merged data\n",
    "merged_df = pd.DataFrame()\n",
    "\n",
    "# 循环读取每个文件并合并\n",
    "# Loop through each file and merge\n",
    "for i in range(1, 13):\n",
    "    file_name = f\"Sentiment_Analysis_Results/Result/Result_{i}.xlsx\"  # 构建文件名 # Construct the file name\n",
    "    print(f\"Reading {file_name}...\")\n",
    "    df = pd.read_excel(file_name)   # 读取Excel文件\n",
    "    merged_df = pd.concat([merged_df, df], ignore_index=True)  # 合并到总的DataFrame # Merge to the total DataFrame\n"
   ]
  },
  {
   "cell_type": "code",
   "execution_count": 2,
   "id": "f965f7940b418527",
   "metadata": {
    "ExecuteTime": {
     "end_time": "2023-11-26T09:38:38.556123Z",
     "start_time": "2023-11-26T09:38:38.244330Z"
    },
    "collapsed": false
   },
   "outputs": [
    {
     "data": {
      "text/html": [
       "<div>\n",
       "<style scoped>\n",
       "    .dataframe tbody tr th:only-of-type {\n",
       "        vertical-align: middle;\n",
       "    }\n",
       "\n",
       "    .dataframe tbody tr th {\n",
       "        vertical-align: top;\n",
       "    }\n",
       "\n",
       "    .dataframe thead th {\n",
       "        text-align: right;\n",
       "    }\n",
       "</style>\n",
       "<table border=\"1\" class=\"dataframe\">\n",
       "  <thead>\n",
       "    <tr style=\"text-align: right;\">\n",
       "      <th></th>\n",
       "      <th>Unnamed: 0</th>\n",
       "      <th>NewsID</th>\n",
       "      <th>NewsContent</th>\n",
       "      <th>name</th>\n",
       "      <th>full_relevant</th>\n",
       "      <th>label</th>\n",
       "    </tr>\n",
       "  </thead>\n",
       "  <tbody>\n",
       "    <tr>\n",
       "      <th>count</th>\n",
       "      <td>583003.000000</td>\n",
       "      <td>5.830030e+05</td>\n",
       "      <td>583003</td>\n",
       "      <td>583003</td>\n",
       "      <td>583003</td>\n",
       "      <td>583003.000000</td>\n",
       "    </tr>\n",
       "    <tr>\n",
       "      <th>unique</th>\n",
       "      <td>NaN</td>\n",
       "      <td>NaN</td>\n",
       "      <td>583003</td>\n",
       "      <td>132537</td>\n",
       "      <td>2</td>\n",
       "      <td>NaN</td>\n",
       "    </tr>\n",
       "    <tr>\n",
       "      <th>top</th>\n",
       "      <td>NaN</td>\n",
       "      <td>NaN</td>\n",
       "      <td>本报记者 田雨 李京华    　　中国建设银行股份有限公司原董事长张恩照受贿案３日一审宣...</td>\n",
       "      <td>['ST生态']</td>\n",
       "      <td>True</td>\n",
       "      <td>NaN</td>\n",
       "    </tr>\n",
       "    <tr>\n",
       "      <th>freq</th>\n",
       "      <td>NaN</td>\n",
       "      <td>NaN</td>\n",
       "      <td>1</td>\n",
       "      <td>10228</td>\n",
       "      <td>571035</td>\n",
       "      <td>NaN</td>\n",
       "    </tr>\n",
       "    <tr>\n",
       "      <th>mean</th>\n",
       "      <td>24291.291894</td>\n",
       "      <td>5.493142e+05</td>\n",
       "      <td>NaN</td>\n",
       "      <td>NaN</td>\n",
       "      <td>NaN</td>\n",
       "      <td>0.936613</td>\n",
       "    </tr>\n",
       "    <tr>\n",
       "      <th>std</th>\n",
       "      <td>14024.884876</td>\n",
       "      <td>2.912981e+05</td>\n",
       "      <td>NaN</td>\n",
       "      <td>NaN</td>\n",
       "      <td>NaN</td>\n",
       "      <td>0.243659</td>\n",
       "    </tr>\n",
       "    <tr>\n",
       "      <th>min</th>\n",
       "      <td>0.000000</td>\n",
       "      <td>1.000000e+00</td>\n",
       "      <td>NaN</td>\n",
       "      <td>NaN</td>\n",
       "      <td>NaN</td>\n",
       "      <td>0.000000</td>\n",
       "    </tr>\n",
       "    <tr>\n",
       "      <th>25%</th>\n",
       "      <td>12145.000000</td>\n",
       "      <td>3.075735e+05</td>\n",
       "      <td>NaN</td>\n",
       "      <td>NaN</td>\n",
       "      <td>NaN</td>\n",
       "      <td>1.000000</td>\n",
       "    </tr>\n",
       "    <tr>\n",
       "      <th>50%</th>\n",
       "      <td>24291.000000</td>\n",
       "      <td>5.638950e+05</td>\n",
       "      <td>NaN</td>\n",
       "      <td>NaN</td>\n",
       "      <td>NaN</td>\n",
       "      <td>1.000000</td>\n",
       "    </tr>\n",
       "    <tr>\n",
       "      <th>75%</th>\n",
       "      <td>36437.000000</td>\n",
       "      <td>7.982495e+05</td>\n",
       "      <td>NaN</td>\n",
       "      <td>NaN</td>\n",
       "      <td>NaN</td>\n",
       "      <td>1.000000</td>\n",
       "    </tr>\n",
       "    <tr>\n",
       "      <th>max</th>\n",
       "      <td>48584.000000</td>\n",
       "      <td>1.037035e+06</td>\n",
       "      <td>NaN</td>\n",
       "      <td>NaN</td>\n",
       "      <td>NaN</td>\n",
       "      <td>1.000000</td>\n",
       "    </tr>\n",
       "  </tbody>\n",
       "</table>\n",
       "</div>"
      ],
      "text/plain": [
       "           Unnamed: 0        NewsID  \\\n",
       "count   583003.000000  5.830030e+05   \n",
       "unique            NaN           NaN   \n",
       "top               NaN           NaN   \n",
       "freq              NaN           NaN   \n",
       "mean     24291.291894  5.493142e+05   \n",
       "std      14024.884876  2.912981e+05   \n",
       "min          0.000000  1.000000e+00   \n",
       "25%      12145.000000  3.075735e+05   \n",
       "50%      24291.000000  5.638950e+05   \n",
       "75%      36437.000000  7.982495e+05   \n",
       "max      48584.000000  1.037035e+06   \n",
       "\n",
       "                                              NewsContent      name  \\\n",
       "count                                              583003    583003   \n",
       "unique                                             583003    132537   \n",
       "top     　　本报记者 田雨 李京华    　　中国建设银行股份有限公司原董事长张恩照受贿案３日一审宣...  ['ST生态']   \n",
       "freq                                                    1     10228   \n",
       "mean                                                  NaN       NaN   \n",
       "std                                                   NaN       NaN   \n",
       "min                                                   NaN       NaN   \n",
       "25%                                                   NaN       NaN   \n",
       "50%                                                   NaN       NaN   \n",
       "75%                                                   NaN       NaN   \n",
       "max                                                   NaN       NaN   \n",
       "\n",
       "       full_relevant          label  \n",
       "count         583003  583003.000000  \n",
       "unique             2            NaN  \n",
       "top             True            NaN  \n",
       "freq          571035            NaN  \n",
       "mean             NaN       0.936613  \n",
       "std              NaN       0.243659  \n",
       "min              NaN       0.000000  \n",
       "25%              NaN       1.000000  \n",
       "50%              NaN       1.000000  \n",
       "75%              NaN       1.000000  \n",
       "max              NaN       1.000000  "
      ]
     },
     "execution_count": 2,
     "metadata": {},
     "output_type": "execute_result"
    }
   ],
   "source": [
    "merged_df.describe(include='all')"
   ]
  },
  {
   "cell_type": "code",
   "execution_count": 3,
   "id": "b0135d5a78bd5467",
   "metadata": {
    "ExecuteTime": {
     "end_time": "2023-11-26T09:38:38.605453Z",
     "start_time": "2023-11-26T09:38:38.562386Z"
    },
    "collapsed": false
   },
   "outputs": [],
   "source": [
    "merged_df = merged_df.drop(columns=['Unnamed: 0'])\n",
    "# 保存结果到Excel文件中\n",
    "# Save the result to an Excel file\n",
    "merged_df.to_excel('../Backup/Merged_Result.xlsx', index=False)"
   ]
  },
  {
   "cell_type": "markdown",
   "source": [
    "接下来，我们整理格式，按照提交要求，将结果保存到Excel文件中。\n",
    "\n",
    "Next, we organize the format and save the results to an Excel file according to the submission requirements."
   ],
   "metadata": {
    "collapsed": false
   },
   "id": "30403c538cee81a5"
  },
  {
   "cell_type": "code",
   "execution_count": 4,
   "id": "2260c5cb3e7c8d8f",
   "metadata": {
    "ExecuteTime": {
     "end_time": "2023-11-26T09:38:38.636928Z",
     "start_time": "2023-11-26T09:38:38.582627Z"
    },
    "collapsed": false
   },
   "outputs": [],
   "source": [
    "merged_df = merged_df.drop(columns=['full_relevant'])"
   ]
  },
  {
   "cell_type": "code",
   "execution_count": 5,
   "id": "e7aa680ededffb5d",
   "metadata": {
    "ExecuteTime": {
     "end_time": "2023-11-26T09:39:01.771765Z",
     "start_time": "2023-11-26T09:39:01.453079Z"
    },
    "collapsed": false
   },
   "outputs": [
    {
     "data": {
      "text/html": [
       "<div>\n",
       "<style scoped>\n",
       "    .dataframe tbody tr th:only-of-type {\n",
       "        vertical-align: middle;\n",
       "    }\n",
       "\n",
       "    .dataframe tbody tr th {\n",
       "        vertical-align: top;\n",
       "    }\n",
       "\n",
       "    .dataframe thead th {\n",
       "        text-align: right;\n",
       "    }\n",
       "</style>\n",
       "<table border=\"1\" class=\"dataframe\">\n",
       "  <thead>\n",
       "    <tr style=\"text-align: right;\">\n",
       "      <th></th>\n",
       "      <th>NewsID</th>\n",
       "      <th>NewsContent</th>\n",
       "      <th>name</th>\n",
       "      <th>label</th>\n",
       "    </tr>\n",
       "  </thead>\n",
       "  <tbody>\n",
       "    <tr>\n",
       "      <th>count</th>\n",
       "      <td>5.830030e+05</td>\n",
       "      <td>583003</td>\n",
       "      <td>583003</td>\n",
       "      <td>583003.000000</td>\n",
       "    </tr>\n",
       "    <tr>\n",
       "      <th>unique</th>\n",
       "      <td>NaN</td>\n",
       "      <td>583003</td>\n",
       "      <td>132537</td>\n",
       "      <td>NaN</td>\n",
       "    </tr>\n",
       "    <tr>\n",
       "      <th>top</th>\n",
       "      <td>NaN</td>\n",
       "      <td>本报记者 田雨 李京华    　　中国建设银行股份有限公司原董事长张恩照受贿案３日一审宣...</td>\n",
       "      <td>['ST生态']</td>\n",
       "      <td>NaN</td>\n",
       "    </tr>\n",
       "    <tr>\n",
       "      <th>freq</th>\n",
       "      <td>NaN</td>\n",
       "      <td>1</td>\n",
       "      <td>10228</td>\n",
       "      <td>NaN</td>\n",
       "    </tr>\n",
       "    <tr>\n",
       "      <th>mean</th>\n",
       "      <td>5.493142e+05</td>\n",
       "      <td>NaN</td>\n",
       "      <td>NaN</td>\n",
       "      <td>0.936613</td>\n",
       "    </tr>\n",
       "    <tr>\n",
       "      <th>std</th>\n",
       "      <td>2.912981e+05</td>\n",
       "      <td>NaN</td>\n",
       "      <td>NaN</td>\n",
       "      <td>0.243659</td>\n",
       "    </tr>\n",
       "    <tr>\n",
       "      <th>min</th>\n",
       "      <td>1.000000e+00</td>\n",
       "      <td>NaN</td>\n",
       "      <td>NaN</td>\n",
       "      <td>0.000000</td>\n",
       "    </tr>\n",
       "    <tr>\n",
       "      <th>25%</th>\n",
       "      <td>3.075735e+05</td>\n",
       "      <td>NaN</td>\n",
       "      <td>NaN</td>\n",
       "      <td>1.000000</td>\n",
       "    </tr>\n",
       "    <tr>\n",
       "      <th>50%</th>\n",
       "      <td>5.638950e+05</td>\n",
       "      <td>NaN</td>\n",
       "      <td>NaN</td>\n",
       "      <td>1.000000</td>\n",
       "    </tr>\n",
       "    <tr>\n",
       "      <th>75%</th>\n",
       "      <td>7.982495e+05</td>\n",
       "      <td>NaN</td>\n",
       "      <td>NaN</td>\n",
       "      <td>1.000000</td>\n",
       "    </tr>\n",
       "    <tr>\n",
       "      <th>max</th>\n",
       "      <td>1.037035e+06</td>\n",
       "      <td>NaN</td>\n",
       "      <td>NaN</td>\n",
       "      <td>1.000000</td>\n",
       "    </tr>\n",
       "  </tbody>\n",
       "</table>\n",
       "</div>"
      ],
      "text/plain": [
       "              NewsID                                        NewsContent  \\\n",
       "count   5.830030e+05                                             583003   \n",
       "unique           NaN                                             583003   \n",
       "top              NaN  　　本报记者 田雨 李京华    　　中国建设银行股份有限公司原董事长张恩照受贿案３日一审宣...   \n",
       "freq             NaN                                                  1   \n",
       "mean    5.493142e+05                                                NaN   \n",
       "std     2.912981e+05                                                NaN   \n",
       "min     1.000000e+00                                                NaN   \n",
       "25%     3.075735e+05                                                NaN   \n",
       "50%     5.638950e+05                                                NaN   \n",
       "75%     7.982495e+05                                                NaN   \n",
       "max     1.037035e+06                                                NaN   \n",
       "\n",
       "            name          label  \n",
       "count     583003  583003.000000  \n",
       "unique    132537            NaN  \n",
       "top     ['ST生态']            NaN  \n",
       "freq       10228            NaN  \n",
       "mean         NaN       0.936613  \n",
       "std          NaN       0.243659  \n",
       "min          NaN       0.000000  \n",
       "25%          NaN       1.000000  \n",
       "50%          NaN       1.000000  \n",
       "75%          NaN       1.000000  \n",
       "max          NaN       1.000000  "
      ]
     },
     "execution_count": 5,
     "metadata": {},
     "output_type": "execute_result"
    }
   ],
   "source": [
    "merged_df.describe(include='all')"
   ]
  },
  {
   "cell_type": "code",
   "execution_count": 6,
   "id": "f43f48e43c7d5e10",
   "metadata": {
    "ExecuteTime": {
     "end_time": "2023-11-26T09:39:07.831255Z",
     "start_time": "2023-11-26T09:39:04.963381Z"
    },
    "collapsed": false
   },
   "outputs": [],
   "source": [
    "import ast\n",
    "\n",
    "merged_df['name'] = merged_df['name'].apply(ast.literal_eval)\n",
    "merged_df['name'] = merged_df['name'].apply(lambda x: ' '.join(x))"
   ]
  },
  {
   "cell_type": "code",
   "execution_count": 9,
   "id": "57b0f68faf5d354a",
   "metadata": {
    "ExecuteTime": {
     "end_time": "2023-11-26T09:40:24.094819Z",
     "start_time": "2023-11-26T09:40:23.865779Z"
    },
    "collapsed": false
   },
   "outputs": [],
   "source": [
    "merged_df = merged_df.rename(columns={'name': 'Explicit_Company'})"
   ]
  },
  {
   "cell_type": "code",
   "execution_count": 10,
   "id": "1abc543d9100c0a",
   "metadata": {
    "ExecuteTime": {
     "end_time": "2023-11-26T09:40:27.987136Z",
     "start_time": "2023-11-26T09:40:27.954636Z"
    },
    "collapsed": false
   },
   "outputs": [
    {
     "data": {
      "text/html": [
       "<div>\n",
       "<style scoped>\n",
       "    .dataframe tbody tr th:only-of-type {\n",
       "        vertical-align: middle;\n",
       "    }\n",
       "\n",
       "    .dataframe tbody tr th {\n",
       "        vertical-align: top;\n",
       "    }\n",
       "\n",
       "    .dataframe thead th {\n",
       "        text-align: right;\n",
       "    }\n",
       "</style>\n",
       "<table border=\"1\" class=\"dataframe\">\n",
       "  <thead>\n",
       "    <tr style=\"text-align: right;\">\n",
       "      <th></th>\n",
       "      <th>NewsID</th>\n",
       "      <th>NewsContent</th>\n",
       "      <th>Explicit_Company</th>\n",
       "      <th>label</th>\n",
       "    </tr>\n",
       "  </thead>\n",
       "  <tbody>\n",
       "    <tr>\n",
       "      <th>0</th>\n",
       "      <td>1</td>\n",
       "      <td>本报记者 田雨 李京华    　　中国建设银行股份有限公司原董事长张恩照受贿案３日一审宣...</td>\n",
       "      <td>建设银行</td>\n",
       "      <td>1</td>\n",
       "    </tr>\n",
       "    <tr>\n",
       "      <th>1</th>\n",
       "      <td>2</td>\n",
       "      <td>中国农业银行信用卡中心由北京搬到上海了！  　　农行行长杨明生日前在信用卡中心揭牌仪式上...</td>\n",
       "      <td>农业银行</td>\n",
       "      <td>1</td>\n",
       "    </tr>\n",
       "    <tr>\n",
       "      <th>2</th>\n",
       "      <td>3</td>\n",
       "      <td>在新基金快速发行以及申购资金回流的情况下，市场总体上呈现资金流动性过剩格局，考虑到现阶段...</td>\n",
       "      <td>外运发展 中国国航</td>\n",
       "      <td>1</td>\n",
       "    </tr>\n",
       "    <tr>\n",
       "      <th>3</th>\n",
       "      <td>4</td>\n",
       "      <td>胜利股份（000407）公司子公司填海造地2800亩，以青岛的地价估算，静态价值在10亿...</td>\n",
       "      <td>*ST生物 胜利股份</td>\n",
       "      <td>1</td>\n",
       "    </tr>\n",
       "    <tr>\n",
       "      <th>4</th>\n",
       "      <td>5</td>\n",
       "      <td>全景网11月30日讯 外围股市造好，带动港股今早造好，恒指高开后反覆上升，最高升252点...</td>\n",
       "      <td>*ST高升</td>\n",
       "      <td>1</td>\n",
       "    </tr>\n",
       "    <tr>\n",
       "      <th>...</th>\n",
       "      <td>...</td>\n",
       "      <td>...</td>\n",
       "      <td>...</td>\n",
       "      <td>...</td>\n",
       "    </tr>\n",
       "    <tr>\n",
       "      <th>582998</th>\n",
       "      <td>1036918</td>\n",
       "      <td>红星资本局10月13日消息，刚刚，京东发言人发文称，关注到有谣言称“刘姓商人涉嫌违法被抓”，...</td>\n",
       "      <td>京东方</td>\n",
       "      <td>0</td>\n",
       "    </tr>\n",
       "    <tr>\n",
       "      <th>582999</th>\n",
       "      <td>1036959</td>\n",
       "      <td>京东集团（09618，HK）13日盘中大幅跳水，截至发稿，该股跌逾10%，股价至105港元左...</td>\n",
       "      <td>京东方</td>\n",
       "      <td>0</td>\n",
       "    </tr>\n",
       "    <tr>\n",
       "      <th>583000</th>\n",
       "      <td>1036980</td>\n",
       "      <td>上证报中国证券网讯京东13日在官微表示，公司关注到有谣言称“刘姓商人涉嫌违法被抓”，该谣言被...</td>\n",
       "      <td>京东方</td>\n",
       "      <td>0</td>\n",
       "    </tr>\n",
       "    <tr>\n",
       "      <th>583001</th>\n",
       "      <td>1036986</td>\n",
       "      <td>京东发言人10月13日通过官方微博发文称：我们关注到有谣言称“刘姓商人涉嫌违法被抓”，该谣言...</td>\n",
       "      <td>京东方</td>\n",
       "      <td>0</td>\n",
       "    </tr>\n",
       "    <tr>\n",
       "      <th>583002</th>\n",
       "      <td>1036992</td>\n",
       "      <td>10月13日，京东发言人发文称，我们关注到有谣言称“刘姓商人涉嫌违法被抓”，该谣言被别有用心...</td>\n",
       "      <td>京东方</td>\n",
       "      <td>0</td>\n",
       "    </tr>\n",
       "  </tbody>\n",
       "</table>\n",
       "<p>583003 rows × 4 columns</p>\n",
       "</div>"
      ],
      "text/plain": [
       "         NewsID                                        NewsContent  \\\n",
       "0             1  　　本报记者 田雨 李京华    　　中国建设银行股份有限公司原董事长张恩照受贿案３日一审宣...   \n",
       "1             2  　　中国农业银行信用卡中心由北京搬到上海了！  　　农行行长杨明生日前在信用卡中心揭牌仪式上...   \n",
       "2             3  　　在新基金快速发行以及申购资金回流的情况下，市场总体上呈现资金流动性过剩格局，考虑到现阶段...   \n",
       "3             4  　　胜利股份（000407）公司子公司填海造地2800亩，以青岛的地价估算，静态价值在10亿...   \n",
       "4             5  　　全景网11月30日讯 外围股市造好，带动港股今早造好，恒指高开后反覆上升，最高升252点...   \n",
       "...         ...                                                ...   \n",
       "582998  1036918  红星资本局10月13日消息，刚刚，京东发言人发文称，关注到有谣言称“刘姓商人涉嫌违法被抓”，...   \n",
       "582999  1036959  京东集团（09618，HK）13日盘中大幅跳水，截至发稿，该股跌逾10%，股价至105港元左...   \n",
       "583000  1036980  上证报中国证券网讯京东13日在官微表示，公司关注到有谣言称“刘姓商人涉嫌违法被抓”，该谣言被...   \n",
       "583001  1036986  京东发言人10月13日通过官方微博发文称：我们关注到有谣言称“刘姓商人涉嫌违法被抓”，该谣言...   \n",
       "583002  1036992  10月13日，京东发言人发文称，我们关注到有谣言称“刘姓商人涉嫌违法被抓”，该谣言被别有用心...   \n",
       "\n",
       "       Explicit_Company  label  \n",
       "0                  建设银行      1  \n",
       "1                  农业银行      1  \n",
       "2             外运发展 中国国航      1  \n",
       "3            *ST生物 胜利股份      1  \n",
       "4                 *ST高升      1  \n",
       "...                 ...    ...  \n",
       "582998              京东方      0  \n",
       "582999              京东方      0  \n",
       "583000              京东方      0  \n",
       "583001              京东方      0  \n",
       "583002              京东方      0  \n",
       "\n",
       "[583003 rows x 4 columns]"
      ]
     },
     "execution_count": 10,
     "metadata": {},
     "output_type": "execute_result"
    }
   ],
   "source": [
    "merged_df"
   ]
  },
  {
   "cell_type": "code",
   "execution_count": 11,
   "id": "4797722abd2750f2",
   "metadata": {
    "ExecuteTime": {
     "end_time": "2023-11-26T09:40:42.017320Z",
     "start_time": "2023-11-26T09:40:41.693958Z"
    },
    "collapsed": false
   },
   "outputs": [
    {
     "data": {
      "text/html": [
       "<div>\n",
       "<style scoped>\n",
       "    .dataframe tbody tr th:only-of-type {\n",
       "        vertical-align: middle;\n",
       "    }\n",
       "\n",
       "    .dataframe tbody tr th {\n",
       "        vertical-align: top;\n",
       "    }\n",
       "\n",
       "    .dataframe thead th {\n",
       "        text-align: right;\n",
       "    }\n",
       "</style>\n",
       "<table border=\"1\" class=\"dataframe\">\n",
       "  <thead>\n",
       "    <tr style=\"text-align: right;\">\n",
       "      <th></th>\n",
       "      <th>NewsID</th>\n",
       "      <th>NewsContent</th>\n",
       "      <th>Explicit_Company</th>\n",
       "      <th>label</th>\n",
       "    </tr>\n",
       "  </thead>\n",
       "  <tbody>\n",
       "    <tr>\n",
       "      <th>count</th>\n",
       "      <td>5.830030e+05</td>\n",
       "      <td>583003</td>\n",
       "      <td>583003</td>\n",
       "      <td>583003.000000</td>\n",
       "    </tr>\n",
       "    <tr>\n",
       "      <th>unique</th>\n",
       "      <td>NaN</td>\n",
       "      <td>583003</td>\n",
       "      <td>132537</td>\n",
       "      <td>NaN</td>\n",
       "    </tr>\n",
       "    <tr>\n",
       "      <th>top</th>\n",
       "      <td>NaN</td>\n",
       "      <td>本报记者 田雨 李京华    　　中国建设银行股份有限公司原董事长张恩照受贿案３日一审宣...</td>\n",
       "      <td>ST生态</td>\n",
       "      <td>NaN</td>\n",
       "    </tr>\n",
       "    <tr>\n",
       "      <th>freq</th>\n",
       "      <td>NaN</td>\n",
       "      <td>1</td>\n",
       "      <td>10228</td>\n",
       "      <td>NaN</td>\n",
       "    </tr>\n",
       "    <tr>\n",
       "      <th>mean</th>\n",
       "      <td>5.493142e+05</td>\n",
       "      <td>NaN</td>\n",
       "      <td>NaN</td>\n",
       "      <td>0.936613</td>\n",
       "    </tr>\n",
       "    <tr>\n",
       "      <th>std</th>\n",
       "      <td>2.912981e+05</td>\n",
       "      <td>NaN</td>\n",
       "      <td>NaN</td>\n",
       "      <td>0.243659</td>\n",
       "    </tr>\n",
       "    <tr>\n",
       "      <th>min</th>\n",
       "      <td>1.000000e+00</td>\n",
       "      <td>NaN</td>\n",
       "      <td>NaN</td>\n",
       "      <td>0.000000</td>\n",
       "    </tr>\n",
       "    <tr>\n",
       "      <th>25%</th>\n",
       "      <td>3.075735e+05</td>\n",
       "      <td>NaN</td>\n",
       "      <td>NaN</td>\n",
       "      <td>1.000000</td>\n",
       "    </tr>\n",
       "    <tr>\n",
       "      <th>50%</th>\n",
       "      <td>5.638950e+05</td>\n",
       "      <td>NaN</td>\n",
       "      <td>NaN</td>\n",
       "      <td>1.000000</td>\n",
       "    </tr>\n",
       "    <tr>\n",
       "      <th>75%</th>\n",
       "      <td>7.982495e+05</td>\n",
       "      <td>NaN</td>\n",
       "      <td>NaN</td>\n",
       "      <td>1.000000</td>\n",
       "    </tr>\n",
       "    <tr>\n",
       "      <th>max</th>\n",
       "      <td>1.037035e+06</td>\n",
       "      <td>NaN</td>\n",
       "      <td>NaN</td>\n",
       "      <td>1.000000</td>\n",
       "    </tr>\n",
       "  </tbody>\n",
       "</table>\n",
       "</div>"
      ],
      "text/plain": [
       "              NewsID                                        NewsContent  \\\n",
       "count   5.830030e+05                                             583003   \n",
       "unique           NaN                                             583003   \n",
       "top              NaN  　　本报记者 田雨 李京华    　　中国建设银行股份有限公司原董事长张恩照受贿案３日一审宣...   \n",
       "freq             NaN                                                  1   \n",
       "mean    5.493142e+05                                                NaN   \n",
       "std     2.912981e+05                                                NaN   \n",
       "min     1.000000e+00                                                NaN   \n",
       "25%     3.075735e+05                                                NaN   \n",
       "50%     5.638950e+05                                                NaN   \n",
       "75%     7.982495e+05                                                NaN   \n",
       "max     1.037035e+06                                                NaN   \n",
       "\n",
       "       Explicit_Company          label  \n",
       "count            583003  583003.000000  \n",
       "unique           132537            NaN  \n",
       "top                ST生态            NaN  \n",
       "freq              10228            NaN  \n",
       "mean                NaN       0.936613  \n",
       "std                 NaN       0.243659  \n",
       "min                 NaN       0.000000  \n",
       "25%                 NaN       1.000000  \n",
       "50%                 NaN       1.000000  \n",
       "75%                 NaN       1.000000  \n",
       "max                 NaN       1.000000  "
      ]
     },
     "execution_count": 11,
     "metadata": {},
     "output_type": "execute_result"
    }
   ],
   "source": [
    "merged_df.describe(include='all')"
   ]
  },
  {
   "cell_type": "code",
   "execution_count": 12,
   "id": "4db9873375c79d9b",
   "metadata": {
    "ExecuteTime": {
     "end_time": "2023-11-26T09:42:19.230282Z",
     "start_time": "2023-11-26T09:40:53.540823Z"
    },
    "collapsed": false
   },
   "outputs": [],
   "source": [
    "# 保存结果到Excel文件中\n",
    "# Save the result to an Excel file\n",
    "merged_df.to_excel('Task1.xlsx', index=False)"
   ]
  },
  {
   "cell_type": "markdown",
   "id": "602e9f272f2c0869",
   "metadata": {
    "collapsed": false
   },
   "source": [
    "至此，Task 1完成\n",
    "我们成功地从原始数据集中提取了583003条至少提及一个中国a股上市公司的新闻，并对这些新闻进行了情感分析，得到了[Task1.xlsx](../Submission_Excel/Task1.xlsx)文件。\n",
    "\n",
    "At this point, Task 1 is completed.\n",
    "We successfully extracted 583003 news from the original data set that mentioned at least one Chinese A-share listed company, and performed sentiment analysis on these news, and obtained the [Task1.xlsx](../Submission_Excel/Task1.xlsx) file."
   ]
  }
 ],
 "metadata": {
  "kernelspec": {
   "display_name": "Python 3",
   "language": "python",
   "name": "python3"
  },
  "language_info": {
   "codemirror_mode": {
    "name": "ipython",
    "version": 2
   },
   "file_extension": ".py",
   "mimetype": "text/x-python",
   "name": "python",
   "nbconvert_exporter": "python",
   "pygments_lexer": "ipython2",
   "version": "2.7.6"
  }
 },
 "nbformat": 4,
 "nbformat_minor": 5
}
