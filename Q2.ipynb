{
 "cells": [
  {
   "cell_type": "markdown",
   "source": [
    "现在，我们已经有了一个完全匹配的数据[Full_Relevant_News](Full_Relevant_News.xlsx)和通过LAC以及thefuzz筛选后的数据[Cleaned_Other_news_with_ORGs_and_Similarities](Cleaned_Other_news_with_ORGs_and_Similarities.xlsx)。\n",
    "现在，我们将这两个数据集合并，得到一个完整的数据集，来进行情感分析。\n"
   ],
   "metadata": {
    "collapsed": false
   },
   "id": "15ce5c4221ecd4b3"
  },
  {
   "cell_type": "code",
   "execution_count": null,
   "id": "initial_id",
   "metadata": {
    "collapsed": true
   },
   "outputs": [],
   "source": []
  }
 ],
 "metadata": {
  "kernelspec": {
   "display_name": "Python 3",
   "language": "python",
   "name": "python3"
  },
  "language_info": {
   "codemirror_mode": {
    "name": "ipython",
    "version": 2
   },
   "file_extension": ".py",
   "mimetype": "text/x-python",
   "name": "python",
   "nbconvert_exporter": "python",
   "pygments_lexer": "ipython2",
   "version": "2.7.6"
  }
 },
 "nbformat": 4,
 "nbformat_minor": 5
}
