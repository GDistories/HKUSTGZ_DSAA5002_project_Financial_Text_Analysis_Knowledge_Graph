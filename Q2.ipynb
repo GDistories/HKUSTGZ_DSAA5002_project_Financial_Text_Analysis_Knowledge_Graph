{
 "cells": [
  {
   "cell_type": "code",
   "execution_count": 1,
   "id": "initial_id",
   "metadata": {
    "collapsed": true,
    "ExecuteTime": {
     "end_time": "2023-11-26T11:39:20.282326Z",
     "start_time": "2023-11-26T11:39:19.536769Z"
    }
   },
   "outputs": [
    {
     "ename": "FileNotFoundError",
     "evalue": "[Errno 2] No such file or directory: '../KnowledgeGraph/hidy.nodes.company.csv'",
     "output_type": "error",
     "traceback": [
      "\u001B[0;31m---------------------------------------------------------------------------\u001B[0m",
      "\u001B[0;31mFileNotFoundError\u001B[0m                         Traceback (most recent call last)",
      "Cell \u001B[0;32mIn[1], line 20\u001B[0m\n\u001B[1;32m     17\u001B[0m relationship_same_industry_path \u001B[38;5;241m=\u001B[39m \u001B[38;5;124m'\u001B[39m\u001B[38;5;124m../KnowledgeGraph/hidy.relationships.same_industry.csv\u001B[39m\u001B[38;5;124m'\u001B[39m\n\u001B[1;32m     18\u001B[0m relationship_supply_path \u001B[38;5;241m=\u001B[39m \u001B[38;5;124m'\u001B[39m\u001B[38;5;124m../KnowledgeGraph/hidy.relationships.supply.csv\u001B[39m\u001B[38;5;124m'\u001B[39m\n\u001B[0;32m---> 20\u001B[0m companies_df \u001B[38;5;241m=\u001B[39m pd\u001B[38;5;241m.\u001B[39mread_csv(companies_path)\n\u001B[1;32m     21\u001B[0m relationship_compete_df \u001B[38;5;241m=\u001B[39m pd\u001B[38;5;241m.\u001B[39mread_csv(relationship_compete_path)\n\u001B[1;32m     22\u001B[0m relationship_cooperate_df \u001B[38;5;241m=\u001B[39m pd\u001B[38;5;241m.\u001B[39mread_csv(relationship_cooperate_path)\n",
      "File \u001B[0;32m~/anaconda3/lib/python3.11/site-packages/pandas/util/_decorators.py:211\u001B[0m, in \u001B[0;36mdeprecate_kwarg.<locals>._deprecate_kwarg.<locals>.wrapper\u001B[0;34m(*args, **kwargs)\u001B[0m\n\u001B[1;32m    209\u001B[0m     \u001B[38;5;28;01melse\u001B[39;00m:\n\u001B[1;32m    210\u001B[0m         kwargs[new_arg_name] \u001B[38;5;241m=\u001B[39m new_arg_value\n\u001B[0;32m--> 211\u001B[0m \u001B[38;5;28;01mreturn\u001B[39;00m func(\u001B[38;5;241m*\u001B[39margs, \u001B[38;5;241m*\u001B[39m\u001B[38;5;241m*\u001B[39mkwargs)\n",
      "File \u001B[0;32m~/anaconda3/lib/python3.11/site-packages/pandas/util/_decorators.py:331\u001B[0m, in \u001B[0;36mdeprecate_nonkeyword_arguments.<locals>.decorate.<locals>.wrapper\u001B[0;34m(*args, **kwargs)\u001B[0m\n\u001B[1;32m    325\u001B[0m \u001B[38;5;28;01mif\u001B[39;00m \u001B[38;5;28mlen\u001B[39m(args) \u001B[38;5;241m>\u001B[39m num_allow_args:\n\u001B[1;32m    326\u001B[0m     warnings\u001B[38;5;241m.\u001B[39mwarn(\n\u001B[1;32m    327\u001B[0m         msg\u001B[38;5;241m.\u001B[39mformat(arguments\u001B[38;5;241m=\u001B[39m_format_argument_list(allow_args)),\n\u001B[1;32m    328\u001B[0m         \u001B[38;5;167;01mFutureWarning\u001B[39;00m,\n\u001B[1;32m    329\u001B[0m         stacklevel\u001B[38;5;241m=\u001B[39mfind_stack_level(),\n\u001B[1;32m    330\u001B[0m     )\n\u001B[0;32m--> 331\u001B[0m \u001B[38;5;28;01mreturn\u001B[39;00m func(\u001B[38;5;241m*\u001B[39margs, \u001B[38;5;241m*\u001B[39m\u001B[38;5;241m*\u001B[39mkwargs)\n",
      "File \u001B[0;32m~/anaconda3/lib/python3.11/site-packages/pandas/io/parsers/readers.py:950\u001B[0m, in \u001B[0;36mread_csv\u001B[0;34m(filepath_or_buffer, sep, delimiter, header, names, index_col, usecols, squeeze, prefix, mangle_dupe_cols, dtype, engine, converters, true_values, false_values, skipinitialspace, skiprows, skipfooter, nrows, na_values, keep_default_na, na_filter, verbose, skip_blank_lines, parse_dates, infer_datetime_format, keep_date_col, date_parser, dayfirst, cache_dates, iterator, chunksize, compression, thousands, decimal, lineterminator, quotechar, quoting, doublequote, escapechar, comment, encoding, encoding_errors, dialect, error_bad_lines, warn_bad_lines, on_bad_lines, delim_whitespace, low_memory, memory_map, float_precision, storage_options)\u001B[0m\n\u001B[1;32m    935\u001B[0m kwds_defaults \u001B[38;5;241m=\u001B[39m _refine_defaults_read(\n\u001B[1;32m    936\u001B[0m     dialect,\n\u001B[1;32m    937\u001B[0m     delimiter,\n\u001B[0;32m   (...)\u001B[0m\n\u001B[1;32m    946\u001B[0m     defaults\u001B[38;5;241m=\u001B[39m{\u001B[38;5;124m\"\u001B[39m\u001B[38;5;124mdelimiter\u001B[39m\u001B[38;5;124m\"\u001B[39m: \u001B[38;5;124m\"\u001B[39m\u001B[38;5;124m,\u001B[39m\u001B[38;5;124m\"\u001B[39m},\n\u001B[1;32m    947\u001B[0m )\n\u001B[1;32m    948\u001B[0m kwds\u001B[38;5;241m.\u001B[39mupdate(kwds_defaults)\n\u001B[0;32m--> 950\u001B[0m \u001B[38;5;28;01mreturn\u001B[39;00m _read(filepath_or_buffer, kwds)\n",
      "File \u001B[0;32m~/anaconda3/lib/python3.11/site-packages/pandas/io/parsers/readers.py:605\u001B[0m, in \u001B[0;36m_read\u001B[0;34m(filepath_or_buffer, kwds)\u001B[0m\n\u001B[1;32m    602\u001B[0m _validate_names(kwds\u001B[38;5;241m.\u001B[39mget(\u001B[38;5;124m\"\u001B[39m\u001B[38;5;124mnames\u001B[39m\u001B[38;5;124m\"\u001B[39m, \u001B[38;5;28;01mNone\u001B[39;00m))\n\u001B[1;32m    604\u001B[0m \u001B[38;5;66;03m# Create the parser.\u001B[39;00m\n\u001B[0;32m--> 605\u001B[0m parser \u001B[38;5;241m=\u001B[39m TextFileReader(filepath_or_buffer, \u001B[38;5;241m*\u001B[39m\u001B[38;5;241m*\u001B[39mkwds)\n\u001B[1;32m    607\u001B[0m \u001B[38;5;28;01mif\u001B[39;00m chunksize \u001B[38;5;129;01mor\u001B[39;00m iterator:\n\u001B[1;32m    608\u001B[0m     \u001B[38;5;28;01mreturn\u001B[39;00m parser\n",
      "File \u001B[0;32m~/anaconda3/lib/python3.11/site-packages/pandas/io/parsers/readers.py:1442\u001B[0m, in \u001B[0;36mTextFileReader.__init__\u001B[0;34m(self, f, engine, **kwds)\u001B[0m\n\u001B[1;32m   1439\u001B[0m     \u001B[38;5;28mself\u001B[39m\u001B[38;5;241m.\u001B[39moptions[\u001B[38;5;124m\"\u001B[39m\u001B[38;5;124mhas_index_names\u001B[39m\u001B[38;5;124m\"\u001B[39m] \u001B[38;5;241m=\u001B[39m kwds[\u001B[38;5;124m\"\u001B[39m\u001B[38;5;124mhas_index_names\u001B[39m\u001B[38;5;124m\"\u001B[39m]\n\u001B[1;32m   1441\u001B[0m \u001B[38;5;28mself\u001B[39m\u001B[38;5;241m.\u001B[39mhandles: IOHandles \u001B[38;5;241m|\u001B[39m \u001B[38;5;28;01mNone\u001B[39;00m \u001B[38;5;241m=\u001B[39m \u001B[38;5;28;01mNone\u001B[39;00m\n\u001B[0;32m-> 1442\u001B[0m \u001B[38;5;28mself\u001B[39m\u001B[38;5;241m.\u001B[39m_engine \u001B[38;5;241m=\u001B[39m \u001B[38;5;28mself\u001B[39m\u001B[38;5;241m.\u001B[39m_make_engine(f, \u001B[38;5;28mself\u001B[39m\u001B[38;5;241m.\u001B[39mengine)\n",
      "File \u001B[0;32m~/anaconda3/lib/python3.11/site-packages/pandas/io/parsers/readers.py:1735\u001B[0m, in \u001B[0;36mTextFileReader._make_engine\u001B[0;34m(self, f, engine)\u001B[0m\n\u001B[1;32m   1733\u001B[0m     \u001B[38;5;28;01mif\u001B[39;00m \u001B[38;5;124m\"\u001B[39m\u001B[38;5;124mb\u001B[39m\u001B[38;5;124m\"\u001B[39m \u001B[38;5;129;01mnot\u001B[39;00m \u001B[38;5;129;01min\u001B[39;00m mode:\n\u001B[1;32m   1734\u001B[0m         mode \u001B[38;5;241m+\u001B[39m\u001B[38;5;241m=\u001B[39m \u001B[38;5;124m\"\u001B[39m\u001B[38;5;124mb\u001B[39m\u001B[38;5;124m\"\u001B[39m\n\u001B[0;32m-> 1735\u001B[0m \u001B[38;5;28mself\u001B[39m\u001B[38;5;241m.\u001B[39mhandles \u001B[38;5;241m=\u001B[39m get_handle(\n\u001B[1;32m   1736\u001B[0m     f,\n\u001B[1;32m   1737\u001B[0m     mode,\n\u001B[1;32m   1738\u001B[0m     encoding\u001B[38;5;241m=\u001B[39m\u001B[38;5;28mself\u001B[39m\u001B[38;5;241m.\u001B[39moptions\u001B[38;5;241m.\u001B[39mget(\u001B[38;5;124m\"\u001B[39m\u001B[38;5;124mencoding\u001B[39m\u001B[38;5;124m\"\u001B[39m, \u001B[38;5;28;01mNone\u001B[39;00m),\n\u001B[1;32m   1739\u001B[0m     compression\u001B[38;5;241m=\u001B[39m\u001B[38;5;28mself\u001B[39m\u001B[38;5;241m.\u001B[39moptions\u001B[38;5;241m.\u001B[39mget(\u001B[38;5;124m\"\u001B[39m\u001B[38;5;124mcompression\u001B[39m\u001B[38;5;124m\"\u001B[39m, \u001B[38;5;28;01mNone\u001B[39;00m),\n\u001B[1;32m   1740\u001B[0m     memory_map\u001B[38;5;241m=\u001B[39m\u001B[38;5;28mself\u001B[39m\u001B[38;5;241m.\u001B[39moptions\u001B[38;5;241m.\u001B[39mget(\u001B[38;5;124m\"\u001B[39m\u001B[38;5;124mmemory_map\u001B[39m\u001B[38;5;124m\"\u001B[39m, \u001B[38;5;28;01mFalse\u001B[39;00m),\n\u001B[1;32m   1741\u001B[0m     is_text\u001B[38;5;241m=\u001B[39mis_text,\n\u001B[1;32m   1742\u001B[0m     errors\u001B[38;5;241m=\u001B[39m\u001B[38;5;28mself\u001B[39m\u001B[38;5;241m.\u001B[39moptions\u001B[38;5;241m.\u001B[39mget(\u001B[38;5;124m\"\u001B[39m\u001B[38;5;124mencoding_errors\u001B[39m\u001B[38;5;124m\"\u001B[39m, \u001B[38;5;124m\"\u001B[39m\u001B[38;5;124mstrict\u001B[39m\u001B[38;5;124m\"\u001B[39m),\n\u001B[1;32m   1743\u001B[0m     storage_options\u001B[38;5;241m=\u001B[39m\u001B[38;5;28mself\u001B[39m\u001B[38;5;241m.\u001B[39moptions\u001B[38;5;241m.\u001B[39mget(\u001B[38;5;124m\"\u001B[39m\u001B[38;5;124mstorage_options\u001B[39m\u001B[38;5;124m\"\u001B[39m, \u001B[38;5;28;01mNone\u001B[39;00m),\n\u001B[1;32m   1744\u001B[0m )\n\u001B[1;32m   1745\u001B[0m \u001B[38;5;28;01massert\u001B[39;00m \u001B[38;5;28mself\u001B[39m\u001B[38;5;241m.\u001B[39mhandles \u001B[38;5;129;01mis\u001B[39;00m \u001B[38;5;129;01mnot\u001B[39;00m \u001B[38;5;28;01mNone\u001B[39;00m\n\u001B[1;32m   1746\u001B[0m f \u001B[38;5;241m=\u001B[39m \u001B[38;5;28mself\u001B[39m\u001B[38;5;241m.\u001B[39mhandles\u001B[38;5;241m.\u001B[39mhandle\n",
      "File \u001B[0;32m~/anaconda3/lib/python3.11/site-packages/pandas/io/common.py:856\u001B[0m, in \u001B[0;36mget_handle\u001B[0;34m(path_or_buf, mode, encoding, compression, memory_map, is_text, errors, storage_options)\u001B[0m\n\u001B[1;32m    851\u001B[0m \u001B[38;5;28;01melif\u001B[39;00m \u001B[38;5;28misinstance\u001B[39m(handle, \u001B[38;5;28mstr\u001B[39m):\n\u001B[1;32m    852\u001B[0m     \u001B[38;5;66;03m# Check whether the filename is to be opened in binary mode.\u001B[39;00m\n\u001B[1;32m    853\u001B[0m     \u001B[38;5;66;03m# Binary mode does not support 'encoding' and 'newline'.\u001B[39;00m\n\u001B[1;32m    854\u001B[0m     \u001B[38;5;28;01mif\u001B[39;00m ioargs\u001B[38;5;241m.\u001B[39mencoding \u001B[38;5;129;01mand\u001B[39;00m \u001B[38;5;124m\"\u001B[39m\u001B[38;5;124mb\u001B[39m\u001B[38;5;124m\"\u001B[39m \u001B[38;5;129;01mnot\u001B[39;00m \u001B[38;5;129;01min\u001B[39;00m ioargs\u001B[38;5;241m.\u001B[39mmode:\n\u001B[1;32m    855\u001B[0m         \u001B[38;5;66;03m# Encoding\u001B[39;00m\n\u001B[0;32m--> 856\u001B[0m         handle \u001B[38;5;241m=\u001B[39m \u001B[38;5;28mopen\u001B[39m(\n\u001B[1;32m    857\u001B[0m             handle,\n\u001B[1;32m    858\u001B[0m             ioargs\u001B[38;5;241m.\u001B[39mmode,\n\u001B[1;32m    859\u001B[0m             encoding\u001B[38;5;241m=\u001B[39mioargs\u001B[38;5;241m.\u001B[39mencoding,\n\u001B[1;32m    860\u001B[0m             errors\u001B[38;5;241m=\u001B[39merrors,\n\u001B[1;32m    861\u001B[0m             newline\u001B[38;5;241m=\u001B[39m\u001B[38;5;124m\"\u001B[39m\u001B[38;5;124m\"\u001B[39m,\n\u001B[1;32m    862\u001B[0m         )\n\u001B[1;32m    863\u001B[0m     \u001B[38;5;28;01melse\u001B[39;00m:\n\u001B[1;32m    864\u001B[0m         \u001B[38;5;66;03m# Binary mode\u001B[39;00m\n\u001B[1;32m    865\u001B[0m         handle \u001B[38;5;241m=\u001B[39m \u001B[38;5;28mopen\u001B[39m(handle, ioargs\u001B[38;5;241m.\u001B[39mmode)\n",
      "\u001B[0;31mFileNotFoundError\u001B[0m: [Errno 2] No such file or directory: '../KnowledgeGraph/hidy.nodes.company.csv'"
     ]
    }
   ],
   "source": [
    "import pandas as pd\n",
    "from neo4j import GraphDatabase\n",
    "from tqdm import tqdm\n",
    "\n",
    "uri = \"neo4j://localhost:7687\"  \n",
    "username = \"neo4j\"\n",
    "password = \"912699176\"\n",
    "\n",
    "driver = GraphDatabase.driver(uri, auth=(username, password))\n",
    "\n",
    "\n",
    "companies_path = '../KnowledgeGraph/hidy.nodes.company.csv'\n",
    "relationship_compete_path = '../KnowledgeGraph/hidy.relationships.compete.csv'\n",
    "relationship_cooperate_path = '../KnowledgeGraph/hidy.relationships.cooperate.csv'\n",
    "relationship_dispute_path = '../KnowledgeGraph/hidy.relationships.dispute.csv'\n",
    "relationship_invest_path = '../KnowledgeGraph/hidy.relationships.invest.csv'\n",
    "relationship_same_industry_path = '../KnowledgeGraph/hidy.relationships.same_industry.csv'\n",
    "relationship_supply_path = '../KnowledgeGraph/hidy.relationships.supply.csv'\n",
    "\n",
    "companies_df = pd.read_csv(companies_path)\n",
    "relationship_compete_df = pd.read_csv(relationship_compete_path)\n",
    "relationship_cooperate_df = pd.read_csv(relationship_cooperate_path)\n",
    "relationship_dispute_df = pd.read_csv(relationship_dispute_path)\n",
    "relationship_invest_df = pd.read_csv(relationship_invest_path)\n",
    "relationship_same_industry_df = pd.read_csv(relationship_same_industry_path)\n",
    "relationship_supply_df = pd.read_csv(relationship_supply_path)"
   ]
  },
  {
   "cell_type": "code",
   "execution_count": 2,
   "outputs": [
    {
     "data": {
      "text/plain": "{'Companies Columns': [':ID', 'company_name', 'code', ':LABEL'],\n 'Compete Relationship Columns': [':START_ID', ':END_ID', ':TYPE', 'time'],\n 'Cooperate Relationship Columns': [':START_ID', ':END_ID', ':TYPE', 'time'],\n 'Dispute Relationship Columns': [':START_ID', ':END_ID', ':TYPE', 'time'],\n 'Invest Relationship Columns': [':START_ID', ':END_ID', ':TYPE'],\n 'Same Industry Relationship Columns': [':START_ID',\n  ':END_ID',\n  ':TYPE',\n  'time'],\n 'Supply Relationship Columns': [':START_ID', ':END_ID', ':TYPE']}"
     },
     "execution_count": 2,
     "metadata": {},
     "output_type": "execute_result"
    }
   ],
   "source": [
    "columns_info = {\n",
    "    \"Companies Columns\": companies_df.columns.tolist(),\n",
    "    \"Compete Relationship Columns\": relationship_compete_df.columns.tolist(),\n",
    "    \"Cooperate Relationship Columns\": relationship_cooperate_df.columns.tolist(),\n",
    "    \"Dispute Relationship Columns\": relationship_dispute_df.columns.tolist(),\n",
    "    \"Invest Relationship Columns\": relationship_invest_df.columns.tolist(),\n",
    "    \"Same Industry Relationship Columns\": relationship_same_industry_df.columns.tolist(),\n",
    "    \"Supply Relationship Columns\": relationship_supply_df.columns.tolist()\n",
    "}\n",
    "\n",
    "columns_info"
   ],
   "metadata": {
    "collapsed": false,
    "ExecuteTime": {
     "end_time": "2023-11-25T08:51:25.906278Z",
     "start_time": "2023-11-25T08:51:25.900686Z"
    }
   },
   "id": "460ae3b4e0580323"
  },
  {
   "cell_type": "code",
   "execution_count": 3,
   "outputs": [
    {
     "name": "stderr",
     "output_type": "stream",
     "text": [
      "Company Nodes: 100%|██████████| 3974/3974 [00:27<00:00, 143.85it/s]\n"
     ]
    }
   ],
   "source": [
    "def create_company_node(tx, id, name, code, label):\n",
    "    query = (\n",
    "        \"MERGE (:Company {id: $id, name: $name, code: $code, label: $label})\"\n",
    "    )\n",
    "    tx.run(query, id=id, name=name, code=code, label=label)\n",
    "\n",
    "# create company node\n",
    "with driver.session() as session:\n",
    "    for index, row in tqdm(companies_df.iterrows(), total=companies_df.shape[0], desc=\"Company Nodes\"):\n",
    "        session.execute_write(create_company_node, row[':ID'], row['company_name'], row['code'], row[':LABEL'])"
   ],
   "metadata": {
    "collapsed": false,
    "ExecuteTime": {
     "end_time": "2023-11-25T08:51:54.391018Z",
     "start_time": "2023-11-25T08:51:26.743291Z"
    }
   },
   "id": "f1ac815b93b386d7"
  },
  {
   "cell_type": "code",
   "execution_count": 5,
   "outputs": [],
   "source": [
    "def create_dynamic_relation(tx, start_id, end_id, relation_type, time):\n",
    "    query = (\n",
    "        f\"MATCH (a:Company {{id: $start_id}}), (b:Company {{id: $end_id}}) \"\n",
    "        f\"MERGE (a)-[:{relation_type} {{time: $time}}]->(b)\"\n",
    "    )\n",
    "    tx.run(query, start_id=start_id, end_id=end_id, time=time)\n",
    "\n",
    "def create_dynamic_relation_without_time(tx, start_id, end_id, relation_type):\n",
    "    query = (\n",
    "        f\"MATCH (a:Company {{id: $start_id}}), (b:Company {{id: $end_id}}) \"\n",
    "        f\"MERGE (a)-[:{relation_type}]->(b)\"\n",
    "    )\n",
    "    tx.run(query, start_id=start_id, end_id=end_id)"
   ],
   "metadata": {
    "collapsed": false,
    "ExecuteTime": {
     "end_time": "2023-11-25T08:52:02.419031Z",
     "start_time": "2023-11-25T08:52:02.409939Z"
    }
   },
   "id": "e53331497004c161"
  },
  {
   "cell_type": "markdown",
   "source": [
    "For compete, cooperate, dispute and same_industry relationship, they have the time column, so we can use the create_dynamic_relation function to create the relationship. \n",
    "\n",
    "But for the invest and supply relationship, they don't have the time column, so we need to use the create_dynamic_relation_without_time function to create the relationship."
   ],
   "metadata": {
    "collapsed": false
   },
   "id": "616781062486dd1a"
  },
  {
   "cell_type": "code",
   "execution_count": 6,
   "outputs": [
    {
     "name": "stderr",
     "output_type": "stream",
     "text": [
      "Compete Relationships: 100%|██████████| 25/25 [00:00<00:00, 80.27it/s]\n",
      "Cooperate Relationships: 100%|██████████| 3603/3603 [00:27<00:00, 129.02it/s]\n",
      "Dispute Relationships: 100%|██████████| 439/439 [00:03<00:00, 110.92it/s]\n",
      "Same Industry Relationships: 100%|██████████| 5596/5596 [00:52<00:00, 107.16it/s]\n"
     ]
    }
   ],
   "source": [
    "with driver.session() as session:\n",
    "    # Create compete relationship\n",
    "    for index, row in tqdm(relationship_compete_df.iterrows(), total=relationship_compete_df.shape[0], desc=\"Compete Relationships\"):\n",
    "        session.execute_write(create_dynamic_relation, row[':START_ID'], row[':END_ID'], row[':TYPE'], row['time'])\n",
    "    \n",
    "    # Create cooperate relationship\n",
    "    for index, row in tqdm(relationship_cooperate_df.iterrows(), total=relationship_cooperate_df.shape[0], desc=\"Cooperate Relationships\"):\n",
    "        session.execute_write(create_dynamic_relation, row[':START_ID'], row[':END_ID'], row[':TYPE'], row['time'])\n",
    "    \n",
    "    # Create dispute relationship\n",
    "    for index, row in tqdm(relationship_dispute_df.iterrows(), total=relationship_dispute_df.shape[0], desc=\"Dispute Relationships\"):\n",
    "        session.execute_write(create_dynamic_relation, row[':START_ID'], row[':END_ID'], row[':TYPE'], row['time'])\n",
    "        \n",
    "    # Create same_industry relationship\n",
    "    for index, row in tqdm(relationship_same_industry_df.iterrows(), total=relationship_same_industry_df.shape[0], desc=\"Same Industry Relationships\"):\n",
    "        session.execute_write(create_dynamic_relation, row[':START_ID'], row[':END_ID'], row[':TYPE'], row['time'])\n"
   ],
   "metadata": {
    "collapsed": false,
    "ExecuteTime": {
     "end_time": "2023-11-25T08:53:27.863980Z",
     "start_time": "2023-11-25T08:52:03.439257Z"
    }
   },
   "id": "31a2189c67cb750a"
  },
  {
   "cell_type": "code",
   "execution_count": 7,
   "outputs": [
    {
     "name": "stderr",
     "output_type": "stream",
     "text": [
      "Invest Relationships: 100%|██████████| 559/559 [00:05<00:00, 109.06it/s]\n",
      "Supply Relationships: 100%|██████████| 1444/1444 [00:13<00:00, 104.67it/s]\n"
     ]
    }
   ],
   "source": [
    "with driver.session() as session:\n",
    "    # Create invest relationship\n",
    "    for index, row in tqdm(relationship_invest_df.iterrows(), total=relationship_invest_df.shape[0], desc=\"Invest Relationships\"):\n",
    "        session.execute_write(create_dynamic_relation_without_time, row[':START_ID'], row[':END_ID'], row[':TYPE'])\n",
    "        \n",
    "    # Create supply relationship\n",
    "    for index, row in tqdm(relationship_supply_df.iterrows(), total=relationship_supply_df.shape[0], desc=\"Supply Relationships\"):\n",
    "        session.execute_write(create_dynamic_relation_without_time, row[':START_ID'], row[':END_ID'], row[':TYPE'])"
   ],
   "metadata": {
    "collapsed": false,
    "ExecuteTime": {
     "end_time": "2023-11-25T08:53:46.793577Z",
     "start_time": "2023-11-25T08:53:27.865985Z"
    }
   },
   "id": "6e246fb0eaaeeadb"
  },
  {
   "cell_type": "code",
   "execution_count": null,
   "outputs": [],
   "source": [],
   "metadata": {
    "collapsed": false
   },
   "id": "dbe62b2cc04256f"
  },
  {
   "cell_type": "code",
   "execution_count": null,
   "outputs": [],
   "source": [],
   "metadata": {
    "collapsed": false
   },
   "id": "ca1b644331d46c2c"
  },
  {
   "cell_type": "code",
   "execution_count": null,
   "outputs": [],
   "source": [],
   "metadata": {
    "collapsed": false
   },
   "id": "7834ed6707812ec9"
  },
  {
   "cell_type": "code",
   "execution_count": null,
   "outputs": [],
   "source": [
    "def fetch_relationships(tx, company_name):\n",
    "    query = (\n",
    "        \"MATCH (a:Company {name: $company_name})-[r]->(b) \"\n",
    "        \"RETURN type(r) as relation_type, b.name as company_name\"\n",
    "    )\n",
    "    result = tx.run(query, company_name=company_name)\n",
    "    return [(record[\"relation_type\"], record[\"company_name\"]) for record in result]\n"
   ],
   "metadata": {
    "collapsed": false
   },
   "id": "6968a111d669516f"
  },
  {
   "cell_type": "code",
   "execution_count": null,
   "outputs": [],
   "source": [
    "import pandas as pd\n",
    "df = pd.read_csv(\"Test.xlsx\")\n",
    "\n",
    "negative_relations = ['compete', 'dispute']\n",
    "positive_relations = ['cooperate', 'invest', 'same_industry', 'supply']  # 根据实际情况调整\n",
    "\n",
    "df['Implicit_Negative_Company'] = None\n",
    "df['Implicit_Positive_Company'] = None\n",
    "\n",
    "with driver.session() as session:\n",
    "    for index, row in df.iterrows():\n",
    "        companies = row['name'].split(' ')\n",
    "        implicit_negative = []\n",
    "        implicit_positive = []\n",
    "\n",
    "        for company in companies:\n",
    "            relationships = session.read_transaction(fetch_relationships, company)\n",
    "\n",
    "            for relation_type, related_company in relationships:\n",
    "                if row['label'] == 1:\n",
    "                    if relation_type in negative_relations:\n",
    "                        implicit_negative.append(related_company)\n",
    "                    elif relation_type in positive_relations:\n",
    "                        implicit_positive.append(related_company)\n",
    "                else:\n",
    "                    if relation_type in positive_relations:\n",
    "                        implicit_negative.append(related_company)\n",
    "                    elif relation_type in negative_relations:\n",
    "                        implicit_positive.append(related_company)\n",
    "        \n",
    "        df.at[index, 'Implicit_Negative_Company'] = ' '.join(implicit_negative) if implicit_negative else 'None'\n",
    "        df.at[index, 'Implicit_Positive_Company'] = ' '.join(implicit_positive) if implicit_positive else 'None'\n"
   ],
   "metadata": {
    "collapsed": false
   },
   "id": "200f0b02c6277155"
  }
 ],
 "metadata": {
  "kernelspec": {
   "display_name": "Python 3",
   "language": "python",
   "name": "python3"
  },
  "language_info": {
   "codemirror_mode": {
    "name": "ipython",
    "version": 2
   },
   "file_extension": ".py",
   "mimetype": "text/x-python",
   "name": "python",
   "nbconvert_exporter": "python",
   "pygments_lexer": "ipython2",
   "version": "2.7.6"
  }
 },
 "nbformat": 4,
 "nbformat_minor": 5
}
