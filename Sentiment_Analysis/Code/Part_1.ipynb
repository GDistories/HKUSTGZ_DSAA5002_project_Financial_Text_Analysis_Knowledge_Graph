{
  "nbformat": 4,
  "nbformat_minor": 0,
  "metadata": {
    "colab": {
      "provenance": [],
      "machine_shape": "hm"
    },
    "kernelspec": {
      "name": "python3",
      "display_name": "Python 3"
    },
    "language_info": {
      "name": "python"
    }
  },
  "cells": [
    {
      "cell_type": "code",
      "source": [
        "# Part 1\n",
        "part_num = 1\n",
        "\n",
        "# 构建文件名\n",
        "input_file = f'/content/drive/MyDrive/dsaa5002_project/Merged_News_Part_{part_num}.xlsx'\n",
        "output_file = f'/content/drive/MyDrive/dsaa5002_project/Result_{part_num}.xlsx'"
      ],
      "metadata": {
        "id": "26wAMZeHhVP-"
      },
      "execution_count": null,
      "outputs": []
    },
    {
      "cell_type": "code",
      "source": [
        "from google.colab import drive\n",
        "drive.mount('/content/drive')"
      ],
      "metadata": {
        "colab": {
          "base_uri": "https://localhost:8080/"
        },
        "id": "vGU5u4QJqwFp",
        "outputId": "70b473f7-c3c9-4a03-a319-ac70adc11e45"
      },
      "execution_count": null,
      "outputs": [
        {
          "output_type": "stream",
          "name": "stdout",
          "text": [
            "Drive already mounted at /content/drive; to attempt to forcibly remount, call drive.mount(\"/content/drive\", force_remount=True).\n"
          ]
        }
      ]
    },
    {
      "cell_type": "code",
      "execution_count": null,
      "metadata": {
        "id": "e-SrCKYuqLIe"
      },
      "outputs": [],
      "source": [
        "import pandas as pd\n",
        "from transformers import AutoModelForSequenceClassification, BertTokenizer\n",
        "import torch\n",
        "from tqdm import tqdm\n",
        "\n",
        "# 假设df是您的数据框\n",
        "df = pd.read_excel(input_file)"
      ]
    },
    {
      "cell_type": "code",
      "source": [
        "# 加载模型和分词器\n",
        "tokenizer = BertTokenizer.from_pretrained('IDEA-CCNL/Erlangshen-Roberta-110M-Sentiment')\n",
        "model = AutoModelForSequenceClassification.from_pretrained('IDEA-CCNL/Erlangshen-Roberta-110M-Sentiment')"
      ],
      "metadata": {
        "id": "0VJs_RH_Qn2U"
      },
      "execution_count": null,
      "outputs": []
    },
    {
      "cell_type": "code",
      "source": [
        "# 定义批处理大小\n",
        "batch_size = 128  # 根据您的计算资源调整\n",
        "\n",
        "# 函数来处理一个批次的数据\n",
        "def process_batch(texts):\n",
        "    inputs = tokenizer(texts, padding=True, truncation=True, max_length=512, return_tensors=\"pt\")\n",
        "    with torch.no_grad():\n",
        "        outputs = model(**inputs)\n",
        "    return torch.nn.functional.softmax(outputs.logits, dim=-1)\n",
        "\n",
        "# 使用tqdm来创建一个进度条\n",
        "results = []\n",
        "for i in tqdm(range(0, len(df), batch_size), desc=\"Processing batches\"):\n",
        "    batch_texts = df['NewsContent'][i:i+batch_size].tolist()\n",
        "    batch_results = process_batch(batch_texts)\n",
        "    results.extend(batch_results)\n",
        "\n",
        "# 将结果添加到数据框\n",
        "df['label'] = [result.argmax().item() for result in results]"
      ],
      "metadata": {
        "colab": {
          "base_uri": "https://localhost:8080/"
        },
        "id": "vRbZNFsnXduR",
        "outputId": "f6495db3-feb8-4857-ee24-6e234fe7fe26"
      },
      "execution_count": 17,
      "outputs": [
        {
          "output_type": "stream",
          "name": "stderr",
          "text": [
            "Processing batches: 100%|██████████| 380/380 [7:31:29<00:00, 71.29s/it]\n"
          ]
        }
      ]
    },
    {
      "cell_type": "code",
      "source": [
        "df.to_excel(output_file)"
      ],
      "metadata": {
        "id": "ajHfJOOmboGG"
      },
      "execution_count": 18,
      "outputs": []
    }
  ]
}